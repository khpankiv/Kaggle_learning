{
  "cells": [
    {
      "cell_type": "markdown",
      "metadata": {
        "id": "view-in-github",
        "colab_type": "text"
      },
      "source": [
        "<a href=\"https://colab.research.google.com/github/khpankiv/Kaggle_learning/blob/main/ell_feedback_regres_1_output.ipynb\" target=\"_parent\"><img src=\"https://colab.research.google.com/assets/colab-badge.svg\" alt=\"Open In Colab\"/></a>"
      ]
    },
    {
      "cell_type": "markdown",
      "source": [
        "**For using in Colab**"
      ],
      "metadata": {
        "id": "Y_hFDX1T2jMx"
      }
    },
    {
      "cell_type": "markdown",
      "source": [
        "regresion\n",
        "measure distanse (the accepted error with rare numbers calculate from usual classes\n"
      ],
      "metadata": {
        "id": "JRmOZBFr07En"
      }
    },
    {
      "cell_type": "markdown",
      "metadata": {
        "id": "o4LbkUiJFXzK"
      },
      "source": [
        "# **Setup**"
      ]
    },
    {
      "cell_type": "code",
      "execution_count": 2,
      "metadata": {
        "id": "Ex-mHNlBFXzP",
        "colab": {
          "base_uri": "https://localhost:8080/"
        },
        "outputId": "6738da14-a83b-4e5d-c016-c1d78438aaa1"
      },
      "outputs": [
        {
          "output_type": "stream",
          "name": "stdout",
          "text": [
            "\u001b[K     |████████████████████████████████| 4.9 MB 4.8 MB/s \n",
            "\u001b[K     |████████████████████████████████| 498.0 MB 12 kB/s \n",
            "\u001b[K     |████████████████████████████████| 462 kB 62.5 MB/s \n",
            "\u001b[K     |████████████████████████████████| 1.4 MB 48.9 MB/s \n",
            "\u001b[K     |████████████████████████████████| 5.8 MB 53.5 MB/s \n",
            "\u001b[?25h"
          ]
        }
      ],
      "source": [
        "#A dependency of the preprocessing for BERT inputs\n",
        "!pip install -q -U \"tensorflow-text==2.8.*\""
      ]
    },
    {
      "cell_type": "code",
      "execution_count": 3,
      "metadata": {
        "id": "qaABTKcFFXzQ"
      },
      "outputs": [],
      "source": [
        "import pandas as pd\n",
        "import numpy as np\n",
        "import tensorflow as tf\n",
        "import tensorflow_hub as hub\n",
        "import tensorflow_text as text\n",
        "import matplotlib.pyplot as plt"
      ]
    },
    {
      "cell_type": "markdown",
      "metadata": {
        "id": "_RfSQGv9FXzQ"
      },
      "source": [
        "# **Read the datasets**"
      ]
    },
    {
      "cell_type": "code",
      "source": [
        "from google.colab import files\n",
        "files.upload()\n",
        "! mkdir ~/.kaggle\n",
        "! cp kaggle.json ~/.kaggle/\n",
        "! chmod 600 ~/.kaggle/kaggle.json\n",
        "!kaggle competitions download -c feedback-prize-english-language-learning\n",
        "!mkdir ELL\n",
        "! unzip feedback-prize-english-language-learning.zip -d ELL"
      ],
      "metadata": {
        "colab": {
          "base_uri": "https://localhost:8080/",
          "height": 229
        },
        "id": "iM3bBjaE4LH9",
        "outputId": "cf69ba03-c583-4dde-a2b3-b5d2d4c476ef"
      },
      "execution_count": 4,
      "outputs": [
        {
          "output_type": "display_data",
          "data": {
            "text/plain": [
              "<IPython.core.display.HTML object>"
            ],
            "text/html": [
              "\n",
              "     <input type=\"file\" id=\"files-0c123a47-5b75-4be7-ad6c-bece684fef26\" name=\"files[]\" multiple disabled\n",
              "        style=\"border:none\" />\n",
              "     <output id=\"result-0c123a47-5b75-4be7-ad6c-bece684fef26\">\n",
              "      Upload widget is only available when the cell has been executed in the\n",
              "      current browser session. Please rerun this cell to enable.\n",
              "      </output>\n",
              "      <script>// Copyright 2017 Google LLC\n",
              "//\n",
              "// Licensed under the Apache License, Version 2.0 (the \"License\");\n",
              "// you may not use this file except in compliance with the License.\n",
              "// You may obtain a copy of the License at\n",
              "//\n",
              "//      http://www.apache.org/licenses/LICENSE-2.0\n",
              "//\n",
              "// Unless required by applicable law or agreed to in writing, software\n",
              "// distributed under the License is distributed on an \"AS IS\" BASIS,\n",
              "// WITHOUT WARRANTIES OR CONDITIONS OF ANY KIND, either express or implied.\n",
              "// See the License for the specific language governing permissions and\n",
              "// limitations under the License.\n",
              "\n",
              "/**\n",
              " * @fileoverview Helpers for google.colab Python module.\n",
              " */\n",
              "(function(scope) {\n",
              "function span(text, styleAttributes = {}) {\n",
              "  const element = document.createElement('span');\n",
              "  element.textContent = text;\n",
              "  for (const key of Object.keys(styleAttributes)) {\n",
              "    element.style[key] = styleAttributes[key];\n",
              "  }\n",
              "  return element;\n",
              "}\n",
              "\n",
              "// Max number of bytes which will be uploaded at a time.\n",
              "const MAX_PAYLOAD_SIZE = 100 * 1024;\n",
              "\n",
              "function _uploadFiles(inputId, outputId) {\n",
              "  const steps = uploadFilesStep(inputId, outputId);\n",
              "  const outputElement = document.getElementById(outputId);\n",
              "  // Cache steps on the outputElement to make it available for the next call\n",
              "  // to uploadFilesContinue from Python.\n",
              "  outputElement.steps = steps;\n",
              "\n",
              "  return _uploadFilesContinue(outputId);\n",
              "}\n",
              "\n",
              "// This is roughly an async generator (not supported in the browser yet),\n",
              "// where there are multiple asynchronous steps and the Python side is going\n",
              "// to poll for completion of each step.\n",
              "// This uses a Promise to block the python side on completion of each step,\n",
              "// then passes the result of the previous step as the input to the next step.\n",
              "function _uploadFilesContinue(outputId) {\n",
              "  const outputElement = document.getElementById(outputId);\n",
              "  const steps = outputElement.steps;\n",
              "\n",
              "  const next = steps.next(outputElement.lastPromiseValue);\n",
              "  return Promise.resolve(next.value.promise).then((value) => {\n",
              "    // Cache the last promise value to make it available to the next\n",
              "    // step of the generator.\n",
              "    outputElement.lastPromiseValue = value;\n",
              "    return next.value.response;\n",
              "  });\n",
              "}\n",
              "\n",
              "/**\n",
              " * Generator function which is called between each async step of the upload\n",
              " * process.\n",
              " * @param {string} inputId Element ID of the input file picker element.\n",
              " * @param {string} outputId Element ID of the output display.\n",
              " * @return {!Iterable<!Object>} Iterable of next steps.\n",
              " */\n",
              "function* uploadFilesStep(inputId, outputId) {\n",
              "  const inputElement = document.getElementById(inputId);\n",
              "  inputElement.disabled = false;\n",
              "\n",
              "  const outputElement = document.getElementById(outputId);\n",
              "  outputElement.innerHTML = '';\n",
              "\n",
              "  const pickedPromise = new Promise((resolve) => {\n",
              "    inputElement.addEventListener('change', (e) => {\n",
              "      resolve(e.target.files);\n",
              "    });\n",
              "  });\n",
              "\n",
              "  const cancel = document.createElement('button');\n",
              "  inputElement.parentElement.appendChild(cancel);\n",
              "  cancel.textContent = 'Cancel upload';\n",
              "  const cancelPromise = new Promise((resolve) => {\n",
              "    cancel.onclick = () => {\n",
              "      resolve(null);\n",
              "    };\n",
              "  });\n",
              "\n",
              "  // Wait for the user to pick the files.\n",
              "  const files = yield {\n",
              "    promise: Promise.race([pickedPromise, cancelPromise]),\n",
              "    response: {\n",
              "      action: 'starting',\n",
              "    }\n",
              "  };\n",
              "\n",
              "  cancel.remove();\n",
              "\n",
              "  // Disable the input element since further picks are not allowed.\n",
              "  inputElement.disabled = true;\n",
              "\n",
              "  if (!files) {\n",
              "    return {\n",
              "      response: {\n",
              "        action: 'complete',\n",
              "      }\n",
              "    };\n",
              "  }\n",
              "\n",
              "  for (const file of files) {\n",
              "    const li = document.createElement('li');\n",
              "    li.append(span(file.name, {fontWeight: 'bold'}));\n",
              "    li.append(span(\n",
              "        `(${file.type || 'n/a'}) - ${file.size} bytes, ` +\n",
              "        `last modified: ${\n",
              "            file.lastModifiedDate ? file.lastModifiedDate.toLocaleDateString() :\n",
              "                                    'n/a'} - `));\n",
              "    const percent = span('0% done');\n",
              "    li.appendChild(percent);\n",
              "\n",
              "    outputElement.appendChild(li);\n",
              "\n",
              "    const fileDataPromise = new Promise((resolve) => {\n",
              "      const reader = new FileReader();\n",
              "      reader.onload = (e) => {\n",
              "        resolve(e.target.result);\n",
              "      };\n",
              "      reader.readAsArrayBuffer(file);\n",
              "    });\n",
              "    // Wait for the data to be ready.\n",
              "    let fileData = yield {\n",
              "      promise: fileDataPromise,\n",
              "      response: {\n",
              "        action: 'continue',\n",
              "      }\n",
              "    };\n",
              "\n",
              "    // Use a chunked sending to avoid message size limits. See b/62115660.\n",
              "    let position = 0;\n",
              "    do {\n",
              "      const length = Math.min(fileData.byteLength - position, MAX_PAYLOAD_SIZE);\n",
              "      const chunk = new Uint8Array(fileData, position, length);\n",
              "      position += length;\n",
              "\n",
              "      const base64 = btoa(String.fromCharCode.apply(null, chunk));\n",
              "      yield {\n",
              "        response: {\n",
              "          action: 'append',\n",
              "          file: file.name,\n",
              "          data: base64,\n",
              "        },\n",
              "      };\n",
              "\n",
              "      let percentDone = fileData.byteLength === 0 ?\n",
              "          100 :\n",
              "          Math.round((position / fileData.byteLength) * 100);\n",
              "      percent.textContent = `${percentDone}% done`;\n",
              "\n",
              "    } while (position < fileData.byteLength);\n",
              "  }\n",
              "\n",
              "  // All done.\n",
              "  yield {\n",
              "    response: {\n",
              "      action: 'complete',\n",
              "    }\n",
              "  };\n",
              "}\n",
              "\n",
              "scope.google = scope.google || {};\n",
              "scope.google.colab = scope.google.colab || {};\n",
              "scope.google.colab._files = {\n",
              "  _uploadFiles,\n",
              "  _uploadFilesContinue,\n",
              "};\n",
              "})(self);\n",
              "</script> "
            ]
          },
          "metadata": {}
        },
        {
          "output_type": "stream",
          "name": "stdout",
          "text": [
            "Saving embedded.npy to embedded.npy\n",
            "Saving kaggle.json to kaggle.json\n",
            "Downloading feedback-prize-english-language-learning.zip to /content\n",
            "  0% 0.00/2.80M [00:00<?, ?B/s]\n",
            "100% 2.80M/2.80M [00:00<00:00, 164MB/s]\n",
            "Archive:  feedback-prize-english-language-learning.zip\n",
            "  inflating: ELL/sample_submission.csv  \n",
            "  inflating: ELL/test.csv            \n",
            "  inflating: ELL/train.csv           \n"
          ]
        }
      ]
    },
    {
      "cell_type": "code",
      "execution_count": null,
      "metadata": {
        "id": "RhM4hlDaI4aD"
      },
      "outputs": [],
      "source": [
        "#test= pd.read_csv(\"./ELL/test.csv\")\n",
        "#test_sub=pd.read_csv(\"./ELL/sample_submission.csv\")"
      ]
    },
    {
      "cell_type": "code",
      "execution_count": 210,
      "metadata": {
        "id": "smOXeI8LFXzR"
      },
      "outputs": [],
      "source": [
        "data= pd.read_csv(\"./ELL/train.csv\")\n",
        "#to make dataset smaller))\n",
        "#train = train.sample(frac = 0.5)\n",
        "#test = train.iloc[:,0:2]\n",
        "#test_sub = train.iloc[:,[0,2]]"
      ]
    },
    {
      "cell_type": "code",
      "source": [
        "plt.hist(data['cohesion'])"
      ],
      "metadata": {
        "id": "CbZ5YrfHmk6M",
        "outputId": "7b0b0ef3-23b7-47f3-d1e7-cee5d215a9eb",
        "colab": {
          "base_uri": "https://localhost:8080/",
          "height": 334
        }
      },
      "execution_count": 211,
      "outputs": [
        {
          "output_type": "execute_result",
          "data": {
            "text/plain": [
              "(array([  10.,   27.,  315.,  790.,    0., 1096.,  988.,  534.,  125.,\n",
              "          26.]),\n",
              " array([1. , 1.4, 1.8, 2.2, 2.6, 3. , 3.4, 3.8, 4.2, 4.6, 5. ]),\n",
              " <a list of 10 Patch objects>)"
            ]
          },
          "metadata": {},
          "execution_count": 211
        },
        {
          "output_type": "display_data",
          "data": {
            "text/plain": [
              "<Figure size 432x288 with 1 Axes>"
            ],
            "image/png": "[encoded data removed]"
          },
          "metadata": {
            "needs_background": "light"
          }
        }
      ]
    },
    {
      "cell_type": "code",
      "source": [
        "data = data.loc[data['cohesion']<4.5,['text_id','full_text', 'cohesion']]\n",
        "data = data.loc[data['cohesion']>1.5,['text_id','full_text', 'cohesion']]\n",
        "num = data.shape[0]\n",
        "num_train = round(num*0.8)"
      ],
      "metadata": {
        "id": "SHJKGE7q0E-8"
      },
      "execution_count": 147,
      "outputs": []
    },
    {
      "cell_type": "markdown",
      "metadata": {
        "id": "KK2GL4F9FXzS"
      },
      "source": [
        "Data preprocessing: changing grades into integer"
      ]
    },
    {
      "cell_type": "markdown",
      "source": [
        "Change grades from [1, 1.5, 2.....4.5, 5] to [0,1,2,3,4,5...8]"
      ],
      "metadata": {
        "id": "WiBTAGfSDQ49"
      }
    },
    {
      "cell_type": "markdown",
      "source": [
        "And select only grades for cohesion"
      ],
      "metadata": {
        "id": "m_xb1PNpHlUV"
      }
    },
    {
      "cell_type": "code",
      "execution_count": 149,
      "metadata": {
        "id": "dWr95wpOFXzS"
      },
      "outputs": [],
      "source": [
        "num_text = data.shape[0]\n",
        "columns = ['text_id','cohesion']\n",
        "train_X_all = data.full_text.values\n",
        "#train_X = train_X_all[:2500]\n",
        "train_Y = (data[:num_train].cohesion.values)*2-2\n",
        "#  uncomment for one-hot\n",
        "#train_Y = tf.keras.utils.to_categorical(train_Y_n) \n",
        "#test_X = train_X\n",
        "#test_X = data[2500:].full_text.values\n",
        "test_Y = data[num_train:].cohesion.values*2-2"
      ]
    },
    {
      "cell_type": "code",
      "source": [
        "plt.plot(test_Y)"
      ],
      "metadata": {
        "id": "GnpyAh_b1mDF",
        "outputId": "507ce3aa-637c-4f45-a761-7637145aac80",
        "colab": {
          "base_uri": "https://localhost:8080/",
          "height": 282
        }
      },
      "execution_count": 162,
      "outputs": [
        {
          "output_type": "execute_result",
          "data": {
            "text/plain": [
              "[<matplotlib.lines.Line2D at 0x7fc5b735a2b0>]"
            ]
          },
          "metadata": {},
          "execution_count": 162
        },
        {
          "output_type": "display_data",
          "data": {
            "text/plain": [
              "<Figure size 432x288 with 1 Axes>"
            ],
            "image/png": "[encoded data removed]"
          },
          "metadata": {
            "needs_background": "light"
          }
        }
      ]
    },
    {
      "cell_type": "markdown",
      "source": [
        "Calculate the frequency of each grade to balance waightes while training"
      ],
      "metadata": {
        "id": "7tj-Nez0D8Sg"
      }
    },
    {
      "cell_type": "code",
      "execution_count": 200,
      "metadata": {
        "id": "CrMQKV1n4nrs"
      },
      "outputs": [],
      "source": [
        "distribution = data['cohesion']. value_counts(1).sort_index()\n",
        "distr = dict(zip(range(5), 1/distribution.values))"
      ]
    },
    {
      "cell_type": "code",
      "source": [
        "del train"
      ],
      "metadata": {
        "id": "sM03BA8WKCER"
      },
      "execution_count": 8,
      "outputs": []
    },
    {
      "cell_type": "markdown",
      "metadata": {
        "id": "S1AVQeFHFXzT"
      },
      "source": [
        "# **Define the model**\n",
        "A simple fine-tuned model, with the preprocessing model, the selected BERT model, one Dense with Softmax output and a Dropout layer."
      ]
    },
    {
      "cell_type": "markdown",
      "metadata": {
        "id": "21jrhqNwFXzU"
      },
      "source": [
        "Add BERT models"
      ]
    },
    {
      "cell_type": "code",
      "execution_count": 150,
      "metadata": {
        "id": "fJo1PV0XFXzU"
      },
      "outputs": [],
      "source": [
        "tfhub_preprocess = \"https://tfhub.dev/tensorflow/bert_en_uncased_preprocess/3\"\n",
        "tfhub_encoder = \"https://tfhub.dev/tensorflow/small_bert/bert_en_uncased_L-2_H-256_A-4/2\""
      ]
    },
    {
      "cell_type": "markdown",
      "source": [
        "Preprocess text data. Embed them into arrays of 256 numbers"
      ],
      "metadata": {
        "id": "Ig9bvc0qEE3B"
      }
    },
    {
      "cell_type": "code",
      "execution_count": 151,
      "metadata": {
        "id": "GKbI8rGoTTGj"
      },
      "outputs": [],
      "source": [
        "  preprocess_model = hub.KerasLayer(tfhub_preprocess)\n",
        "  encoder_inputs = preprocess_model(train_X_all) \n",
        "  encoder = hub.KerasLayer(tfhub_encoder, trainable=False)\n",
        "  outputs = encoder(encoder_inputs)\n",
        "  output = outputs['pooled_output']"
      ]
    },
    {
      "cell_type": "markdown",
      "source": [
        "Save Embedded input data"
      ],
      "metadata": {
        "id": "_B_u10bnEUHN"
      }
    },
    {
      "cell_type": "code",
      "source": [
        "plt.hist(output[:,10])"
      ],
      "metadata": {
        "id": "mesAB95N33y-",
        "outputId": "825bbfe1-75c2-4120-91d7-4bdb127981d2",
        "colab": {
          "base_uri": "https://localhost:8080/",
          "height": 371
        }
      },
      "execution_count": 264,
      "outputs": [
        {
          "output_type": "execute_result",
          "data": {
            "text/plain": [
              "(array([   5.,   10.,   17.,   20.,   59.,   63.,  150.,  276.,  711.,\n",
              "        2412.]),\n",
              " array([-0.8392362 , -0.6553623 , -0.4714884 , -0.2876145 , -0.10374059,\n",
              "         0.08013332,  0.2640072 ,  0.44788113,  0.63175505,  0.81562895,\n",
              "         0.99950284], dtype=float32),\n",
              " <a list of 10 Patch objects>)"
            ]
          },
          "metadata": {},
          "execution_count": 264
        },
        {
          "output_type": "display_data",
          "data": {
            "text/plain": [
              "<Figure size 432x288 with 1 Axes>"
            ],
            "image/png": "[encoded data removed]"
          },
          "metadata": {
            "needs_background": "light"
          }
        }
      ]
    },
    {
      "cell_type": "code",
      "source": [
        "np.save('embedded',output)"
      ],
      "metadata": {
        "id": "VyZCdPpzEYCv"
      },
      "execution_count": null,
      "outputs": []
    },
    {
      "cell_type": "markdown",
      "source": [
        "**Load Embeddent input Data**"
      ],
      "metadata": {
        "id": "cZWxKfPSYxbQ"
      }
    },
    {
      "cell_type": "code",
      "source": [
        "output = np.load('embedded.npy') "
      ],
      "metadata": {
        "id": "mF5Bz_MGYv6A"
      },
      "execution_count": 9,
      "outputs": []
    },
    {
      "cell_type": "code",
      "source": [
        "train_X = output[:num_train]\n",
        "test_X = output[num_train:]"
      ],
      "metadata": {
        "id": "ZjsN8lUqSbd9"
      },
      "execution_count": 154,
      "outputs": []
    },
    {
      "cell_type": "code",
      "source": [
        "fig = plt.figure(2)\n",
        "fig.hist\n",
        "#plt.subplot(2,1,2)\n",
        "#plt.plot(train_Y[:100],'b', label = 'Gredes_int')\n"
      ],
      "metadata": {
        "id": "sHVclZRJE6M4",
        "outputId": "87255a65-ad66-40c2-d245-398176af4aff",
        "colab": {
          "base_uri": "https://localhost:8080/",
          "height": 265
        }
      },
      "execution_count": 62,
      "outputs": [
        {
          "output_type": "execute_result",
          "data": {
            "text/plain": [
              "<mpl_toolkits.mplot3d.art3d.Path3DCollection at 0x7f62af449f40>"
            ]
          },
          "metadata": {},
          "execution_count": 62
        },
        {
          "output_type": "display_data",
          "data": {
            "text/plain": [
              "<Figure size 432x288 with 1 Axes>"
            ],
            "image/png": "[encoded data removed]"
          },
          "metadata": {
            "needs_background": "light"
          }
        }
      ]
    },
    {
      "cell_type": "code",
      "source": [
        "batch_size = 1"
      ],
      "metadata": {
        "id": "RqCmRc64En-w"
      },
      "execution_count": 156,
      "outputs": []
    },
    {
      "cell_type": "code",
      "execution_count": 236,
      "metadata": {
        "id": "hsQlcJAbFXzW"
      },
      "outputs": [],
      "source": [
        "def build_classifier_model(activ,num_output):\n",
        "  input = tf.keras.layers.Input(shape = (256), batch_size = batch_size)\n",
        "  output = tf.keras.layers.Dense(256,activation='ReLU')(input)\n",
        "  output = tf.keras.layers.Dense(128, activation='ReLU')(output) \n",
        "  output = tf.keras.layers.Dense(128, activation='ReLU')(output)\n",
        "  output = tf.keras.layers.Dense(128, activation='ReLU')(output)\n",
        " # output = tf.keras.layers.Dense(9, activation='ReLU')(output)\n",
        "  #net_1 = tf.keras.layers.Dropout(0.1)(output_2)\n",
        "  net_1 = tf.keras.layers.Dense(num_output, activation = activ)(output)\n",
        "  return tf.keras.Model(input, net_1)"
      ]
    },
    {
      "cell_type": "code",
      "execution_count": 237,
      "metadata": {
        "id": "uW8vEfNMFXzX"
      },
      "outputs": [],
      "source": [
        "classifier_model = build_classifier_model('linear',1)"
      ]
    },
    {
      "cell_type": "markdown",
      "source": [],
      "metadata": {
        "id": "ND5XAlmQpDln"
      }
    },
    {
      "cell_type": "code",
      "source": [
        "classifier_model.summary()"
      ],
      "metadata": {
        "colab": {
          "base_uri": "https://localhost:8080/"
        },
        "id": "jolscotfG2IE",
        "outputId": "baa46994-6c75-4fd5-e340-e6be38ab37da"
      },
      "execution_count": 14,
      "outputs": [
        {
          "output_type": "stream",
          "name": "stdout",
          "text": [
            "Model: \"model\"\n",
            "_________________________________________________________________\n",
            " Layer (type)                Output Shape              Param #   \n",
            "=================================================================\n",
            " input_1 (InputLayer)        [(1, 256)]                0         \n",
            "                                                                 \n",
            " dense (Dense)               (1, 256)                  65792     \n",
            "                                                                 \n",
            " dense_1 (Dense)             (1, 128)                  32896     \n",
            "                                                                 \n",
            " dense_2 (Dense)             (1, 64)                   8256      \n",
            "                                                                 \n",
            " dense_3 (Dense)             (1, 32)                   2080      \n",
            "                                                                 \n",
            " dense_4 (Dense)             (1, 1)                    33        \n",
            "                                                                 \n",
            "=================================================================\n",
            "Total params: 109,057\n",
            "Trainable params: 109,057\n",
            "Non-trainable params: 0\n",
            "_________________________________________________________________\n"
          ]
        }
      ]
    },
    {
      "cell_type": "markdown",
      "metadata": {
        "id": "NEHxh2NAFXzX"
      },
      "source": [
        "# **Model training**"
      ]
    },
    {
      "cell_type": "code",
      "source": [
        "   # from google3.third_party.tensorflow.core.protobuf import rewriter_config_pb2\n",
        "    #    config_proto = tf.ConfigProto()\n",
        "#    off = rewriter_config_pb2.RewriterConfig.OFF\n",
        " #   config_proto.graph_options.rewrite_options.arithmetic_optimization = off\n",
        "  #    session = tf.Session(config=config_proto)"
      ],
      "metadata": {
        "id": "-sh7RnYVL2Bg"
      },
      "execution_count": null,
      "outputs": []
    },
    {
      "cell_type": "code",
      "execution_count": 238,
      "metadata": {
        "id": "icc5Zq8AFXzX"
      },
      "outputs": [],
      "source": [
        "loss = tf.keras.losses.MeanSquaredError(reduction = 'sum')\n",
        "classifier_model.compile(optimizer=tf.keras.optimizers.Adam(),\n",
        "                         loss = loss,\n",
        "                         metrics = 'mse')"
      ]
    },
    {
      "cell_type": "code",
      "source": [
        "#board = tf.keras.callbacks.TensorBoard(log_dir='./logs')"
      ],
      "metadata": {
        "id": "syqG6tJBHxdh"
      },
      "execution_count": null,
      "outputs": []
    },
    {
      "cell_type": "code",
      "source": [
        "#restore = tf.keras.callbacks.BackupAndRestore('/ELL')"
      ],
      "metadata": {
        "id": "zj27ZLfaH1Gp"
      },
      "execution_count": null,
      "outputs": []
    },
    {
      "cell_type": "code",
      "execution_count": 160,
      "metadata": {
        "id": "bbWnydALFXzX"
      },
      "outputs": [],
      "source": [
        "epochs = 50"
      ]
    },
    {
      "cell_type": "code",
      "execution_count": 244,
      "metadata": {
        "id": "OtisLNrtFXzY",
        "colab": {
          "base_uri": "https://localhost:8080/"
        },
        "outputId": "803cfaaa-2f57-4478-c41c-6bc5bcc43ff3"
      },
      "outputs": [
        {
          "output_type": "stream",
          "name": "stdout",
          "text": [
            "Epoch 1/50\n",
            "2978/2978 [==============================] - 32s 11ms/step - loss: 1.1214 - mse: 1.1214 - val_loss: 1.2664 - val_mse: 1.2664\n",
            "Epoch 2/50\n",
            "2978/2978 [==============================] - 41s 14ms/step - loss: 1.1240 - mse: 1.1240 - val_loss: 1.2956 - val_mse: 1.2956\n",
            "Epoch 3/50\n",
            "2978/2978 [==============================] - 38s 13ms/step - loss: 1.1401 - mse: 1.1401 - val_loss: 1.2351 - val_mse: 1.2351\n",
            "Epoch 4/50\n",
            "2978/2978 [==============================] - 37s 12ms/step - loss: 1.1421 - mse: 1.1421 - val_loss: 1.3293 - val_mse: 1.3293\n",
            "Epoch 5/50\n",
            "2978/2978 [==============================] - 40s 13ms/step - loss: 1.1241 - mse: 1.1241 - val_loss: 1.2548 - val_mse: 1.2548\n",
            "Epoch 6/50\n",
            "2978/2978 [==============================] - 23s 8ms/step - loss: 1.1293 - mse: 1.1293 - val_loss: 1.2474 - val_mse: 1.2474\n",
            "Epoch 7/50\n",
            "2978/2978 [==============================] - 17s 6ms/step - loss: 1.1267 - mse: 1.1267 - val_loss: 1.3294 - val_mse: 1.3294\n",
            "Epoch 8/50\n",
            "2978/2978 [==============================] - 14s 5ms/step - loss: 1.1244 - mse: 1.1244 - val_loss: 1.2670 - val_mse: 1.2670\n",
            "Epoch 9/50\n",
            "2978/2978 [==============================] - 15s 5ms/step - loss: 1.1109 - mse: 1.1109 - val_loss: 1.4355 - val_mse: 1.4355\n",
            "Epoch 10/50\n",
            "2978/2978 [==============================] - 14s 5ms/step - loss: 1.1128 - mse: 1.1128 - val_loss: 1.3115 - val_mse: 1.3115\n",
            "Epoch 11/50\n",
            "2978/2978 [==============================] - 14s 5ms/step - loss: 1.1145 - mse: 1.1145 - val_loss: 1.2456 - val_mse: 1.2456\n",
            "Epoch 12/50\n",
            "2978/2978 [==============================] - 14s 5ms/step - loss: 1.1155 - mse: 1.1155 - val_loss: 1.2398 - val_mse: 1.2398\n",
            "Epoch 13/50\n",
            "2978/2978 [==============================] - 14s 5ms/step - loss: 1.1089 - mse: 1.1089 - val_loss: 1.2516 - val_mse: 1.2516\n",
            "Epoch 14/50\n",
            "2978/2978 [==============================] - 18s 6ms/step - loss: 1.1162 - mse: 1.1162 - val_loss: 1.2817 - val_mse: 1.2817\n",
            "Epoch 15/50\n",
            "2978/2978 [==============================] - 15s 5ms/step - loss: 1.1125 - mse: 1.1125 - val_loss: 1.2510 - val_mse: 1.2510\n",
            "Epoch 16/50\n",
            "2978/2978 [==============================] - 14s 5ms/step - loss: 1.1075 - mse: 1.1075 - val_loss: 1.2513 - val_mse: 1.2513\n",
            "Epoch 17/50\n",
            "2978/2978 [==============================] - 15s 5ms/step - loss: 1.1101 - mse: 1.1101 - val_loss: 1.2563 - val_mse: 1.2563\n",
            "Epoch 18/50\n",
            "2978/2978 [==============================] - 15s 5ms/step - loss: 1.0993 - mse: 1.0993 - val_loss: 1.2771 - val_mse: 1.2771\n",
            "Epoch 19/50\n",
            "2978/2978 [==============================] - 14s 5ms/step - loss: 1.1137 - mse: 1.1137 - val_loss: 1.2514 - val_mse: 1.2514\n",
            "Epoch 20/50\n",
            "2978/2978 [==============================] - 14s 5ms/step - loss: 1.1013 - mse: 1.1013 - val_loss: 1.3121 - val_mse: 1.3121\n",
            "Epoch 21/50\n",
            "2978/2978 [==============================] - 15s 5ms/step - loss: 1.1110 - mse: 1.1110 - val_loss: 1.2802 - val_mse: 1.2802\n",
            "Epoch 22/50\n",
            "2978/2978 [==============================] - 15s 5ms/step - loss: 1.1082 - mse: 1.1082 - val_loss: 1.2856 - val_mse: 1.2856\n",
            "Epoch 23/50\n",
            "2978/2978 [==============================] - 15s 5ms/step - loss: 1.1052 - mse: 1.1052 - val_loss: 1.2732 - val_mse: 1.2732\n",
            "Epoch 24/50\n",
            "2978/2978 [==============================] - 17s 6ms/step - loss: 1.1039 - mse: 1.1039 - val_loss: 1.4024 - val_mse: 1.4024\n",
            "Epoch 25/50\n",
            "2978/2978 [==============================] - 15s 5ms/step - loss: 1.1000 - mse: 1.1000 - val_loss: 1.3051 - val_mse: 1.3051\n",
            "Epoch 26/50\n",
            "2978/2978 [==============================] - 15s 5ms/step - loss: 1.0937 - mse: 1.0937 - val_loss: 1.3536 - val_mse: 1.3536\n",
            "Epoch 27/50\n",
            "2978/2978 [==============================] - 15s 5ms/step - loss: 1.0899 - mse: 1.0899 - val_loss: 1.2795 - val_mse: 1.2795\n",
            "Epoch 28/50\n",
            "2978/2978 [==============================] - 15s 5ms/step - loss: 1.1052 - mse: 1.1052 - val_loss: 1.2686 - val_mse: 1.2686\n",
            "Epoch 29/50\n",
            "2978/2978 [==============================] - 15s 5ms/step - loss: 1.0954 - mse: 1.0954 - val_loss: 1.3625 - val_mse: 1.3625\n",
            "Epoch 30/50\n",
            "2978/2978 [==============================] - 14s 5ms/step - loss: 1.0959 - mse: 1.0959 - val_loss: 1.2764 - val_mse: 1.2764\n",
            "Epoch 31/50\n",
            "2978/2978 [==============================] - 14s 5ms/step - loss: 1.0966 - mse: 1.0966 - val_loss: 1.2532 - val_mse: 1.2532\n",
            "Epoch 32/50\n",
            "2978/2978 [==============================] - 16s 5ms/step - loss: 1.0989 - mse: 1.0989 - val_loss: 1.2476 - val_mse: 1.2476\n",
            "Epoch 33/50\n",
            "2978/2978 [==============================] - 14s 5ms/step - loss: 1.0832 - mse: 1.0832 - val_loss: 1.4214 - val_mse: 1.4214\n",
            "Epoch 34/50\n",
            "2978/2978 [==============================] - 18s 6ms/step - loss: 1.0885 - mse: 1.0885 - val_loss: 1.2590 - val_mse: 1.2590\n",
            "Epoch 35/50\n",
            "2978/2978 [==============================] - 14s 5ms/step - loss: 1.0927 - mse: 1.0927 - val_loss: 1.2570 - val_mse: 1.2570\n",
            "Epoch 36/50\n",
            "2978/2978 [==============================] - 14s 5ms/step - loss: 1.0945 - mse: 1.0945 - val_loss: 1.2344 - val_mse: 1.2344\n",
            "Epoch 37/50\n",
            "2978/2978 [==============================] - 16s 5ms/step - loss: 1.0849 - mse: 1.0849 - val_loss: 1.2970 - val_mse: 1.2970\n",
            "Epoch 38/50\n",
            "2978/2978 [==============================] - 16s 5ms/step - loss: 1.0965 - mse: 1.0965 - val_loss: 1.3035 - val_mse: 1.3035\n",
            "Epoch 39/50\n",
            "2978/2978 [==============================] - 15s 5ms/step - loss: 1.0812 - mse: 1.0812 - val_loss: 1.2716 - val_mse: 1.2716\n",
            "Epoch 40/50\n",
            "2978/2978 [==============================] - 14s 5ms/step - loss: 1.0743 - mse: 1.0743 - val_loss: 1.3138 - val_mse: 1.3138\n",
            "Epoch 41/50\n",
            "2978/2978 [==============================] - 15s 5ms/step - loss: 1.0834 - mse: 1.0834 - val_loss: 1.2596 - val_mse: 1.2596\n",
            "Epoch 42/50\n",
            "2978/2978 [==============================] - 14s 5ms/step - loss: 1.0774 - mse: 1.0774 - val_loss: 1.2805 - val_mse: 1.2805\n",
            "Epoch 43/50\n",
            "2978/2978 [==============================] - 14s 5ms/step - loss: 1.0757 - mse: 1.0757 - val_loss: 1.3259 - val_mse: 1.3259\n",
            "Epoch 44/50\n",
            "2978/2978 [==============================] - 17s 6ms/step - loss: 1.0777 - mse: 1.0777 - val_loss: 1.2737 - val_mse: 1.2737\n",
            "Epoch 45/50\n",
            "2978/2978 [==============================] - 15s 5ms/step - loss: 1.0761 - mse: 1.0761 - val_loss: 1.4013 - val_mse: 1.4013\n",
            "Epoch 46/50\n",
            "2978/2978 [==============================] - 14s 5ms/step - loss: 1.0821 - mse: 1.0821 - val_loss: 1.2827 - val_mse: 1.2827\n",
            "Epoch 47/50\n",
            "2978/2978 [==============================] - 16s 5ms/step - loss: 1.0744 - mse: 1.0744 - val_loss: 1.3305 - val_mse: 1.3305\n",
            "Epoch 48/50\n",
            "2978/2978 [==============================] - 15s 5ms/step - loss: 1.0847 - mse: 1.0847 - val_loss: 1.3299 - val_mse: 1.3299\n",
            "Epoch 49/50\n",
            "2978/2978 [==============================] - 15s 5ms/step - loss: 1.0835 - mse: 1.0835 - val_loss: 1.2393 - val_mse: 1.2393\n",
            "Epoch 50/50\n",
            "2978/2978 [==============================] - 15s 5ms/step - loss: 1.0798 - mse: 1.0798 - val_loss: 1.3153 - val_mse: 1.3153\n"
          ]
        }
      ],
      "source": [
        "history = classifier_model.fit(x = train_X,\n",
        "                               y = train_Y,\n",
        "                               epochs = epochs,\n",
        "                               batch_size=batch_size, \n",
        "                               #callbacks=[restore],\n",
        "                               #class_weight = distr,\n",
        "                               validation_data =[test_X, test_Y])"
      ]
    },
    {
      "cell_type": "code",
      "source": [
        "classifier_model.save('saved_model2')"
      ],
      "metadata": {
        "id": "GtEecg34IsHD",
        "outputId": "4f8c9b36-b7f2-4e02-e50d-8fc220bea429",
        "colab": {
          "base_uri": "https://localhost:8080/"
        }
      },
      "execution_count": 26,
      "outputs": [
        {
          "output_type": "stream",
          "name": "stderr",
          "text": [
            "WARNING:absl:Found untraced functions such as re_lu_layer_call_fn, re_lu_layer_call_and_return_conditional_losses, re_lu_1_layer_call_fn, re_lu_1_layer_call_and_return_conditional_losses, re_lu_2_layer_call_fn while saving (showing 5 of 8). These functions will not be directly callable after loading.\n"
          ]
        }
      ]
    },
    {
      "cell_type": "code",
      "source": [
        "!tar -czvf model2.tar.gz saved_model1"
      ],
      "metadata": {
        "id": "bkUnRoQdnTQe",
        "outputId": "d517e422-dc11-41ae-d3ab-7bf16996bae2",
        "colab": {
          "base_uri": "https://localhost:8080/"
        }
      },
      "execution_count": null,
      "outputs": [
        {
          "output_type": "stream",
          "name": "stdout",
          "text": [
            "saved_model1/\n",
            "saved_model1/variables/\n",
            "saved_model1/variables/variables.index\n",
            "saved_model1/variables/variables.data-00000-of-00001\n",
            "saved_model1/saved_model.pb\n",
            "saved_model1/assets/\n",
            "saved_model1/keras_metadata.pb\n"
          ]
        }
      ]
    },
    {
      "cell_type": "code",
      "source": [
        "files.download('model2.tar.gz')"
      ],
      "metadata": {
        "id": "qp6kry-YRlB8",
        "outputId": "c493992f-79d1-4d99-8085-bffc79971361",
        "colab": {
          "base_uri": "https://localhost:8080/",
          "height": 17
        }
      },
      "execution_count": null,
      "outputs": [
        {
          "output_type": "display_data",
          "data": {
            "text/plain": [
              "<IPython.core.display.Javascript object>"
            ],
            "application/javascript": [
              "\n",
              "    async function download(id, filename, size) {\n",
              "      if (!google.colab.kernel.accessAllowed) {\n",
              "        return;\n",
              "      }\n",
              "      const div = document.createElement('div');\n",
              "      const label = document.createElement('label');\n",
              "      label.textContent = `Downloading \"${filename}\": `;\n",
              "      div.appendChild(label);\n",
              "      const progress = document.createElement('progress');\n",
              "      progress.max = size;\n",
              "      div.appendChild(progress);\n",
              "      document.body.appendChild(div);\n",
              "\n",
              "      const buffers = [];\n",
              "      let downloaded = 0;\n",
              "\n",
              "      const channel = await google.colab.kernel.comms.open(id);\n",
              "      // Send a message to notify the kernel that we're ready.\n",
              "      channel.send({})\n",
              "\n",
              "      for await (const message of channel.messages) {\n",
              "        // Send a message to notify the kernel that we're ready.\n",
              "        channel.send({})\n",
              "        if (message.buffers) {\n",
              "          for (const buffer of message.buffers) {\n",
              "            buffers.push(buffer);\n",
              "            downloaded += buffer.byteLength;\n",
              "            progress.value = downloaded;\n",
              "          }\n",
              "        }\n",
              "      }\n",
              "      const blob = new Blob(buffers, {type: 'application/binary'});\n",
              "      const a = document.createElement('a');\n",
              "      a.href = window.URL.createObjectURL(blob);\n",
              "      a.download = filename;\n",
              "      div.appendChild(a);\n",
              "      a.click();\n",
              "      div.remove();\n",
              "    }\n",
              "  "
            ]
          },
          "metadata": {}
        },
        {
          "output_type": "display_data",
          "data": {
            "text/plain": [
              "<IPython.core.display.Javascript object>"
            ],
            "application/javascript": [
              "download(\"download_a3264333-0bf6-4e43-ba3a-0bb440f59678\", \"model2.tar.gz\", 1469645)"
            ]
          },
          "metadata": {}
        }
      ]
    },
    {
      "cell_type": "markdown",
      "metadata": {
        "id": "Dn0txPyoFXzY"
      },
      "source": [
        "# **Model evaluation**"
      ]
    },
    {
      "cell_type": "code",
      "execution_count": 245,
      "metadata": {
        "colab": {
          "base_uri": "https://localhost:8080/"
        },
        "id": "byS4AO0GFXzY",
        "outputId": "4638ccaf-e333-4450-c09c-496da2ba181e"
      },
      "outputs": [
        {
          "output_type": "stream",
          "name": "stdout",
          "text": [
            "dict_keys(['loss', 'mse', 'val_loss', 'val_mse'])\n"
          ]
        }
      ],
      "source": [
        "history_dict = history.history\n",
        "print(history_dict.keys())"
      ]
    },
    {
      "cell_type": "code",
      "execution_count": 247,
      "metadata": {
        "colab": {
          "base_uri": "https://localhost:8080/",
          "height": 300
        },
        "id": "2Zd4htWmFXzY",
        "outputId": "987ae249-c9f4-4c27-c047-6de00e9db7e1"
      },
      "outputs": [
        {
          "output_type": "stream",
          "name": "stderr",
          "text": [
            "WARNING:matplotlib.legend:No handles with labels found to put in legend.\n"
          ]
        },
        {
          "output_type": "execute_result",
          "data": {
            "text/plain": [
              "[<matplotlib.lines.Line2D at 0x7fc5b74c1640>]"
            ]
          },
          "metadata": {},
          "execution_count": 247
        },
        {
          "output_type": "display_data",
          "data": {
            "text/plain": [
              "<Figure size 432x288 with 4 Axes>"
            ],
            "image/png": "[encoded data removed]"
          },
          "metadata": {
            "needs_background": "light"
          }
        }
      ],
      "source": [
        "#i = range(epochs)\n",
        "plt.figure(1)\n",
        "plt.title('Model evaluation')\n",
        "plt.legend()\n",
        "\n",
        "plt.subplot(2,2,1)\n",
        "plt.plot(history_dict['loss'],'r',label = \"Training loss\")\n",
        "\n",
        "plt.subplot(2,2,2)\n",
        "plt.plot(history_dict['mse'],'b',label = \"Training MSE\")\n",
        "\n",
        "plt.subplot(2,2,3)\n",
        "plt.plot(history_dict['val_loss'],'g',label = \"Validadion loss\")\n",
        "\n",
        "plt.subplot(2,2,4)\n",
        "plt.plot(history_dict['val_mse'],'y',label = \"Validation MSE\")"
      ]
    },
    {
      "cell_type": "code",
      "source": [
        "#t = test_X[0:5]"
      ],
      "metadata": {
        "id": "I2N_8v43WdPn"
      },
      "execution_count": null,
      "outputs": []
    },
    {
      "cell_type": "code",
      "execution_count": 248,
      "metadata": {
        "colab": {
          "base_uri": "https://localhost:8080/"
        },
        "id": "0D5f2VDDALon",
        "outputId": "d43297a3-e967-4635-87fa-c1850d1aa783"
      },
      "outputs": [
        {
          "output_type": "stream",
          "name": "stdout",
          "text": [
            "24/24 [==============================] - 1s 34ms/step\n"
          ]
        }
      ],
      "source": [
        "test_Y_n = classifier_model.predict(test_X,verbose = 1)"
      ]
    },
    {
      "cell_type": "code",
      "execution_count": 249,
      "metadata": {
        "id": "rse4POt3FXzZ",
        "colab": {
          "base_uri": "https://localhost:8080/"
        },
        "outputId": "560ff964-ba77-442c-9821-a2630d536523"
      },
      "outputs": [
        {
          "output_type": "stream",
          "name": "stdout",
          "text": [
            "MCRMSE =  0.7233955358325228\n"
          ]
        }
      ],
      "source": [
        "#for classificatio\n",
        "#pred_test_Y=(np.argmax(test_Y_n,1)+2)/2\n",
        "#for regression\n",
        "pred_Y = np.reshape((np.round(test_Y_n)+2)/2,test_Y.size)\n",
        "mcrmse_test = np.sqrt(np.sum(np.square(pred_Y-test_Y))/num_text)\n",
        "print('MCRMSE = ',mcrmse_test) "
      ]
    },
    {
      "cell_type": "code",
      "source": [
        "min(pred_Y)"
      ],
      "metadata": {
        "id": "oewzNG1do1Ew",
        "outputId": "0d912f7d-64f0-4d75-beaa-5acf3bf844f8",
        "colab": {
          "base_uri": "https://localhost:8080/"
        }
      },
      "execution_count": 253,
      "outputs": [
        {
          "output_type": "execute_result",
          "data": {
            "text/plain": [
              "2.5"
            ]
          },
          "metadata": {},
          "execution_count": 253
        }
      ]
    },
    {
      "cell_type": "markdown",
      "metadata": {
        "id": "Vx3FdXLkFXzZ"
      },
      "source": [
        "MCRMSE =  0.617284905504784 5 epochs\n",
        "\n",
        "MCRMSE =  0.6333342304873718 10 epochs\n",
        "\n",
        "MCRMSE =  0.6012389019459027 10 epochs bached 32\n",
        "\n",
        "MCRMSE =  0.6137303634466796 5 epochs batched tuned\n",
        "\n",
        "MCRMSE =  0.5939521873178615 5 epochs 2 dense\n",
        "  \n",
        "MCRMSE =  0.5827963961318415 10 epochs 5 dense\n",
        "\n",
        "MCRMSE =  0.47713642331475004  1 epoch 3 dense shaped"
      ]
    },
    {
      "cell_type": "markdown",
      "source": [
        "regression:full +3x128+3x64\n",
        "\n",
        "MCRMSE =  1.1748504531717312\n",
        "\n",
        "Epoch 100/100 ====>loss: 21.0348 - mse: 2.3953\n",
        "\n",
        "\n",
        "\n",
        "regression:full +5x128\n",
        "\n",
        "MCRMSE =  0.6841\n",
        "\n",
        "Epochs:300 ======> loss: 16.6 - mse: 1.99\n",
        "\n",
        "\n",
        "\n",
        "\n",
        "regression:full all layers\n",
        "\n",
        "MCRMSE =  0.568\n",
        "\n",
        "Epochs:400 ======> loss: 6.66 - mse: 1.03\n"
      ],
      "metadata": {
        "id": "OaIMEoptejEM"
      }
    },
    {
      "cell_type": "markdown",
      "metadata": {
        "id": "rTVBtJRBFXzZ"
      },
      "source": [
        "# **create output file**"
      ]
    },
    {
      "cell_type": "code",
      "execution_count": 212,
      "metadata": {
        "id": "7hdkbzQ0FXza",
        "outputId": "383ea6b8-b864-4086-a646-31441e31be4f",
        "colab": {
          "base_uri": "https://localhost:8080/",
          "height": 401
        }
      },
      "outputs": [
        {
          "output_type": "stream",
          "name": "stderr",
          "text": [
            "/usr/local/lib/python3.8/dist-packages/numpy/core/fromnumeric.py:43: VisibleDeprecationWarning: Creating an ndarray from ragged nested sequences (which is a list-or-tuple of lists-or-tuples-or ndarrays with different lengths or shapes) is deprecated. If you meant to do this, you must specify 'dtype=object' when creating the ndarray.\n",
            "  result = getattr(asarray(obj), method)(*args, **kwds)\n"
          ]
        },
        {
          "output_type": "error",
          "ename": "ValueError",
          "evalue": "ignored",
          "traceback": [
            "\u001b[0;31m---------------------------------------------------------------------------\u001b[0m",
            "\u001b[0;31mValueError\u001b[0m                                Traceback (most recent call last)",
            "\u001b[0;32m<ipython-input-212-d287044459f3>\u001b[0m in \u001b[0;36m<module>\u001b[0;34m\u001b[0m\n\u001b[1;32m      1\u001b[0m \u001b[0;31m#np.reshape(pred_Y,(num_text))\u001b[0m\u001b[0;34m\u001b[0m\u001b[0;34m\u001b[0m\u001b[0;34m\u001b[0m\u001b[0m\n\u001b[1;32m      2\u001b[0m \u001b[0mresult\u001b[0m \u001b[0;34m=\u001b[0m \u001b[0;34m[\u001b[0m\u001b[0mtest_id\u001b[0m\u001b[0;34m,\u001b[0m \u001b[0mpred_Y\u001b[0m\u001b[0;34m]\u001b[0m\u001b[0;34m\u001b[0m\u001b[0;34m\u001b[0m\u001b[0m\n\u001b[0;32m----> 3\u001b[0;31m \u001b[0mdf_result\u001b[0m \u001b[0;34m=\u001b[0m \u001b[0mpd\u001b[0m\u001b[0;34m.\u001b[0m\u001b[0mDataFrame\u001b[0m\u001b[0;34m(\u001b[0m\u001b[0mnp\u001b[0m\u001b[0;34m.\u001b[0m\u001b[0mtranspose\u001b[0m\u001b[0;34m(\u001b[0m\u001b[0mresult\u001b[0m\u001b[0;34m)\u001b[0m\u001b[0;34m,\u001b[0m\u001b[0mcolumns\u001b[0m \u001b[0;34m=\u001b[0m \u001b[0mcolumns\u001b[0m\u001b[0;34m)\u001b[0m\u001b[0;34m\u001b[0m\u001b[0;34m\u001b[0m\u001b[0m\n\u001b[0m",
            "\u001b[0;32m/usr/local/lib/python3.8/dist-packages/pandas/core/frame.py\u001b[0m in \u001b[0;36m__init__\u001b[0;34m(self, data, index, columns, dtype, copy)\u001b[0m\n\u001b[1;32m    670\u001b[0m                 )\n\u001b[1;32m    671\u001b[0m             \u001b[0;32melse\u001b[0m\u001b[0;34m:\u001b[0m\u001b[0;34m\u001b[0m\u001b[0;34m\u001b[0m\u001b[0m\n\u001b[0;32m--> 672\u001b[0;31m                 mgr = ndarray_to_mgr(\n\u001b[0m\u001b[1;32m    673\u001b[0m                     \u001b[0mdata\u001b[0m\u001b[0;34m,\u001b[0m\u001b[0;34m\u001b[0m\u001b[0;34m\u001b[0m\u001b[0m\n\u001b[1;32m    674\u001b[0m                     \u001b[0mindex\u001b[0m\u001b[0;34m,\u001b[0m\u001b[0;34m\u001b[0m\u001b[0;34m\u001b[0m\u001b[0m\n",
            "\u001b[0;32m/usr/local/lib/python3.8/dist-packages/pandas/core/internals/construction.py\u001b[0m in \u001b[0;36mndarray_to_mgr\u001b[0;34m(values, index, columns, dtype, copy, typ)\u001b[0m\n\u001b[1;32m    322\u001b[0m     )\n\u001b[1;32m    323\u001b[0m \u001b[0;34m\u001b[0m\u001b[0m\n\u001b[0;32m--> 324\u001b[0;31m     \u001b[0m_check_values_indices_shape_match\u001b[0m\u001b[0;34m(\u001b[0m\u001b[0mvalues\u001b[0m\u001b[0;34m,\u001b[0m \u001b[0mindex\u001b[0m\u001b[0;34m,\u001b[0m \u001b[0mcolumns\u001b[0m\u001b[0;34m)\u001b[0m\u001b[0;34m\u001b[0m\u001b[0;34m\u001b[0m\u001b[0m\n\u001b[0m\u001b[1;32m    325\u001b[0m \u001b[0;34m\u001b[0m\u001b[0m\n\u001b[1;32m    326\u001b[0m     \u001b[0;32mif\u001b[0m \u001b[0mtyp\u001b[0m \u001b[0;34m==\u001b[0m \u001b[0;34m\"array\"\u001b[0m\u001b[0;34m:\u001b[0m\u001b[0;34m\u001b[0m\u001b[0;34m\u001b[0m\u001b[0m\n",
            "\u001b[0;32m/usr/local/lib/python3.8/dist-packages/pandas/core/internals/construction.py\u001b[0m in \u001b[0;36m_check_values_indices_shape_match\u001b[0;34m(values, index, columns)\u001b[0m\n\u001b[1;32m    391\u001b[0m         \u001b[0mpassed\u001b[0m \u001b[0;34m=\u001b[0m \u001b[0mvalues\u001b[0m\u001b[0;34m.\u001b[0m\u001b[0mshape\u001b[0m\u001b[0;34m\u001b[0m\u001b[0;34m\u001b[0m\u001b[0m\n\u001b[1;32m    392\u001b[0m         \u001b[0mimplied\u001b[0m \u001b[0;34m=\u001b[0m \u001b[0;34m(\u001b[0m\u001b[0mlen\u001b[0m\u001b[0;34m(\u001b[0m\u001b[0mindex\u001b[0m\u001b[0;34m)\u001b[0m\u001b[0;34m,\u001b[0m \u001b[0mlen\u001b[0m\u001b[0;34m(\u001b[0m\u001b[0mcolumns\u001b[0m\u001b[0;34m)\u001b[0m\u001b[0;34m)\u001b[0m\u001b[0;34m\u001b[0m\u001b[0;34m\u001b[0m\u001b[0m\n\u001b[0;32m--> 393\u001b[0;31m         \u001b[0;32mraise\u001b[0m \u001b[0mValueError\u001b[0m\u001b[0;34m(\u001b[0m\u001b[0;34mf\"Shape of passed values is {passed}, indices imply {implied}\"\u001b[0m\u001b[0;34m)\u001b[0m\u001b[0;34m\u001b[0m\u001b[0;34m\u001b[0m\u001b[0m\n\u001b[0m\u001b[1;32m    394\u001b[0m \u001b[0;34m\u001b[0m\u001b[0m\n\u001b[1;32m    395\u001b[0m \u001b[0;34m\u001b[0m\u001b[0m\n",
            "\u001b[0;31mValueError\u001b[0m: Shape of passed values is (2, 1), indices imply (2, 2)"
          ]
        }
      ],
      "source": [
        "#np.reshape(pred_Y,(num_text))\n",
        "result = [test_id, pred_Y]\n",
        "df_result = pd.DataFrame(np.transpose(result),columns = columns)"
      ]
    },
    {
      "cell_type": "markdown",
      "metadata": {
        "id": "tmVLw7RFFXza"
      },
      "source": [
        "clear the /kaggle/working"
      ]
    },
    {
      "cell_type": "code",
      "execution_count": 88,
      "metadata": {
        "colab": {
          "base_uri": "https://localhost:8080/",
          "height": 282
        },
        "id": "NoHvWmlKFXza",
        "outputId": "d2590418-aa34-4cc5-ca88-dbbc4e912eb4"
      },
      "outputs": [
        {
          "output_type": "execute_result",
          "data": {
            "text/plain": [
              "[<matplotlib.lines.Line2D at 0x7fc5baa70a30>]"
            ]
          },
          "metadata": {},
          "execution_count": 88
        },
        {
          "output_type": "display_data",
          "data": {
            "text/plain": [
              "<Figure size 432x288 with 1 Axes>"
            ],
            "image/png": "[encoded data removed]"
          },
          "metadata": {
            "needs_background": "light"
          }
        }
      ],
      "source": [
        "i = range(num_text)\n",
        "plt.plot(i,df_result['cohesion'])"
      ]
    },
    {
      "cell_type": "code",
      "execution_count": null,
      "metadata": {
        "id": "N8KB0XdnFXza"
      },
      "outputs": [],
      "source": [
        "df_result.to_csv('/kaggle/working/submission.csv')"
      ]
    }
  ],
  "metadata": {
    "colab": {
      "provenance": [],
      "include_colab_link": true
    },
    "gpuClass": "standard",
    "kernelspec": {
      "display_name": "Python 3",
      "language": "python",
      "name": "python3"
    },
    "language_info": {
      "codemirror_mode": {
        "name": "ipython",
        "version": 3
      },
      "file_extension": ".py",
      "mimetype": "text/x-python",
      "name": "python",
      "nbconvert_exporter": "python",
      "pygments_lexer": "ipython3",
      "version": "3.7.12"
    }
  },
  "nbformat": 4,
  "nbformat_minor": 0
}