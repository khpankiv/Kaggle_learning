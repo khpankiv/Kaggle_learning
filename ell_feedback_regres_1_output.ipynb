{
  "cells": [
    {
      "cell_type": "markdown",
      "metadata": {
        "id": "view-in-github",
        "colab_type": "text"
      },
      "source": [
        "<a href=\"https://colab.research.google.com/github/khpankiv/Kaggle_learning/blob/trained/ell_feedback_regres_1_output.ipynb\" target=\"_parent\"><img src=\"https://colab.research.google.com/assets/colab-badge.svg\" alt=\"Open In Colab\"/></a>"
      ]
    },
    {
      "cell_type": "markdown",
      "source": [
        "**For using in Colab**"
      ],
      "metadata": {
        "id": "Y_hFDX1T2jMx"
      }
    },
    {
      "cell_type": "markdown",
      "metadata": {
        "id": "o4LbkUiJFXzK"
      },
      "source": [
        "# **Setup**"
      ]
    },
    {
      "cell_type": "code",
      "execution_count": 1,
      "metadata": {
        "id": "Ex-mHNlBFXzP",
        "colab": {
          "base_uri": "https://localhost:8080/"
        },
        "outputId": "88301c62-4072-47d6-933f-f5c02e88a9d8"
      },
      "outputs": [
        {
          "output_type": "stream",
          "name": "stdout",
          "text": [
            "\u001b[K     |████████████████████████████████| 4.9 MB 5.3 MB/s \n",
            "\u001b[K     |████████████████████████████████| 498.0 MB 12 kB/s \n",
            "\u001b[K     |████████████████████████████████| 5.8 MB 25.4 MB/s \n",
            "\u001b[K     |████████████████████████████████| 462 kB 56.3 MB/s \n",
            "\u001b[K     |████████████████████████████████| 1.4 MB 55.9 MB/s \n",
            "\u001b[?25h"
          ]
        }
      ],
      "source": [
        "#A dependency of the preprocessing for BERT inputs\n",
        "!pip install -q -U \"tensorflow-text==2.8.*\""
      ]
    },
    {
      "cell_type": "code",
      "execution_count": 2,
      "metadata": {
        "id": "qaABTKcFFXzQ"
      },
      "outputs": [],
      "source": [
        "import pandas as pd\n",
        "import numpy as np\n",
        "import tensorflow as tf\n",
        "import tensorflow_hub as hub\n",
        "import tensorflow_text as text\n",
        "import matplotlib.pyplot as plt"
      ]
    },
    {
      "cell_type": "markdown",
      "metadata": {
        "id": "_RfSQGv9FXzQ"
      },
      "source": [
        "# **Read the datasets**"
      ]
    },
    {
      "cell_type": "code",
      "source": [
        "from google.colab import files\n",
        "files.upload()\n",
        "! mkdir ~/.kaggle\n",
        "! cp kaggle.json ~/.kaggle/\n",
        "! chmod 600 ~/.kaggle/kaggle.json\n",
        "!kaggle competitions download -c feedback-prize-english-language-learning\n",
        "!mkdir ELL\n",
        "! unzip feedback-prize-english-language-learning.zip -d ELL"
      ],
      "metadata": {
        "colab": {
          "base_uri": "https://localhost:8080/",
          "height": 194
        },
        "id": "iM3bBjaE4LH9",
        "outputId": "c3f50869-47c0-40c1-bcf9-8e61d2904cf9"
      },
      "execution_count": 3,
      "outputs": [
        {
          "output_type": "display_data",
          "data": {
            "text/plain": [
              "<IPython.core.display.HTML object>"
            ],
            "text/html": [
              "\n",
              "     <input type=\"file\" id=\"files-850dced4-175d-4ef8-91ee-4e819cbd79ff\" name=\"files[]\" multiple disabled\n",
              "        style=\"border:none\" />\n",
              "     <output id=\"result-850dced4-175d-4ef8-91ee-4e819cbd79ff\">\n",
              "      Upload widget is only available when the cell has been executed in the\n",
              "      current browser session. Please rerun this cell to enable.\n",
              "      </output>\n",
              "      <script>// Copyright 2017 Google LLC\n",
              "//\n",
              "// Licensed under the Apache License, Version 2.0 (the \"License\");\n",
              "// you may not use this file except in compliance with the License.\n",
              "// You may obtain a copy of the License at\n",
              "//\n",
              "//      http://www.apache.org/licenses/LICENSE-2.0\n",
              "//\n",
              "// Unless required by applicable law or agreed to in writing, software\n",
              "// distributed under the License is distributed on an \"AS IS\" BASIS,\n",
              "// WITHOUT WARRANTIES OR CONDITIONS OF ANY KIND, either express or implied.\n",
              "// See the License for the specific language governing permissions and\n",
              "// limitations under the License.\n",
              "\n",
              "/**\n",
              " * @fileoverview Helpers for google.colab Python module.\n",
              " */\n",
              "(function(scope) {\n",
              "function span(text, styleAttributes = {}) {\n",
              "  const element = document.createElement('span');\n",
              "  element.textContent = text;\n",
              "  for (const key of Object.keys(styleAttributes)) {\n",
              "    element.style[key] = styleAttributes[key];\n",
              "  }\n",
              "  return element;\n",
              "}\n",
              "\n",
              "// Max number of bytes which will be uploaded at a time.\n",
              "const MAX_PAYLOAD_SIZE = 100 * 1024;\n",
              "\n",
              "function _uploadFiles(inputId, outputId) {\n",
              "  const steps = uploadFilesStep(inputId, outputId);\n",
              "  const outputElement = document.getElementById(outputId);\n",
              "  // Cache steps on the outputElement to make it available for the next call\n",
              "  // to uploadFilesContinue from Python.\n",
              "  outputElement.steps = steps;\n",
              "\n",
              "  return _uploadFilesContinue(outputId);\n",
              "}\n",
              "\n",
              "// This is roughly an async generator (not supported in the browser yet),\n",
              "// where there are multiple asynchronous steps and the Python side is going\n",
              "// to poll for completion of each step.\n",
              "// This uses a Promise to block the python side on completion of each step,\n",
              "// then passes the result of the previous step as the input to the next step.\n",
              "function _uploadFilesContinue(outputId) {\n",
              "  const outputElement = document.getElementById(outputId);\n",
              "  const steps = outputElement.steps;\n",
              "\n",
              "  const next = steps.next(outputElement.lastPromiseValue);\n",
              "  return Promise.resolve(next.value.promise).then((value) => {\n",
              "    // Cache the last promise value to make it available to the next\n",
              "    // step of the generator.\n",
              "    outputElement.lastPromiseValue = value;\n",
              "    return next.value.response;\n",
              "  });\n",
              "}\n",
              "\n",
              "/**\n",
              " * Generator function which is called between each async step of the upload\n",
              " * process.\n",
              " * @param {string} inputId Element ID of the input file picker element.\n",
              " * @param {string} outputId Element ID of the output display.\n",
              " * @return {!Iterable<!Object>} Iterable of next steps.\n",
              " */\n",
              "function* uploadFilesStep(inputId, outputId) {\n",
              "  const inputElement = document.getElementById(inputId);\n",
              "  inputElement.disabled = false;\n",
              "\n",
              "  const outputElement = document.getElementById(outputId);\n",
              "  outputElement.innerHTML = '';\n",
              "\n",
              "  const pickedPromise = new Promise((resolve) => {\n",
              "    inputElement.addEventListener('change', (e) => {\n",
              "      resolve(e.target.files);\n",
              "    });\n",
              "  });\n",
              "\n",
              "  const cancel = document.createElement('button');\n",
              "  inputElement.parentElement.appendChild(cancel);\n",
              "  cancel.textContent = 'Cancel upload';\n",
              "  const cancelPromise = new Promise((resolve) => {\n",
              "    cancel.onclick = () => {\n",
              "      resolve(null);\n",
              "    };\n",
              "  });\n",
              "\n",
              "  // Wait for the user to pick the files.\n",
              "  const files = yield {\n",
              "    promise: Promise.race([pickedPromise, cancelPromise]),\n",
              "    response: {\n",
              "      action: 'starting',\n",
              "    }\n",
              "  };\n",
              "\n",
              "  cancel.remove();\n",
              "\n",
              "  // Disable the input element since further picks are not allowed.\n",
              "  inputElement.disabled = true;\n",
              "\n",
              "  if (!files) {\n",
              "    return {\n",
              "      response: {\n",
              "        action: 'complete',\n",
              "      }\n",
              "    };\n",
              "  }\n",
              "\n",
              "  for (const file of files) {\n",
              "    const li = document.createElement('li');\n",
              "    li.append(span(file.name, {fontWeight: 'bold'}));\n",
              "    li.append(span(\n",
              "        `(${file.type || 'n/a'}) - ${file.size} bytes, ` +\n",
              "        `last modified: ${\n",
              "            file.lastModifiedDate ? file.lastModifiedDate.toLocaleDateString() :\n",
              "                                    'n/a'} - `));\n",
              "    const percent = span('0% done');\n",
              "    li.appendChild(percent);\n",
              "\n",
              "    outputElement.appendChild(li);\n",
              "\n",
              "    const fileDataPromise = new Promise((resolve) => {\n",
              "      const reader = new FileReader();\n",
              "      reader.onload = (e) => {\n",
              "        resolve(e.target.result);\n",
              "      };\n",
              "      reader.readAsArrayBuffer(file);\n",
              "    });\n",
              "    // Wait for the data to be ready.\n",
              "    let fileData = yield {\n",
              "      promise: fileDataPromise,\n",
              "      response: {\n",
              "        action: 'continue',\n",
              "      }\n",
              "    };\n",
              "\n",
              "    // Use a chunked sending to avoid message size limits. See b/62115660.\n",
              "    let position = 0;\n",
              "    do {\n",
              "      const length = Math.min(fileData.byteLength - position, MAX_PAYLOAD_SIZE);\n",
              "      const chunk = new Uint8Array(fileData, position, length);\n",
              "      position += length;\n",
              "\n",
              "      const base64 = btoa(String.fromCharCode.apply(null, chunk));\n",
              "      yield {\n",
              "        response: {\n",
              "          action: 'append',\n",
              "          file: file.name,\n",
              "          data: base64,\n",
              "        },\n",
              "      };\n",
              "\n",
              "      let percentDone = fileData.byteLength === 0 ?\n",
              "          100 :\n",
              "          Math.round((position / fileData.byteLength) * 100);\n",
              "      percent.textContent = `${percentDone}% done`;\n",
              "\n",
              "    } while (position < fileData.byteLength);\n",
              "  }\n",
              "\n",
              "  // All done.\n",
              "  yield {\n",
              "    response: {\n",
              "      action: 'complete',\n",
              "    }\n",
              "  };\n",
              "}\n",
              "\n",
              "scope.google = scope.google || {};\n",
              "scope.google.colab = scope.google.colab || {};\n",
              "scope.google.colab._files = {\n",
              "  _uploadFiles,\n",
              "  _uploadFilesContinue,\n",
              "};\n",
              "})(self);\n",
              "</script> "
            ]
          },
          "metadata": {}
        },
        {
          "output_type": "stream",
          "name": "stdout",
          "text": [
            "Saving kaggle.json to kaggle.json\n",
            "Downloading feedback-prize-english-language-learning.zip to /content\n",
            "  0% 0.00/2.80M [00:00<?, ?B/s]\n",
            "100% 2.80M/2.80M [00:00<00:00, 122MB/s]\n",
            "Archive:  feedback-prize-english-language-learning.zip\n",
            "  inflating: ELL/sample_submission.csv  \n",
            "  inflating: ELL/test.csv            \n",
            "  inflating: ELL/train.csv           \n"
          ]
        }
      ]
    },
    {
      "cell_type": "code",
      "execution_count": 4,
      "metadata": {
        "id": "RhM4hlDaI4aD"
      },
      "outputs": [],
      "source": [
        "#test= pd.read_csv(\"./ELL/test.csv\")\n",
        "#test_sub=pd.read_csv(\"./ELL/sample_submission.csv\")"
      ]
    },
    {
      "cell_type": "code",
      "execution_count": 34,
      "metadata": {
        "id": "smOXeI8LFXzR"
      },
      "outputs": [],
      "source": [
        "train= pd.read_csv(\"./ELL/train.csv\")\n",
        "#to make dataset smaller))\n",
        "#train = train.sample(frac = 0.5)\n",
        "#test = train.iloc[:,0:2]\n",
        "#test_sub = train.iloc[:,[0,2]]"
      ]
    },
    {
      "cell_type": "markdown",
      "metadata": {
        "id": "KK2GL4F9FXzS"
      },
      "source": [
        "Data preprocessing: changing grades into integer"
      ]
    },
    {
      "cell_type": "markdown",
      "source": [
        "Change grades from [1, 1.5, 2.....4.5, 5] to [0,1,2,3,4,5...8]"
      ],
      "metadata": {
        "id": "WiBTAGfSDQ49"
      }
    },
    {
      "cell_type": "markdown",
      "source": [
        "And select only grades for cohesion"
      ],
      "metadata": {
        "id": "m_xb1PNpHlUV"
      }
    },
    {
      "cell_type": "code",
      "execution_count": 35,
      "metadata": {
        "id": "dWr95wpOFXzS"
      },
      "outputs": [],
      "source": [
        "num_text = train.shape[0]\n",
        "columns = ['text_id','cohesion']\n",
        "train_X = train[:].full_text.values\n",
        "train_Y = (train.iloc[:,2].values)*2-2\n",
        "#  uncomment for one-hot\n",
        "#train_Y = tf.keras.utils.to_categorical(train_Y) \n",
        "#test_X = train_X\n",
        "test_id = train.text_id.values\n",
        "test_Y = (train.iloc[:,2].values)"
      ]
    },
    {
      "cell_type": "markdown",
      "source": [
        "Calculate the frequency of each grade to balance waightes while training"
      ],
      "metadata": {
        "id": "7tj-Nez0D8Sg"
      }
    },
    {
      "cell_type": "code",
      "execution_count": 36,
      "metadata": {
        "id": "CrMQKV1n4nrs"
      },
      "outputs": [],
      "source": [
        "distribution = train['cohesion']. value_counts(1).sort_index()\n",
        "distr = dict(zip(range(9), 1/distribution.values))"
      ]
    },
    {
      "cell_type": "code",
      "source": [
        "del train"
      ],
      "metadata": {
        "id": "sM03BA8WKCER"
      },
      "execution_count": 37,
      "outputs": []
    },
    {
      "cell_type": "markdown",
      "metadata": {
        "id": "S1AVQeFHFXzT"
      },
      "source": [
        "# **Define the model**\n",
        "A simple fine-tuned model, with the preprocessing model, the selected BERT model, one Dense with Softmax output and a Dropout layer."
      ]
    },
    {
      "cell_type": "markdown",
      "metadata": {
        "id": "21jrhqNwFXzU"
      },
      "source": [
        "Add BERT models"
      ]
    },
    {
      "cell_type": "code",
      "execution_count": 9,
      "metadata": {
        "id": "fJo1PV0XFXzU"
      },
      "outputs": [],
      "source": [
        "tfhub_preprocess = \"https://tfhub.dev/tensorflow/bert_en_uncased_preprocess/3\"\n",
        "tfhub_encoder = \"https://tfhub.dev/tensorflow/small_bert/bert_en_uncased_L-2_H-256_A-4/2\""
      ]
    },
    {
      "cell_type": "markdown",
      "source": [
        "Fine tune BERT embedding"
      ],
      "metadata": {
        "id": "wWChkRIU2rp6"
      }
    },
    {
      "cell_type": "code",
      "source": [
        "batch_size = 1"
      ],
      "metadata": {
        "id": "RqCmRc64En-w"
      },
      "execution_count": 10,
      "outputs": []
    },
    {
      "cell_type": "code",
      "execution_count": 44,
      "metadata": {
        "id": "hsQlcJAbFXzW"
      },
      "outputs": [],
      "source": [
        "def build_classifier_model(activ,num_output):\n",
        "  input = tf.keras.layers.Input(shape=(), dtype=tf.string, batch_size = batch_size)\n",
        "  preprocess_model = hub.KerasLayer(tfhub_preprocess)\n",
        "  encoder_inputs = preprocess_model(input) \n",
        "  encoder = hub.KerasLayer(tfhub_encoder, trainable=True)\n",
        "  outputs = encoder(encoder_inputs)\n",
        "  output = outputs['pooled_output']\n",
        "  #output = tf.keras.layers.Dense(256,activation='ReLU')(output)\n",
        "  #output = tf.keras.layers.Dense(256, activation='ReLU')(output) \n",
        "  #output = tf.keras.layers.Dense(256, activation='ReLU')(output)\n",
        "  #output = tf.keras.layers.Dense(32, activation='ReLU')(output)\n",
        "  output = tf.keras.layers.Dense(256, activation='ReLU')(output)\n",
        "  #net_1 = tf.keras.layers.Dropout(0.1)(output_2)\n",
        "  net_1 = tf.keras.layers.Dense(num_output, activation = activ)(output)\n",
        "  return tf.keras.Model(input, net_1)"
      ]
    },
    {
      "cell_type": "code",
      "execution_count": 45,
      "metadata": {
        "id": "uW8vEfNMFXzX"
      },
      "outputs": [],
      "source": [
        "classifier_model = build_classifier_model('softmax',9)"
      ]
    },
    {
      "cell_type": "code",
      "source": [
        "classifier_model.summary()"
      ],
      "metadata": {
        "colab": {
          "base_uri": "https://localhost:8080/"
        },
        "id": "jolscotfG2IE",
        "outputId": "56a88d6c-d8eb-4a4d-850f-bc4ff961dc08"
      },
      "execution_count": 46,
      "outputs": [
        {
          "output_type": "stream",
          "name": "stdout",
          "text": [
            "Model: \"model_2\"\n",
            "__________________________________________________________________________________________________\n",
            " Layer (type)                   Output Shape         Param #     Connected to                     \n",
            "==================================================================================================\n",
            " input_3 (InputLayer)           [(1,)]               0           []                               \n",
            "                                                                                                  \n",
            " keras_layer_4 (KerasLayer)     {'input_type_ids':   0           ['input_3[0][0]']                \n",
            "                                (1, 128),                                                         \n",
            "                                 'input_word_ids':                                                \n",
            "                                (1, 128),                                                         \n",
            "                                 'input_mask': (1,                                                \n",
            "                                128)}                                                             \n",
            "                                                                                                  \n",
            " keras_layer_5 (KerasLayer)     {'sequence_output':  9591041     ['keras_layer_4[0][0]',          \n",
            "                                 (1, 128, 256),                   'keras_layer_4[0][1]',          \n",
            "                                 'pooled_output': (               'keras_layer_4[0][2]']          \n",
            "                                1, 256),                                                          \n",
            "                                 'encoder_outputs':                                               \n",
            "                                 [(1, 128, 256),                                                  \n",
            "                                 (1, 128, 256)],                                                  \n",
            "                                 'default': (1, 256                                               \n",
            "                                )}                                                                \n",
            "                                                                                                  \n",
            " dense_3 (Dense)                (1, 256)             65792       ['keras_layer_5[0][3]']          \n",
            "                                                                                                  \n",
            " dense_4 (Dense)                (1, 9)               2313        ['dense_3[0][0]']                \n",
            "                                                                                                  \n",
            "==================================================================================================\n",
            "Total params: 9,659,146\n",
            "Trainable params: 68,105\n",
            "Non-trainable params: 9,591,041\n",
            "__________________________________________________________________________________________________\n"
          ]
        }
      ]
    },
    {
      "cell_type": "markdown",
      "metadata": {
        "id": "NEHxh2NAFXzX"
      },
      "source": [
        "# **Model training**"
      ]
    },
    {
      "cell_type": "code",
      "source": [
        "   # from google3.third_party.tensorflow.core.protobuf import rewriter_config_pb2\n",
        "    #    config_proto = tf.ConfigProto()\n",
        "#    off = rewriter_config_pb2.RewriterConfig.OFF\n",
        " #   config_proto.graph_options.rewrite_options.arithmetic_optimization = off\n",
        "  #    session = tf.Session(config=config_proto)"
      ],
      "metadata": {
        "id": "-sh7RnYVL2Bg"
      },
      "execution_count": 14,
      "outputs": []
    },
    {
      "cell_type": "code",
      "execution_count": 47,
      "metadata": {
        "id": "icc5Zq8AFXzX"
      },
      "outputs": [],
      "source": [
        "loss = tf.keras.losses.SparseCategoricalCrossentropy()\n",
        "classifier_model.compile(optimizer=tf.keras.optimizers.Adam(),\n",
        "                         loss = loss,\n",
        "                         metrics = 'accuracy')"
      ]
    },
    {
      "cell_type": "code",
      "source": [
        "#board = tf.keras.callbacks.TensorBoard(log_dir='./logs')"
      ],
      "metadata": {
        "id": "syqG6tJBHxdh"
      },
      "execution_count": 16,
      "outputs": []
    },
    {
      "cell_type": "code",
      "source": [
        "#restore = tf.keras.callbacks.BackupAndRestore('/ELL')"
      ],
      "metadata": {
        "id": "zj27ZLfaH1Gp"
      },
      "execution_count": 17,
      "outputs": []
    },
    {
      "cell_type": "code",
      "execution_count": 51,
      "metadata": {
        "id": "bbWnydALFXzX"
      },
      "outputs": [],
      "source": [
        "epochs = 50"
      ]
    },
    {
      "cell_type": "code",
      "execution_count": 52,
      "metadata": {
        "id": "OtisLNrtFXzY",
        "colab": {
          "base_uri": "https://localhost:8080/"
        },
        "outputId": "7c06120c-8de6-4347-b621-8d18a6e12ad0"
      },
      "outputs": [
        {
          "output_type": "stream",
          "name": "stdout",
          "text": [
            "Epoch 1/50\n",
            "3519/3519 [==============================] - 85s 24ms/step - loss: 14.7845 - accuracy: 0.1577 - val_loss: 2.4894 - val_accuracy: 0.0383\n",
            "Epoch 2/50\n",
            "3519/3519 [==============================] - 86s 24ms/step - loss: 14.9881 - accuracy: 0.1591 - val_loss: 2.0215 - val_accuracy: 0.1276\n",
            "Epoch 3/50\n",
            "3519/3519 [==============================] - 85s 24ms/step - loss: 14.5448 - accuracy: 0.1591 - val_loss: 1.7540 - val_accuracy: 0.2704\n",
            "Epoch 4/50\n",
            "3519/3519 [==============================] - 79s 23ms/step - loss: 14.9417 - accuracy: 0.1677 - val_loss: 2.1209 - val_accuracy: 0.1020\n",
            "Epoch 5/50\n",
            "3519/3519 [==============================] - 81s 23ms/step - loss: 14.0593 - accuracy: 0.1688 - val_loss: 1.9709 - val_accuracy: 0.1505\n",
            "Epoch 6/50\n",
            "3519/3519 [==============================] - 80s 23ms/step - loss: 14.0353 - accuracy: 0.1549 - val_loss: 1.8129 - val_accuracy: 0.1888\n",
            "Epoch 7/50\n",
            "3519/3519 [==============================] - 81s 23ms/step - loss: 14.4563 - accuracy: 0.1742 - val_loss: 2.1556 - val_accuracy: 0.0995\n",
            "Epoch 8/50\n",
            "3519/3519 [==============================] - 88s 25ms/step - loss: 13.7146 - accuracy: 0.1665 - val_loss: 2.2790 - val_accuracy: 0.0842\n",
            "Epoch 9/50\n",
            "3519/3519 [==============================] - 88s 25ms/step - loss: 13.7867 - accuracy: 0.1810 - val_loss: 2.1156 - val_accuracy: 0.1582\n",
            "Epoch 10/50\n",
            "3519/3519 [==============================] - 87s 25ms/step - loss: 14.1284 - accuracy: 0.1685 - val_loss: 1.8610 - val_accuracy: 0.1735\n",
            "Epoch 11/50\n",
            "3519/3519 [==============================] - 80s 23ms/step - loss: 13.7037 - accuracy: 0.1768 - val_loss: 1.9099 - val_accuracy: 0.1786\n",
            "Epoch 12/50\n",
            "3519/3519 [==============================] - 81s 23ms/step - loss: 13.3726 - accuracy: 0.1841 - val_loss: 1.9253 - val_accuracy: 0.1582\n",
            "Epoch 13/50\n",
            "3519/3519 [==============================] - 81s 23ms/step - loss: 13.9892 - accuracy: 0.1895 - val_loss: 1.9927 - val_accuracy: 0.1250\n",
            "Epoch 14/50\n",
            "3519/3519 [==============================] - 83s 24ms/step - loss: 13.2118 - accuracy: 0.1841 - val_loss: 2.0361 - val_accuracy: 0.1811\n",
            "Epoch 15/50\n",
            "3519/3519 [==============================] - 83s 24ms/step - loss: 13.2483 - accuracy: 0.1782 - val_loss: 1.8549 - val_accuracy: 0.2143\n",
            "Epoch 16/50\n",
            "3519/3519 [==============================] - 80s 23ms/step - loss: 13.2427 - accuracy: 0.1907 - val_loss: 2.0226 - val_accuracy: 0.1913\n",
            "Epoch 17/50\n",
            "3519/3519 [==============================] - 84s 24ms/step - loss: 13.3650 - accuracy: 0.1881 - val_loss: 1.9521 - val_accuracy: 0.1684\n",
            "Epoch 18/50\n",
            "3519/3519 [==============================] - 83s 24ms/step - loss: 13.6912 - accuracy: 0.1856 - val_loss: 2.0589 - val_accuracy: 0.0995\n",
            "Epoch 19/50\n",
            "3519/3519 [==============================] - 82s 23ms/step - loss: 12.8690 - accuracy: 0.1930 - val_loss: 2.0250 - val_accuracy: 0.1556\n",
            "Epoch 20/50\n",
            "3519/3519 [==============================] - 82s 23ms/step - loss: 12.7492 - accuracy: 0.1890 - val_loss: 1.9939 - val_accuracy: 0.1556\n",
            "Epoch 21/50\n",
            "3519/3519 [==============================] - 81s 23ms/step - loss: 12.7398 - accuracy: 0.1898 - val_loss: 1.9804 - val_accuracy: 0.1811\n",
            "Epoch 22/50\n",
            "3519/3519 [==============================] - 82s 23ms/step - loss: 12.6681 - accuracy: 0.1793 - val_loss: 1.9151 - val_accuracy: 0.1531\n",
            "Epoch 23/50\n",
            "3519/3519 [==============================] - 79s 22ms/step - loss: 12.3967 - accuracy: 0.2018 - val_loss: 1.9909 - val_accuracy: 0.1684\n",
            "Epoch 24/50\n",
            "3519/3519 [==============================] - 81s 23ms/step - loss: 12.6558 - accuracy: 0.1785 - val_loss: 2.0441 - val_accuracy: 0.1531\n",
            "Epoch 25/50\n",
            "3519/3519 [==============================] - 82s 23ms/step - loss: 12.3878 - accuracy: 0.1966 - val_loss: 2.1879 - val_accuracy: 0.1454\n",
            "Epoch 26/50\n",
            "3519/3519 [==============================] - 80s 23ms/step - loss: 12.5182 - accuracy: 0.2029 - val_loss: 1.9205 - val_accuracy: 0.1709\n",
            "Epoch 27/50\n",
            "3519/3519 [==============================] - 79s 22ms/step - loss: 12.3758 - accuracy: 0.2012 - val_loss: 2.3440 - val_accuracy: 0.1352\n",
            "Epoch 28/50\n",
            "3519/3519 [==============================] - 77s 22ms/step - loss: 13.1436 - accuracy: 0.1961 - val_loss: 2.0091 - val_accuracy: 0.1556\n",
            "Epoch 29/50\n",
            "3519/3519 [==============================] - 78s 22ms/step - loss: 11.8084 - accuracy: 0.2057 - val_loss: 1.9815 - val_accuracy: 0.1658\n",
            "Epoch 30/50\n",
            "3519/3519 [==============================] - 77s 22ms/step - loss: 12.0746 - accuracy: 0.1876 - val_loss: 1.8766 - val_accuracy: 0.2270\n",
            "Epoch 31/50\n",
            "3519/3519 [==============================] - 83s 23ms/step - loss: 12.6017 - accuracy: 0.1918 - val_loss: 1.9616 - val_accuracy: 0.1735\n",
            "Epoch 32/50\n",
            "3519/3519 [==============================] - 79s 22ms/step - loss: 11.8505 - accuracy: 0.2006 - val_loss: 2.0249 - val_accuracy: 0.1301\n",
            "Epoch 33/50\n",
            "3519/3519 [==============================] - 82s 23ms/step - loss: 11.9723 - accuracy: 0.2006 - val_loss: 1.9962 - val_accuracy: 0.1429\n",
            "Epoch 34/50\n",
            "3519/3519 [==============================] - 80s 23ms/step - loss: 12.1415 - accuracy: 0.1949 - val_loss: 2.1917 - val_accuracy: 0.1224\n",
            "Epoch 35/50\n",
            "3519/3519 [==============================] - 78s 22ms/step - loss: 12.4991 - accuracy: 0.2052 - val_loss: 2.0206 - val_accuracy: 0.2015\n",
            "Epoch 36/50\n",
            "3519/3519 [==============================] - 80s 23ms/step - loss: 11.3685 - accuracy: 0.1995 - val_loss: 1.9461 - val_accuracy: 0.2372\n",
            "Epoch 37/50\n",
            "3519/3519 [==============================] - 77s 22ms/step - loss: 12.6121 - accuracy: 0.2046 - val_loss: 1.9558 - val_accuracy: 0.1531\n",
            "Epoch 38/50\n",
            "3519/3519 [==============================] - 79s 22ms/step - loss: 11.4284 - accuracy: 0.2086 - val_loss: 1.9432 - val_accuracy: 0.2092\n",
            "Epoch 39/50\n",
            "3519/3519 [==============================] - 77s 22ms/step - loss: 12.0935 - accuracy: 0.2083 - val_loss: 2.0089 - val_accuracy: 0.2347\n",
            "Epoch 40/50\n",
            "3519/3519 [==============================] - 79s 22ms/step - loss: 11.0936 - accuracy: 0.2103 - val_loss: 1.9637 - val_accuracy: 0.1964\n",
            "Epoch 41/50\n",
            "3519/3519 [==============================] - 80s 23ms/step - loss: 12.0441 - accuracy: 0.2063 - val_loss: 2.1576 - val_accuracy: 0.1480\n",
            "Epoch 42/50\n",
            "3519/3519 [==============================] - 76s 22ms/step - loss: 12.0278 - accuracy: 0.2103 - val_loss: 2.0424 - val_accuracy: 0.1454\n",
            "Epoch 43/50\n",
            "3519/3519 [==============================] - 77s 22ms/step - loss: 11.2282 - accuracy: 0.2197 - val_loss: 1.9016 - val_accuracy: 0.1735\n",
            "Epoch 44/50\n",
            "3519/3519 [==============================] - 76s 22ms/step - loss: 11.5881 - accuracy: 0.2114 - val_loss: 1.9174 - val_accuracy: 0.2015\n",
            "Epoch 45/50\n",
            "3519/3519 [==============================] - 78s 22ms/step - loss: 11.8926 - accuracy: 0.2165 - val_loss: 1.9680 - val_accuracy: 0.2270\n",
            "Epoch 46/50\n",
            "3519/3519 [==============================] - 76s 22ms/step - loss: 11.2107 - accuracy: 0.2225 - val_loss: 2.1379 - val_accuracy: 0.1224\n",
            "Epoch 47/50\n",
            "3519/3519 [==============================] - 78s 22ms/step - loss: 10.9458 - accuracy: 0.2043 - val_loss: 1.9655 - val_accuracy: 0.2347\n",
            "Epoch 48/50\n",
            "3519/3519 [==============================] - 79s 22ms/step - loss: 12.0206 - accuracy: 0.2120 - val_loss: 1.9605 - val_accuracy: 0.1913\n",
            "Epoch 49/50\n",
            "3519/3519 [==============================] - 74s 21ms/step - loss: 11.1747 - accuracy: 0.2222 - val_loss: 2.1767 - val_accuracy: 0.1403\n",
            "Epoch 50/50\n",
            "3519/3519 [==============================] - 76s 22ms/step - loss: 11.5253 - accuracy: 0.2094 - val_loss: 2.0296 - val_accuracy: 0.1786\n"
          ]
        }
      ],
      "source": [
        "history = classifier_model.fit(x = train_X,\n",
        "                               y = train_Y,\n",
        "                               epochs = epochs,\n",
        "                               batch_size=batch_size, \n",
        "                               #callbacks=[restore],\n",
        "                               class_weight = distr,\n",
        "                               validation_split= 0.1)"
      ]
    },
    {
      "cell_type": "code",
      "source": [
        "classifier_model.save('saved_model2')"
      ],
      "metadata": {
        "id": "GtEecg34IsHD",
        "outputId": "6a3a61ba-b69c-413f-cf70-9b2962fc29e0",
        "colab": {
          "base_uri": "https://localhost:8080/"
        }
      },
      "execution_count": null,
      "outputs": [
        {
          "output_type": "stream",
          "name": "stderr",
          "text": [
            "WARNING:absl:Found untraced functions such as re_lu_5_layer_call_fn, re_lu_5_layer_call_and_return_conditional_losses, re_lu_6_layer_call_fn, re_lu_6_layer_call_and_return_conditional_losses, re_lu_7_layer_call_fn while saving (showing 5 of 6). These functions will not be directly callable after loading.\n"
          ]
        }
      ]
    },
    {
      "cell_type": "code",
      "source": [
        "!tar -czvf model2.tar.gz saved_model1"
      ],
      "metadata": {
        "id": "bkUnRoQdnTQe",
        "outputId": "d517e422-dc11-41ae-d3ab-7bf16996bae2",
        "colab": {
          "base_uri": "https://localhost:8080/"
        }
      },
      "execution_count": null,
      "outputs": [
        {
          "output_type": "stream",
          "name": "stdout",
          "text": [
            "saved_model1/\n",
            "saved_model1/variables/\n",
            "saved_model1/variables/variables.index\n",
            "saved_model1/variables/variables.data-00000-of-00001\n",
            "saved_model1/saved_model.pb\n",
            "saved_model1/assets/\n",
            "saved_model1/keras_metadata.pb\n"
          ]
        }
      ]
    },
    {
      "cell_type": "code",
      "source": [
        "files.download('model2.tar.gz')"
      ],
      "metadata": {
        "id": "qp6kry-YRlB8",
        "outputId": "c493992f-79d1-4d99-8085-bffc79971361",
        "colab": {
          "base_uri": "https://localhost:8080/",
          "height": 17
        }
      },
      "execution_count": null,
      "outputs": [
        {
          "output_type": "display_data",
          "data": {
            "text/plain": [
              "<IPython.core.display.Javascript object>"
            ],
            "application/javascript": [
              "\n",
              "    async function download(id, filename, size) {\n",
              "      if (!google.colab.kernel.accessAllowed) {\n",
              "        return;\n",
              "      }\n",
              "      const div = document.createElement('div');\n",
              "      const label = document.createElement('label');\n",
              "      label.textContent = `Downloading \"${filename}\": `;\n",
              "      div.appendChild(label);\n",
              "      const progress = document.createElement('progress');\n",
              "      progress.max = size;\n",
              "      div.appendChild(progress);\n",
              "      document.body.appendChild(div);\n",
              "\n",
              "      const buffers = [];\n",
              "      let downloaded = 0;\n",
              "\n",
              "      const channel = await google.colab.kernel.comms.open(id);\n",
              "      // Send a message to notify the kernel that we're ready.\n",
              "      channel.send({})\n",
              "\n",
              "      for await (const message of channel.messages) {\n",
              "        // Send a message to notify the kernel that we're ready.\n",
              "        channel.send({})\n",
              "        if (message.buffers) {\n",
              "          for (const buffer of message.buffers) {\n",
              "            buffers.push(buffer);\n",
              "            downloaded += buffer.byteLength;\n",
              "            progress.value = downloaded;\n",
              "          }\n",
              "        }\n",
              "      }\n",
              "      const blob = new Blob(buffers, {type: 'application/binary'});\n",
              "      const a = document.createElement('a');\n",
              "      a.href = window.URL.createObjectURL(blob);\n",
              "      a.download = filename;\n",
              "      div.appendChild(a);\n",
              "      a.click();\n",
              "      div.remove();\n",
              "    }\n",
              "  "
            ]
          },
          "metadata": {}
        },
        {
          "output_type": "display_data",
          "data": {
            "text/plain": [
              "<IPython.core.display.Javascript object>"
            ],
            "application/javascript": [
              "download(\"download_a3264333-0bf6-4e43-ba3a-0bb440f59678\", \"model2.tar.gz\", 1469645)"
            ]
          },
          "metadata": {}
        }
      ]
    },
    {
      "cell_type": "markdown",
      "metadata": {
        "id": "Dn0txPyoFXzY"
      },
      "source": [
        "# **Model evaluation**"
      ]
    },
    {
      "cell_type": "code",
      "execution_count": 35,
      "metadata": {
        "colab": {
          "base_uri": "https://localhost:8080/"
        },
        "id": "byS4AO0GFXzY",
        "outputId": "22b1fb9f-7c01-44b4-eca9-bbc0326bd6c3"
      },
      "outputs": [
        {
          "output_type": "stream",
          "name": "stdout",
          "text": [
            "dict_keys(['loss', 'mse', 'val_loss', 'val_mse'])\n"
          ]
        }
      ],
      "source": [
        "history_dict = history.history\n",
        "print(history_dict.keys())"
      ]
    },
    {
      "cell_type": "code",
      "execution_count": 36,
      "metadata": {
        "colab": {
          "base_uri": "https://localhost:8080/",
          "height": 300
        },
        "id": "2Zd4htWmFXzY",
        "outputId": "86ccd208-57c1-4773-bf13-d28b8ca829ba"
      },
      "outputs": [
        {
          "output_type": "stream",
          "name": "stderr",
          "text": [
            "WARNING:matplotlib.legend:No handles with labels found to put in legend.\n"
          ]
        },
        {
          "output_type": "execute_result",
          "data": {
            "text/plain": [
              "[<matplotlib.lines.Line2D at 0x7f1e34f99a90>]"
            ]
          },
          "metadata": {},
          "execution_count": 36
        },
        {
          "output_type": "display_data",
          "data": {
            "text/plain": [
              "<Figure size 432x288 with 2 Axes>"
            ],
            "image/png": "[encoded data removed]"
          },
          "metadata": {
            "needs_background": "light"
          }
        }
      ],
      "source": [
        "i = range(epochs)\n",
        "plt.figure(1)\n",
        "plt.title('Model evaluation')\n",
        "plt.legend()\n",
        "\n",
        "#plt.subplot(2,1,1)\n",
        "#plt.plot(i,history_dict['loss'],'r',label = \"Training loss\")\n",
        "\n",
        "plt.subplot(2,2,2)\n",
        "plt.plot(i,history_dict['mse'],'b',label = \"Training MSE\")\n",
        "\n",
        "#plt.subplot(2,1,2)\n",
        "#plt.plot(i,history_dict['val_loss'],'g',label = \"Validadion loss\")\n",
        "\n",
        "plt.subplot(2,2,4)\n",
        "plt.plot(i,history_dict['val_mse'],'y',label = \"Validation MSE\")"
      ]
    },
    {
      "cell_type": "code",
      "source": [
        "#t = test_X[0:5]"
      ],
      "metadata": {
        "id": "I2N_8v43WdPn"
      },
      "execution_count": null,
      "outputs": []
    },
    {
      "cell_type": "code",
      "execution_count": 37,
      "metadata": {
        "colab": {
          "base_uri": "https://localhost:8080/"
        },
        "id": "0D5f2VDDALon",
        "outputId": "cdae60af-6bef-424f-cd2b-0b83682e4559"
      },
      "outputs": [
        {
          "output_type": "stream",
          "name": "stdout",
          "text": [
            "123/123 [==============================] - 0s 1ms/step\n"
          ]
        }
      ],
      "source": [
        "test_Y_n = classifier_model.predict(output,verbose = 1)"
      ]
    },
    {
      "cell_type": "code",
      "execution_count": 38,
      "metadata": {
        "id": "rse4POt3FXzZ",
        "colab": {
          "base_uri": "https://localhost:8080/"
        },
        "outputId": "67ddd76b-ce9d-431e-d560-bc264b99ba4b"
      },
      "outputs": [
        {
          "output_type": "stream",
          "name": "stdout",
          "text": [
            "MCRMSE =  0.5867038663116837\n"
          ]
        }
      ],
      "source": [
        "#for classificatio\n",
        "#pred_test_Y=(np.argmax(test_Y_n,1)+2)/2\n",
        "#for regression\n",
        "pred_Y = np.reshape((np.round(test_Y_n)+2)/2,num_text)\n",
        "mcrmse_test = np.sqrt(np.sum(np.square(pred_Y-test_Y))/num_text)\n",
        "print('MCRMSE = ',mcrmse_test) "
      ]
    },
    {
      "cell_type": "markdown",
      "metadata": {
        "id": "Vx3FdXLkFXzZ"
      },
      "source": [
        "MCRMSE =  0.617284905504784 5 epochs\n",
        "\n",
        "MCRMSE =  0.6333342304873718 10 epochs\n",
        "\n",
        "MCRMSE =  0.6012389019459027 10 epochs bached 32\n",
        "\n",
        "MCRMSE =  0.6137303634466796 5 epochs batched tuned\n",
        "\n",
        "MCRMSE =  0.5939521873178615 5 epochs 2 dense\n",
        "  \n",
        "MCRMSE =  0.5827963961318415 10 epochs 5 dense\n",
        "\n",
        "MCRMSE =  0.47713642331475004  1 epoch 3 dense shaped"
      ]
    },
    {
      "cell_type": "markdown",
      "source": [
        "regression:full +3x128+3x64\n",
        "\n",
        "MCRMSE =  1.1748504531717312\n",
        "\n",
        "Epoch 100/100 ====>loss: 21.0348 - mse: 2.3953\n",
        "\n",
        "\n",
        "\n",
        "regression:full +5x128\n",
        "\n",
        "MCRMSE =  0.6841\n",
        "\n",
        "Epochs:300 ======> loss: 16.6 - mse: 1.99\n",
        "\n",
        "\n",
        "\n",
        "\n",
        "regression:full all layers\n",
        "\n",
        "MCRMSE =  0.568\n",
        "\n",
        "Epochs:400 ======> loss: 6.66 - mse: 1.03\n"
      ],
      "metadata": {
        "id": "OaIMEoptejEM"
      }
    },
    {
      "cell_type": "markdown",
      "metadata": {
        "id": "rTVBtJRBFXzZ"
      },
      "source": [
        "# **create output file**"
      ]
    },
    {
      "cell_type": "code",
      "execution_count": null,
      "metadata": {
        "id": "7hdkbzQ0FXza"
      },
      "outputs": [],
      "source": [
        "#np.reshape(pred_Y,(num_text))\n",
        "result = [test_id, pred_Y]\n",
        "df_result = pd.DataFrame(np.transpose(result),columns = columns)"
      ]
    },
    {
      "cell_type": "markdown",
      "metadata": {
        "id": "tmVLw7RFFXza"
      },
      "source": [
        "clear the /kaggle/working"
      ]
    },
    {
      "cell_type": "code",
      "execution_count": null,
      "metadata": {
        "colab": {
          "base_uri": "https://localhost:8080/",
          "height": 282
        },
        "id": "NoHvWmlKFXza",
        "outputId": "565ce58d-cc25-40d7-9df6-6eb1f018756e"
      },
      "outputs": [
        {
          "output_type": "execute_result",
          "data": {
            "text/plain": [
              "[<matplotlib.lines.Line2D at 0x7f82f1d3c2b0>]"
            ]
          },
          "metadata": {},
          "execution_count": 159
        },
        {
          "output_type": "display_data",
          "data": {
            "text/plain": [
              "<Figure size 432x288 with 1 Axes>"
            ],
            "image/png": "[encoded data removed]"
          },
          "metadata": {
            "needs_background": "light"
          }
        }
      ],
      "source": [
        "i = range(num_text)\n",
        "plt.plot(i,df_result['cohesion'])"
      ]
    },
    {
      "cell_type": "code",
      "execution_count": null,
      "metadata": {
        "id": "N8KB0XdnFXza"
      },
      "outputs": [],
      "source": [
        "df_result.to_csv('/kaggle/working/submission.csv')"
      ]
    }
  ],
  "metadata": {
    "colab": {
      "provenance": [],
      "include_colab_link": true
    },
    "gpuClass": "standard",
    "kernelspec": {
      "display_name": "Python 3",
      "language": "python",
      "name": "python3"
    },
    "language_info": {
      "codemirror_mode": {
        "name": "ipython",
        "version": 3
      },
      "file_extension": ".py",
      "mimetype": "text/x-python",
      "name": "python",
      "nbconvert_exporter": "python",
      "pygments_lexer": "ipython3",
      "version": "3.7.12"
    }
  },
  "nbformat": 4,
  "nbformat_minor": 0
}