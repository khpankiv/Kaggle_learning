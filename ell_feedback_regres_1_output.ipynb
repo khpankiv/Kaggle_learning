{
  "cells": [
    {
      "cell_type": "markdown",
      "metadata": {
        "id": "view-in-github",
        "colab_type": "text"
      },
      "source": [
        "<a href=\"https://colab.research.google.com/github/khpankiv/Kaggle_learning/blob/normalization/ell_feedback_regres_1_output.ipynb\" target=\"_parent\"><img src=\"https://colab.research.google.com/assets/colab-badge.svg\" alt=\"Open In Colab\"/></a>"
      ]
    },
    {
      "cell_type": "markdown",
      "metadata": {
        "id": "o4LbkUiJFXzK"
      },
      "source": [
        "# **Setup**"
      ]
    },
    {
      "cell_type": "code",
      "execution_count": 1,
      "metadata": {
        "id": "Ex-mHNlBFXzP"
      },
      "outputs": [],
      "source": [
        "# A dependency of the preprocessing for BERT inputs\n",
        "#!pip install -q -U \"tensorflow-text==2.8.*\""
      ]
    },
    {
      "cell_type": "code",
      "execution_count": 1,
      "metadata": {
        "id": "qaABTKcFFXzQ",
        "colab": {
          "base_uri": "https://localhost:8080/"
        },
        "outputId": "fd267d65-0f7c-4e81-a3e1-7fd1fb19772c"
      },
      "outputs": [
        {
          "output_type": "stream",
          "name": "stderr",
          "text": [
            "2022-12-22 19:18:09.799211: W tensorflow/stream_executor/platform/default/dso_loader.cc:64] Could not load dynamic library 'libcudart.so.11.0'; dlerror: libcudart.so.11.0: cannot open shared object file: No such file or directory\n",
            "2022-12-22 19:18:09.799277: I tensorflow/stream_executor/cuda/cudart_stub.cc:29] Ignore above cudart dlerror if you do not have a GPU set up on your machine.\n"
          ]
        }
      ],
      "source": [
        "import pandas as pd\n",
        "import numpy as np\n",
        "import tensorflow as tf\n",
        "import tensorflow_hub as hub\n",
        "import tensorflow_text as text\n",
        "import matplotlib.pyplot as plt"
      ]
    },
    {
      "cell_type": "code",
      "source": [
        "from keras import backend as K\n",
        "config = tf.ConfigProto()\n",
        "config.gpu_options.allow_growth = True\n",
        "config.log_device_placement = True\n",
        "session = tf.Session(config=config)\n",
        "K.set_session(session)"
      ],
      "metadata": {
        "id": "9FkYxh1q1284",
        "outputId": "419bd172-02f8-4aa5-8423-4da231ad2f93",
        "colab": {
          "base_uri": "https://localhost:8080/",
          "height": 218
        }
      },
      "execution_count": 2,
      "outputs": [
        {
          "output_type": "error",
          "ename": "AttributeError",
          "evalue": "ignored",
          "traceback": [
            "\u001b[0;31m---------------------------------------------------------------------------\u001b[0m",
            "\u001b[0;31mAttributeError\u001b[0m                            Traceback (most recent call last)",
            "Cell \u001b[0;32mIn[2], line 2\u001b[0m\n\u001b[1;32m      1\u001b[0m \u001b[38;5;28;01mfrom\u001b[39;00m \u001b[38;5;21;01mkeras\u001b[39;00m \u001b[38;5;28;01mimport\u001b[39;00m backend \u001b[38;5;28;01mas\u001b[39;00m K\n\u001b[0;32m----> 2\u001b[0m config \u001b[38;5;241m=\u001b[39m \u001b[43mtf\u001b[49m\u001b[38;5;241;43m.\u001b[39;49m\u001b[43mConfigProto\u001b[49m()\n\u001b[1;32m      3\u001b[0m config\u001b[38;5;241m.\u001b[39mgpu_options\u001b[38;5;241m.\u001b[39mallow_growth \u001b[38;5;241m=\u001b[39m \u001b[38;5;28;01mTrue\u001b[39;00m\n\u001b[1;32m      4\u001b[0m config\u001b[38;5;241m.\u001b[39mlog_device_placement \u001b[38;5;241m=\u001b[39m \u001b[38;5;28;01mTrue\u001b[39;00m\n",
            "\u001b[0;31mAttributeError\u001b[0m: module 'tensorflow' has no attribute 'ConfigProto'"
          ]
        }
      ]
    },
    {
      "cell_type": "markdown",
      "metadata": {
        "id": "_RfSQGv9FXzQ"
      },
      "source": [
        "# **Read the datasets**"
      ]
    },
    {
      "cell_type": "code",
      "source": [
        "#! cp /mnt/c/users/Khrystyna/Downloads/kaggle.json ~/.kaggle/\n",
        "#! chmod 600 ~/.kaggle/kaggle.json"
      ],
      "metadata": {
        "id": "V8g3M9ZSKS3k"
      },
      "execution_count": 3,
      "outputs": []
    },
    {
      "cell_type": "code",
      "execution_count": 4,
      "metadata": {
        "id": "RhM4hlDaI4aD"
      },
      "outputs": [],
      "source": [
        "\n",
        "#test= pd.read_csv(\"./ELL/test.csv\")\n",
        "#test_sub=pd.read_csv(\"./ELL/sample_submission.csv\")"
      ]
    },
    {
      "cell_type": "code",
      "execution_count": 5,
      "metadata": {
        "id": "smOXeI8LFXzR"
      },
      "outputs": [],
      "source": [
        "train= pd.read_csv(\"./ELL/train.csv\")\n",
        "train = train.sample(frac = 0.25)\n",
        "test = train.iloc[:,0:2]\n",
        "test_sub = train.iloc[:,[0,2]]"
      ]
    },
    {
      "cell_type": "markdown",
      "metadata": {
        "id": "KK2GL4F9FXzS"
      },
      "source": [
        "Data preprocessing: changing grades into integer"
      ]
    },
    {
      "cell_type": "code",
      "execution_count": 6,
      "metadata": {
        "id": "dWr95wpOFXzS"
      },
      "outputs": [],
      "source": [
        "num_text = train.shape[0]\n",
        "#batch_size = 32\n",
        "#num_baches = round(num_text/batch_size)\n",
        "#num_text = num_baches*batch_size\n",
        "columns = ['text_id','cohesion']\n",
        "train_X = train[:].full_text.values\n",
        "#np.reshape(train_X,(batch_size,num_baches))\n",
        "train_Y_n = (train.iloc[:,2].values)*2-2\n",
        "#np.reshape(train_Y_n,(batch_size,num_baches))\n",
        "#train_Y = tf.keras.utils.to_categorical(train_Y_n)\n",
        "train_Y = train_Y_n\n",
        "test_X = train_X\n",
        "test_id = test.text_id.values\n",
        "test_Y = (train.iloc[:,2].values)\n",
        "#np.reshape(test_Y,(batch_size,num_baches))"
      ]
    },
    {
      "cell_type": "code",
      "execution_count": 7,
      "metadata": {
        "id": "CrMQKV1n4nrs"
      },
      "outputs": [],
      "source": [
        "distribution = train['cohesion']. value_counts(1).sort_index()\n",
        "distr = dict(zip(range(9), 1/distribution.values))"
      ]
    },
    {
      "cell_type": "markdown",
      "metadata": {
        "id": "S1AVQeFHFXzT"
      },
      "source": [
        "# **Define the model**\n",
        "A simple fine-tuned model, with the preprocessing model, the selected BERT model, one Dense with Softmax output and a Dropout layer."
      ]
    },
    {
      "cell_type": "markdown",
      "metadata": {
        "id": "21jrhqNwFXzU"
      },
      "source": [
        "Add BERT models"
      ]
    },
    {
      "cell_type": "code",
      "execution_count": 8,
      "metadata": {
        "id": "fJo1PV0XFXzU"
      },
      "outputs": [],
      "source": [
        "tfhub_preprocess = \"https://tfhub.dev/tensorflow/bert_en_uncased_preprocess/3\"\n",
        "tfhub_encoder = \"https://tfhub.dev/tensorflow/bert_en_uncased_L-12_H-768_A-12/4\""
      ]
    },
    {
      "cell_type": "code",
      "execution_count": null,
      "metadata": {
        "id": "GKbI8rGoTTGj",
        "outputId": "1e0bbd63-88c0-4c61-8807-1eb2d0838a6d",
        "colab": {
          "base_uri": "https://localhost:8080/"
        }
      },
      "outputs": [
        {
          "output_type": "stream",
          "name": "stderr",
          "text": [
            "2022-12-22 19:12:10.862783: W tensorflow/stream_executor/platform/default/dso_loader.cc:64] Could not load dynamic library 'libcuda.so.1'; dlerror: libcuda.so.1: cannot open shared object file: No such file or directory\n",
            "2022-12-22 19:12:10.862824: W tensorflow/stream_executor/cuda/cuda_driver.cc:269] failed call to cuInit: UNKNOWN ERROR (303)\n",
            "2022-12-22 19:12:10.862846: I tensorflow/stream_executor/cuda/cuda_diagnostics.cc:156] kernel driver does not appear to be running on this host (DESKTOP-VMHF4TO): /proc/driver/nvidia/version does not exist\n",
            "2022-12-22 19:12:10.863471: I tensorflow/core/platform/cpu_feature_guard.cc:151] This TensorFlow binary is optimized with oneAPI Deep Neural Network Library (oneDNN) to use the following CPU instructions in performance-critical operations:  AVX2 FMA\n",
            "To enable them in other operations, rebuild TensorFlow with the appropriate compiler flags.\n",
            "2022-12-22 19:12:24.529394: W tensorflow/core/framework/cpu_allocator_impl.cc:82] Allocation of 769130496 exceeds 10% of free system memory.\n",
            "2022-12-22 19:12:25.163399: W tensorflow/core/framework/cpu_allocator_impl.cc:82] Allocation of 769130496 exceeds 10% of free system memory.\n",
            "2022-12-22 19:12:27.250975: W tensorflow/core/framework/cpu_allocator_impl.cc:82] Allocation of 1538260992 exceeds 10% of free system memory.\n",
            "2022-12-22 19:12:29.242480: W tensorflow/core/framework/cpu_allocator_impl.cc:82] Allocation of 1538260992 exceeds 10% of free system memory.\n",
            "2022-12-22 19:12:35.707132: W tensorflow/core/framework/cpu_allocator_impl.cc:82] Allocation of 769130496 exceeds 10% of free system memory.\n"
          ]
        }
      ],
      "source": [
        "  preprocess_model = hub.KerasLayer(tfhub_preprocess)\n",
        "  encoder_inputs = preprocess_model(train_X)\n",
        "  encoder = hub.KerasLayer(tfhub_encoder, trainable=False)\n",
        "  outputs = encoder(encoder_inputs)\n",
        "  output = outputs['pooled_output']\n",
        "  #normalization = tf.keras.layers.Normalization()\n",
        "  #normalization.adapt(output_not_normalized,batch_size=1)\n",
        "  #output = normalization(output_not_normalized)"
      ]
    },
    {
      "cell_type": "code",
      "execution_count": null,
      "metadata": {
        "id": "rHYV0NBqxXdi"
      },
      "outputs": [],
      "source": [
        "np.save('./ELL/Restore/embedded1', output)"
      ]
    },
    {
      "cell_type": "code",
      "source": [
        "#output_norm = np.load('./ELL/Restore/embedded.npy')"
      ],
      "metadata": {
        "id": "XVNx8Pes6YqQ"
      },
      "execution_count": null,
      "outputs": []
    },
    {
      "cell_type": "code",
      "source": [
        "batch_size = 1"
      ],
      "metadata": {
        "id": "OXQUxrvYVGqP"
      },
      "execution_count": 100,
      "outputs": []
    },
    {
      "cell_type": "code",
      "execution_count": 101,
      "metadata": {
        "id": "hsQlcJAbFXzW"
      },
      "outputs": [],
      "source": [
        "def build_classifier_model(activ,num_output):\n",
        "  input = tf.keras.layers.Input(shape = (768),batch_size = batch_size, name = 'text')\n",
        "  #preprocessing_layer = hub.KerasLayer(tfhub_preprocess)\n",
        "  #encoder_inputs = preprocessing_layer(text_input)\n",
        "  #encoder = hub.KerasLayer(tfhub_encoder, trainable=False)\n",
        "  #outputs = encoder(encoder_inputs)\n",
        "  #output_not_normalized = outputs['pooled_output']\n",
        "  #normalization = tf.keras.layers.Normalization(mean = 0, variance = 1)\n",
        "  #output = normalization(output_not_normalized)\n",
        "  output = tf.keras.layers.Dense(256,activation='ReLU')(input)\n",
        "  output = tf.keras.layers.Dense(128, activation='ReLU')(output)\n",
        "  output = tf.keras.layers.Dense(64, activation='ReLU')(output) \n",
        "  output = tf.keras.layers.Dense(32, activation='ReLU')(output)\n",
        "  output = tf.keras.layers.Dense(16, activation='ReLU')(output)\n",
        "  output = tf.keras.layers.Dense(32, activation='ReLU')(output)\n",
        "#net_1 = tf.keras.layers.Dropout(0.1)(output_2)\n",
        "  net_1 = tf.keras.layers.Dense(num_output, activation = activ)(output)\n",
        "  return tf.keras.Model(input, net_1)"
      ]
    },
    {
      "cell_type": "code",
      "source": [
        "restore = tf.keras.callbacks.BackupAndRestore(backup_dir=\"/ELL/Restore\")"
      ],
      "metadata": {
        "id": "Nukb0F6_vqYV"
      },
      "execution_count": 90,
      "outputs": []
    },
    {
      "cell_type": "code",
      "execution_count": 102,
      "metadata": {
        "id": "uW8vEfNMFXzX"
      },
      "outputs": [],
      "source": [
        "classifier_model = build_classifier_model('sigmoid',9)"
      ]
    },
    {
      "cell_type": "code",
      "source": [
        "classifier_model.summary()"
      ],
      "metadata": {
        "id": "OhozfHGxxoAW",
        "outputId": "18e58d96-9af4-4ab9-ee8f-936b31a211c8",
        "colab": {
          "base_uri": "https://localhost:8080/"
        }
      },
      "execution_count": 103,
      "outputs": [
        {
          "output_type": "stream",
          "name": "stdout",
          "text": [
            "Model: \"model_4\"\n",
            "_________________________________________________________________\n",
            " Layer (type)                Output Shape              Param #   \n",
            "=================================================================\n",
            " text (InputLayer)           [(10, 768)]               0         \n",
            "                                                                 \n",
            " dense_25 (Dense)            (10, 256)                 196864    \n",
            "                                                                 \n",
            " dense_26 (Dense)            (10, 128)                 32896     \n",
            "                                                                 \n",
            " dense_27 (Dense)            (10, 64)                  8256      \n",
            "                                                                 \n",
            " dense_28 (Dense)            (10, 32)                  2080      \n",
            "                                                                 \n",
            " dense_29 (Dense)            (10, 16)                  528       \n",
            "                                                                 \n",
            " dense_30 (Dense)            (10, 32)                  544       \n",
            "                                                                 \n",
            " dense_31 (Dense)            (10, 9)                   297       \n",
            "                                                                 \n",
            "=================================================================\n",
            "Total params: 241,465\n",
            "Trainable params: 241,465\n",
            "Non-trainable params: 0\n",
            "_________________________________________________________________\n"
          ]
        }
      ]
    },
    {
      "cell_type": "markdown",
      "metadata": {
        "id": "NEHxh2NAFXzX"
      },
      "source": [
        "# **Model training**"
      ]
    },
    {
      "cell_type": "code",
      "execution_count": 104,
      "metadata": {
        "id": "bbWnydALFXzX"
      },
      "outputs": [],
      "source": [
        "epochs = 50\n",
        "loss = tf.keras.losses.SparseCategoricalCrossentropy()"
      ]
    },
    {
      "cell_type": "code",
      "source": [
        "   # from google3.third_party.tensorflow.core.protobuf import rewriter_config_pb2\n",
        "    #    config_proto = tf.ConfigProto()\n",
        "#    off = rewriter_config_pb2.RewriterConfig.OFF\n",
        " #   config_proto.graph_options.rewrite_options.arithmetic_optimization = off\n",
        "  #    session = tf.Session(config=config_proto)"
      ],
      "metadata": {
        "id": "-sh7RnYVL2Bg"
      },
      "execution_count": 16,
      "outputs": []
    },
    {
      "cell_type": "markdown",
      "source": [],
      "metadata": {
        "id": "avH4Br0t0TYH"
      }
    },
    {
      "cell_type": "code",
      "execution_count": 105,
      "metadata": {
        "id": "icc5Zq8AFXzX"
      },
      "outputs": [],
      "source": [
        "classifier_model.compile(optimizer = 'adam',\n",
        "                         loss = loss,\n",
        "                         metrics = 'accuracy')"
      ]
    },
    {
      "cell_type": "code",
      "execution_count": 106,
      "metadata": {
        "id": "OtisLNrtFXzY",
        "colab": {
          "base_uri": "https://localhost:8080/",
          "height": 1000
        },
        "outputId": "3bb7945f-e91a-41b6-a2b4-551077fa284e"
      },
      "outputs": [
        {
          "output_type": "stream",
          "name": "stdout",
          "text": [
            "Epoch 1/50\n",
            "35/40 [=========================>....] - ETA: 0s - loss: 21.8800 - accuracy: 0.2257"
          ]
        },
        {
          "output_type": "error",
          "ename": "InvalidArgumentError",
          "evalue": "ignored",
          "traceback": [
            "\u001b[0;31m---------------------------------------------------------------------------\u001b[0m",
            "\u001b[0;31mInvalidArgumentError\u001b[0m                      Traceback (most recent call last)",
            "Cell \u001b[0;32mIn[106], line 1\u001b[0m\n\u001b[0;32m----> 1\u001b[0m history \u001b[38;5;241m=\u001b[39m \u001b[43mclassifier_model\u001b[49m\u001b[38;5;241;43m.\u001b[39;49m\u001b[43mfit\u001b[49m\u001b[43m(\u001b[49m\u001b[43mx\u001b[49m\u001b[43m \u001b[49m\u001b[38;5;241;43m=\u001b[39;49m\u001b[43m \u001b[49m\u001b[43moutput\u001b[49m\u001b[43m,\u001b[49m\n\u001b[1;32m      2\u001b[0m \u001b[43m                               \u001b[49m\u001b[43my\u001b[49m\u001b[43m \u001b[49m\u001b[38;5;241;43m=\u001b[39;49m\u001b[43m \u001b[49m\u001b[43mtrain_Y\u001b[49m\u001b[43m,\u001b[49m\n\u001b[1;32m      3\u001b[0m \u001b[43m                               \u001b[49m\u001b[43mepochs\u001b[49m\u001b[43m \u001b[49m\u001b[38;5;241;43m=\u001b[39;49m\u001b[43m \u001b[49m\u001b[43mepochs\u001b[49m\u001b[43m,\u001b[49m\n\u001b[1;32m      4\u001b[0m \u001b[43m                               \u001b[49m\u001b[43mbatch_size\u001b[49m\u001b[38;5;241;43m=\u001b[39;49m\u001b[43mbatch_size\u001b[49m\u001b[43m,\u001b[49m\u001b[43m \u001b[49m\n\u001b[1;32m      5\u001b[0m \u001b[43m                               \u001b[49m\u001b[38;5;66;43;03m#callbacks=[restore],\u001b[39;49;00m\n\u001b[1;32m      6\u001b[0m \u001b[43m                               \u001b[49m\u001b[43mclass_weight\u001b[49m\u001b[43m \u001b[49m\u001b[38;5;241;43m=\u001b[39;49m\u001b[43m \u001b[49m\u001b[43mdistr\u001b[49m\u001b[43m)\u001b[49m\n",
            "File \u001b[0;32m~/.local/lib/python3.10/site-packages/keras/utils/traceback_utils.py:67\u001b[0m, in \u001b[0;36mfilter_traceback.<locals>.error_handler\u001b[0;34m(*args, **kwargs)\u001b[0m\n\u001b[1;32m     65\u001b[0m \u001b[38;5;28;01mexcept\u001b[39;00m \u001b[38;5;167;01mException\u001b[39;00m \u001b[38;5;28;01mas\u001b[39;00m e:  \u001b[38;5;66;03m# pylint: disable=broad-except\u001b[39;00m\n\u001b[1;32m     66\u001b[0m   filtered_tb \u001b[38;5;241m=\u001b[39m _process_traceback_frames(e\u001b[38;5;241m.\u001b[39m__traceback__)\n\u001b[0;32m---> 67\u001b[0m   \u001b[38;5;28;01mraise\u001b[39;00m e\u001b[38;5;241m.\u001b[39mwith_traceback(filtered_tb) \u001b[38;5;28;01mfrom\u001b[39;00m \u001b[38;5;28mNone\u001b[39m\n\u001b[1;32m     68\u001b[0m \u001b[38;5;28;01mfinally\u001b[39;00m:\n\u001b[1;32m     69\u001b[0m   \u001b[38;5;28;01mdel\u001b[39;00m filtered_tb\n",
            "File \u001b[0;32m~/.local/lib/python3.10/site-packages/tensorflow/python/eager/execute.py:54\u001b[0m, in \u001b[0;36mquick_execute\u001b[0;34m(op_name, num_outputs, inputs, attrs, ctx, name)\u001b[0m\n\u001b[1;32m     52\u001b[0m \u001b[38;5;28;01mtry\u001b[39;00m:\n\u001b[1;32m     53\u001b[0m   ctx\u001b[38;5;241m.\u001b[39mensure_initialized()\n\u001b[0;32m---> 54\u001b[0m   tensors \u001b[38;5;241m=\u001b[39m pywrap_tfe\u001b[38;5;241m.\u001b[39mTFE_Py_Execute(ctx\u001b[38;5;241m.\u001b[39m_handle, device_name, op_name,\n\u001b[1;32m     55\u001b[0m                                       inputs, attrs, num_outputs)\n\u001b[1;32m     56\u001b[0m \u001b[38;5;28;01mexcept\u001b[39;00m core\u001b[38;5;241m.\u001b[39m_NotOkStatusException \u001b[38;5;28;01mas\u001b[39;00m e:\n\u001b[1;32m     57\u001b[0m   \u001b[38;5;28;01mif\u001b[39;00m name \u001b[38;5;129;01mis\u001b[39;00m \u001b[38;5;129;01mnot\u001b[39;00m \u001b[38;5;28;01mNone\u001b[39;00m:\n",
            "\u001b[0;31mInvalidArgumentError\u001b[0m: Graph execution error:\n\nDetected at node 'gradient_tape/sparse_categorical_crossentropy/weighted_loss/Reshape_2' defined at (most recent call last):\n    File \"/usr/lib/python3.10/runpy.py\", line 196, in _run_module_as_main\n      return _run_code(code, main_globals, None,\n    File \"/usr/lib/python3.10/runpy.py\", line 86, in _run_code\n      exec(code, run_globals)\n    File \"/usr/local/lib/python3.10/dist-packages/ipykernel_launcher.py\", line 17, in <module>\n      app.launch_new_instance()\n    File \"/usr/local/lib/python3.10/dist-packages/traitlets/config/application.py\", line 992, in launch_instance\n      app.start()\n    File \"/usr/local/lib/python3.10/dist-packages/ipykernel/kernelapp.py\", line 711, in start\n      self.io_loop.start()\n    File \"/home/khrystyna/.local/lib/python3.10/site-packages/tornado/platform/asyncio.py\", line 215, in start\n      self.asyncio_loop.run_forever()\n    File \"/usr/lib/python3.10/asyncio/base_events.py\", line 600, in run_forever\n      self._run_once()\n    File \"/usr/lib/python3.10/asyncio/base_events.py\", line 1896, in _run_once\n      handle._run()\n    File \"/usr/lib/python3.10/asyncio/events.py\", line 80, in _run\n      self._context.run(self._callback, *self._args)\n    File \"/usr/local/lib/python3.10/dist-packages/ipykernel/kernelbase.py\", line 510, in dispatch_queue\n      await self.process_one()\n    File \"/usr/local/lib/python3.10/dist-packages/ipykernel/kernelbase.py\", line 499, in process_one\n      await dispatch(*args)\n    File \"/usr/local/lib/python3.10/dist-packages/ipykernel/kernelbase.py\", line 406, in dispatch_shell\n      await result\n    File \"/usr/local/lib/python3.10/dist-packages/ipykernel/kernelbase.py\", line 729, in execute_request\n      reply_content = await reply_content\n    File \"/usr/local/lib/python3.10/dist-packages/ipykernel/ipkernel.py\", line 411, in do_execute\n      res = shell.run_cell(\n    File \"/usr/local/lib/python3.10/dist-packages/ipykernel/zmqshell.py\", line 531, in run_cell\n      return super().run_cell(*args, **kwargs)\n    File \"/usr/local/lib/python3.10/dist-packages/IPython/core/interactiveshell.py\", line 2940, in run_cell\n      result = self._run_cell(\n    File \"/usr/local/lib/python3.10/dist-packages/IPython/core/interactiveshell.py\", line 2995, in _run_cell\n      return runner(coro)\n    File \"/usr/local/lib/python3.10/dist-packages/IPython/core/async_helpers.py\", line 129, in _pseudo_sync_runner\n      coro.send(None)\n    File \"/usr/local/lib/python3.10/dist-packages/IPython/core/interactiveshell.py\", line 3194, in run_cell_async\n      has_raised = await self.run_ast_nodes(code_ast.body, cell_name,\n    File \"/usr/local/lib/python3.10/dist-packages/IPython/core/interactiveshell.py\", line 3373, in run_ast_nodes\n      if await self.run_code(code, result, async_=asy):\n    File \"/usr/local/lib/python3.10/dist-packages/IPython/core/interactiveshell.py\", line 3433, in run_code\n      exec(code_obj, self.user_global_ns, self.user_ns)\n    File \"/tmp/ipykernel_5611/1698327595.py\", line 1, in <module>\n      history = classifier_model.fit(x = output,\n    File \"/home/khrystyna/.local/lib/python3.10/site-packages/keras/utils/traceback_utils.py\", line 64, in error_handler\n      return fn(*args, **kwargs)\n    File \"/home/khrystyna/.local/lib/python3.10/site-packages/keras/engine/training.py\", line 1384, in fit\n      tmp_logs = self.train_function(iterator)\n    File \"/home/khrystyna/.local/lib/python3.10/site-packages/keras/engine/training.py\", line 1021, in train_function\n      return step_function(self, iterator)\n    File \"/home/khrystyna/.local/lib/python3.10/site-packages/keras/engine/training.py\", line 1010, in step_function\n      outputs = model.distribute_strategy.run(run_step, args=(data,))\n    File \"/home/khrystyna/.local/lib/python3.10/site-packages/keras/engine/training.py\", line 1000, in run_step\n      outputs = model.train_step(data)\n    File \"/home/khrystyna/.local/lib/python3.10/site-packages/keras/engine/training.py\", line 863, in train_step\n      self.optimizer.minimize(loss, self.trainable_variables, tape=tape)\n    File \"/home/khrystyna/.local/lib/python3.10/site-packages/keras/optimizer_v2/optimizer_v2.py\", line 530, in minimize\n      grads_and_vars = self._compute_gradients(\n    File \"/home/khrystyna/.local/lib/python3.10/site-packages/keras/optimizer_v2/optimizer_v2.py\", line 583, in _compute_gradients\n      grads_and_vars = self._get_gradients(tape, loss, var_list, grad_loss)\n    File \"/home/khrystyna/.local/lib/python3.10/site-packages/keras/optimizer_v2/optimizer_v2.py\", line 464, in _get_gradients\n      grads = tape.gradient(loss, var_list, grad_loss)\nNode: 'gradient_tape/sparse_categorical_crossentropy/weighted_loss/Reshape_2'\nInput to reshape is a tensor with 10 values, but the requested shape has 1\n\t [[{{node gradient_tape/sparse_categorical_crossentropy/weighted_loss/Reshape_2}}]] [Op:__inference_train_function_206600]"
          ]
        }
      ],
      "source": [
        "history = classifier_model.fit(x = output,\n",
        "                               y = train_Y,\n",
        "                               epochs = epochs,\n",
        "                               batch_size=batch_size, \n",
        "                               #callbacks=[restore],\n",
        "                               class_weight = distr)"
      ]
    },
    {
      "cell_type": "markdown",
      "metadata": {
        "id": "Dn0txPyoFXzY"
      },
      "source": [
        "# **Model evaluation**"
      ]
    },
    {
      "cell_type": "code",
      "execution_count": 93,
      "metadata": {
        "colab": {
          "base_uri": "https://localhost:8080/"
        },
        "id": "byS4AO0GFXzY",
        "outputId": "db013fc4-eb23-4b0a-ff0e-55b24afcd73a"
      },
      "outputs": [
        {
          "output_type": "stream",
          "name": "stdout",
          "text": [
            "dict_keys(['loss', 'accuracy'])\n"
          ]
        }
      ],
      "source": [
        "history_dict = history.history\n",
        "print(history_dict.keys())"
      ]
    },
    {
      "cell_type": "code",
      "execution_count": 95,
      "metadata": {
        "colab": {
          "base_uri": "https://localhost:8080/",
          "height": 522
        },
        "id": "2Zd4htWmFXzY",
        "outputId": "cfd08013-b0cf-4857-d504-cc26e22cd95a"
      },
      "outputs": [
        {
          "output_type": "stream",
          "name": "stderr",
          "text": [
            "WARNING:matplotlib.legend:No artists with labels found to put in legend.  Note that artists whose label start with an underscore are ignored when legend() is called with no argument.\n",
            "/tmp/ipykernel_5611/2994192602.py:6: MatplotlibDeprecationWarning: Auto-removal of overlapping axes is deprecated since 3.6 and will be removed two minor releases later; explicitly call ax.remove() as needed.\n",
            "  plt.subplot(2,1,1)\n"
          ]
        },
        {
          "output_type": "execute_result",
          "data": {
            "text/plain": [
              "[<matplotlib.lines.Line2D at 0x7f97d77352a0>]"
            ]
          },
          "metadata": {},
          "execution_count": 95
        },
        {
          "output_type": "display_data",
          "data": {
            "text/plain": [
              "<Figure size 640x480 with 2 Axes>"
            ],
            "image/png": "[encoded data removed]"
          },
          "metadata": {}
        }
      ],
      "source": [
        "i = range(epochs)\n",
        "plt.figure(1)\n",
        "plt.title('Model evaluation')\n",
        "plt.legend()\n",
        "\n",
        "plt.subplot(2,1,1)\n",
        "plt.plot(i,history_dict['loss'],'r',label = \"Training loss\")\n",
        "\n",
        "plt.subplot(2,1,2)\n",
        "plt.plot(i,history_dict['accuracy'],'g',label = \"Training MSE\")\n",
        "\n"
      ]
    },
    {
      "cell_type": "code",
      "source": [
        "#t = test_X[0:5]"
      ],
      "metadata": {
        "id": "I2N_8v43WdPn"
      },
      "execution_count": null,
      "outputs": []
    },
    {
      "cell_type": "code",
      "execution_count": 96,
      "metadata": {
        "colab": {
          "base_uri": "https://localhost:8080/"
        },
        "id": "0D5f2VDDALon",
        "outputId": "53fd560f-1191-463c-d588-2276820697d8"
      },
      "outputs": [
        {
          "output_type": "stream",
          "name": "stdout",
          "text": [
            "13/13 [==============================] - 0s 2ms/step\n"
          ]
        }
      ],
      "source": [
        "test_Y_n = classifier_model.predict(output,verbose = 1)"
      ]
    },
    {
      "cell_type": "code",
      "execution_count": 97,
      "metadata": {
        "id": "rse4POt3FXzZ"
      },
      "outputs": [],
      "source": [
        "pred_test_Y=(np.argmax(test_Y_n,1)+2)/2\n",
        "pred_Y=np.transpose(pred_test_Y)"
      ]
    },
    {
      "cell_type": "code",
      "execution_count": 98,
      "metadata": {
        "colab": {
          "base_uri": "https://localhost:8080/"
        },
        "id": "OrREFUpnIctn",
        "outputId": "8e483ef6-3170-4898-97b6-086c11d33070"
      },
      "outputs": [
        {
          "output_type": "stream",
          "name": "stdout",
          "text": [
            "[5.  5.  5.  2.  5.  5.  5.  5.  5.  5.  5.  5.  5.  5.  5.  5.  5.  5.\n",
            " 5.  5.  5.  5.  5.  5.  5.  5.  5.  5.  5.  5.  5.  5.  5.  5.  5.  5.\n",
            " 5.  5.  5.  5.  5.  5.  5.  5.  5.  5.  5.  5.  5.  5.  5.  5.  5.  5.\n",
            " 5.  5.  5.  5.  2.  5.  5.  5.  5.  1.5 5.  5.  5.  5.  5.  5.  5.  5.\n",
            " 5.  5.  5.  5.  5.  5.  5.  5.  5.  5.  5.  4.5 5.  5.  5.  5.  5.  5.\n",
            " 5.  5.  5.  5.  5.  2.5 5.  5.  5.  5.  5.  5.  5.  5.  5.  5.  5.  5.\n",
            " 4.5 5.  5.  5.  5.  5.  5.  5.  5.  5.  5.  5.  5.  5.  5.  5.  5.  5.\n",
            " 5.  5.  5.  5.  5.  5.  5.  5.  5.  5.  5.  5.  5.  5.  5.  5.  5.  5.\n",
            " 5.  5.  5.  5.  5.  5.  5.  5.  5.  5.  5.  5.  5.  5.  5.  5.  5.  5.\n",
            " 5.  5.  5.  5.  5.  5.  5.  5.  5.  5.  5.  5.  5.  5.  5.  5.  5.  5.\n",
            " 5.  5.  5.  5.  5.  5.  5.  5.  5.  5.  5.  5.  5.  5.  5.  5.  5.  5.\n",
            " 5.  5.  5.  5.  5.  5.  5.  5.  1.5 5.  5.  5.  5.  5.  5.  5.  5.  5.\n",
            " 5.  5.  5.  5.  5.  5.  5.  5.  5.  5.  5.  5.  5.  5.  5.  5.  5.  5.\n",
            " 5.  5.  5.  5.  5.  4.5 2.  5.  5.  5.  5.  5.  5.  5.  5.  5.  5.  5.\n",
            " 5.  5.  5.  5.  5.  5.  5.  5.  5.  5.  5.  4.5 5.  5.  5.  5.  5.  5.\n",
            " 5.  5.  5.  5.  5.  5.  5.  5.  5.  5.  5.  5.  5.  5.  5.  5.  5.  5.\n",
            " 5.  5.  5.  5.  5.  5.  5.  5.  5.  5.  5.  5.  5.  5.  5.  5.  5.  5.\n",
            " 5.  2.  5.  5.  5.  5.  5.  5.  5.  5.  2.  5.  5.  5.  5.  4.5 5.  5.\n",
            " 5.  5.  5.  5.  5.  5.  5.  5.  5.  5.  5.  5.  5.  5.  5.  5.  5.  5.\n",
            " 5.  5.  5.  5.  5.  4.5 5.  5.  5.  5.  5.  5.  5.  5.  5.  5.  5.  5.\n",
            " 5.  5.  5.  5.  5.  5.  5.  5.  5.  5.  5.  5.  5.  5.  5.  5.  5.  5.\n",
            " 5.  5.  5.  5.  5.  5.  5.  5.  5.  5.  5.  5.  5. ]\n"
          ]
        }
      ],
      "source": [
        "print(pred_test_Y)"
      ]
    },
    {
      "cell_type": "code",
      "execution_count": 99,
      "metadata": {
        "colab": {
          "base_uri": "https://localhost:8080/"
        },
        "id": "dL-ydqvzFXzZ",
        "outputId": "20e3b6ac-4419-4ac3-b544-f8c518bd89ab"
      },
      "outputs": [
        {
          "output_type": "stream",
          "name": "stdout",
          "text": [
            "MCRMSE =  1.9990406906475042\n"
          ]
        }
      ],
      "source": [
        "mcrmse_test = (1/(np.sqrt(num_text)))*np.sum(np.sqrt(np.sum(np.square(pred_Y-test_Y),axis=0)))\n",
        "print('MCRMSE = ',mcrmse_test) "
      ]
    },
    {
      "cell_type": "markdown",
      "metadata": {
        "id": "Vx3FdXLkFXzZ"
      },
      "source": [
        "MCRMSE =  0.617284905504784 5 epochs\n",
        "\n",
        "MCRMSE =  0.6333342304873718 10 epochs\n",
        "\n",
        "MCRMSE =  0.6012389019459027 10 epochs bached 32\n",
        "\n",
        "MCRMSE =  0.6137303634466796 5 epochs batched tuned\n",
        "\n",
        "MCRMSE =  0.5939521873178615 5 epochs 2 dense\n",
        "  \n",
        "MCRMSE =  0.5827963961318415 10 epochs 5 dense\n",
        "\n",
        "MCRMSE =  0.47713642331475004  1 epoch 3 dense shaped"
      ]
    },
    {
      "cell_type": "markdown",
      "metadata": {
        "id": "rTVBtJRBFXzZ"
      },
      "source": [
        "# **create output file**"
      ]
    },
    {
      "cell_type": "code",
      "execution_count": null,
      "metadata": {
        "id": "7hdkbzQ0FXza"
      },
      "outputs": [],
      "source": [
        "#np.reshape(pred_Y,(num_text))\n",
        "result = [test_id, pred_Y]\n",
        "df_result = pd.DataFrame(np.transpose(result),columns = columns)"
      ]
    },
    {
      "cell_type": "markdown",
      "metadata": {
        "id": "tmVLw7RFFXza"
      },
      "source": [
        "clear the /kaggle/working"
      ]
    },
    {
      "cell_type": "code",
      "execution_count": null,
      "metadata": {
        "id": "-Se26iuqFXza"
      },
      "outputs": [],
      "source": [
        "print(num_text)"
      ]
    },
    {
      "cell_type": "code",
      "execution_count": null,
      "metadata": {
        "id": "NoHvWmlKFXza"
      },
      "outputs": [],
      "source": [
        "i = range(num_text)\n",
        "plt.plot(i,df_result['cohesion'])"
      ]
    },
    {
      "cell_type": "code",
      "execution_count": null,
      "metadata": {
        "id": "N8KB0XdnFXza"
      },
      "outputs": [],
      "source": [
        "№df_result.to_csv('/kaggle/working/submission.csv')"
      ]
    }
  ],
  "metadata": {
    "accelerator": "TPU",
    "colab": {
      "provenance": [],
      "include_colab_link": true
    },
    "gpuClass": "standard",
    "kernelspec": {
      "display_name": "Python 3",
      "language": "python",
      "name": "python3"
    },
    "language_info": {
      "codemirror_mode": {
        "name": "ipython",
        "version": 3
      },
      "file_extension": ".py",
      "mimetype": "text/x-python",
      "name": "python",
      "nbconvert_exporter": "python",
      "pygments_lexer": "ipython3",
      "version": "3.7.12"
    }
  },
  "nbformat": 4,
  "nbformat_minor": 0
}