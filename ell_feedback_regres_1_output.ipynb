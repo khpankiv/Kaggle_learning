{
  "cells": [
    {
      "cell_type": "markdown",
      "metadata": {
        "id": "view-in-github",
        "colab_type": "text"
      },
      "source": [
        "<a href=\"https://colab.research.google.com/github/khpankiv/Kaggle_learning/blob/main/ell_feedback_regres_1_output.ipynb\" target=\"_parent\"><img src=\"https://colab.research.google.com/assets/colab-badge.svg\" alt=\"Open In Colab\"/></a>"
      ]
    },
    {
      "cell_type": "markdown",
      "source": [
        "**For using in Colab**"
      ],
      "metadata": {
        "id": "Y_hFDX1T2jMx"
      }
    },
    {
      "cell_type": "markdown",
      "metadata": {
        "id": "o4LbkUiJFXzK"
      },
      "source": [
        "# **Setup**"
      ]
    },
    {
      "cell_type": "code",
      "execution_count": 54,
      "metadata": {
        "id": "Ex-mHNlBFXzP"
      },
      "outputs": [],
      "source": [
        "#A dependency of the preprocessing for BERT inputs\n",
        "!pip install -q -U \"tensorflow-text==2.8.*\""
      ]
    },
    {
      "cell_type": "code",
      "execution_count": 55,
      "metadata": {
        "id": "qaABTKcFFXzQ"
      },
      "outputs": [],
      "source": [
        "import pandas as pd\n",
        "import numpy as np\n",
        "import tensorflow as tf\n",
        "import tensorflow_hub as hub\n",
        "import tensorflow_text as text\n",
        "import matplotlib.pyplot as plt"
      ]
    },
    {
      "cell_type": "markdown",
      "metadata": {
        "id": "_RfSQGv9FXzQ"
      },
      "source": [
        "# **Read the datasets**"
      ]
    },
    {
      "cell_type": "code",
      "source": [
        "from google.colab import files\n",
        "files.upload()\n",
        "! mkdir ~/.kaggle\n",
        "! cp kaggle.json ~/.kaggle/\n",
        "! chmod 600 ~/.kaggle/kaggle.json\n",
        "!kaggle competitions download -c feedback-prize-english-language-learning\n",
        "!mkdir ELL\n",
        "! unzip feedback-prize-english-language-learning.zip -d ELL"
      ],
      "metadata": {
        "id": "iM3bBjaE4LH9",
        "outputId": "8195ffcc-0c1e-498f-b437-09a064789f65",
        "colab": {
          "base_uri": "https://localhost:8080/",
          "height": 160
        }
      },
      "execution_count": 56,
      "outputs": [
        {
          "output_type": "display_data",
          "data": {
            "text/plain": [
              "<IPython.core.display.HTML object>"
            ],
            "text/html": [
              "\n",
              "     <input type=\"file\" id=\"files-0f7db4b7-a04b-4d62-8452-f67ab34de107\" name=\"files[]\" multiple disabled\n",
              "        style=\"border:none\" />\n",
              "     <output id=\"result-0f7db4b7-a04b-4d62-8452-f67ab34de107\">\n",
              "      Upload widget is only available when the cell has been executed in the\n",
              "      current browser session. Please rerun this cell to enable.\n",
              "      </output>\n",
              "      <script>// Copyright 2017 Google LLC\n",
              "//\n",
              "// Licensed under the Apache License, Version 2.0 (the \"License\");\n",
              "// you may not use this file except in compliance with the License.\n",
              "// You may obtain a copy of the License at\n",
              "//\n",
              "//      http://www.apache.org/licenses/LICENSE-2.0\n",
              "//\n",
              "// Unless required by applicable law or agreed to in writing, software\n",
              "// distributed under the License is distributed on an \"AS IS\" BASIS,\n",
              "// WITHOUT WARRANTIES OR CONDITIONS OF ANY KIND, either express or implied.\n",
              "// See the License for the specific language governing permissions and\n",
              "// limitations under the License.\n",
              "\n",
              "/**\n",
              " * @fileoverview Helpers for google.colab Python module.\n",
              " */\n",
              "(function(scope) {\n",
              "function span(text, styleAttributes = {}) {\n",
              "  const element = document.createElement('span');\n",
              "  element.textContent = text;\n",
              "  for (const key of Object.keys(styleAttributes)) {\n",
              "    element.style[key] = styleAttributes[key];\n",
              "  }\n",
              "  return element;\n",
              "}\n",
              "\n",
              "// Max number of bytes which will be uploaded at a time.\n",
              "const MAX_PAYLOAD_SIZE = 100 * 1024;\n",
              "\n",
              "function _uploadFiles(inputId, outputId) {\n",
              "  const steps = uploadFilesStep(inputId, outputId);\n",
              "  const outputElement = document.getElementById(outputId);\n",
              "  // Cache steps on the outputElement to make it available for the next call\n",
              "  // to uploadFilesContinue from Python.\n",
              "  outputElement.steps = steps;\n",
              "\n",
              "  return _uploadFilesContinue(outputId);\n",
              "}\n",
              "\n",
              "// This is roughly an async generator (not supported in the browser yet),\n",
              "// where there are multiple asynchronous steps and the Python side is going\n",
              "// to poll for completion of each step.\n",
              "// This uses a Promise to block the python side on completion of each step,\n",
              "// then passes the result of the previous step as the input to the next step.\n",
              "function _uploadFilesContinue(outputId) {\n",
              "  const outputElement = document.getElementById(outputId);\n",
              "  const steps = outputElement.steps;\n",
              "\n",
              "  const next = steps.next(outputElement.lastPromiseValue);\n",
              "  return Promise.resolve(next.value.promise).then((value) => {\n",
              "    // Cache the last promise value to make it available to the next\n",
              "    // step of the generator.\n",
              "    outputElement.lastPromiseValue = value;\n",
              "    return next.value.response;\n",
              "  });\n",
              "}\n",
              "\n",
              "/**\n",
              " * Generator function which is called between each async step of the upload\n",
              " * process.\n",
              " * @param {string} inputId Element ID of the input file picker element.\n",
              " * @param {string} outputId Element ID of the output display.\n",
              " * @return {!Iterable<!Object>} Iterable of next steps.\n",
              " */\n",
              "function* uploadFilesStep(inputId, outputId) {\n",
              "  const inputElement = document.getElementById(inputId);\n",
              "  inputElement.disabled = false;\n",
              "\n",
              "  const outputElement = document.getElementById(outputId);\n",
              "  outputElement.innerHTML = '';\n",
              "\n",
              "  const pickedPromise = new Promise((resolve) => {\n",
              "    inputElement.addEventListener('change', (e) => {\n",
              "      resolve(e.target.files);\n",
              "    });\n",
              "  });\n",
              "\n",
              "  const cancel = document.createElement('button');\n",
              "  inputElement.parentElement.appendChild(cancel);\n",
              "  cancel.textContent = 'Cancel upload';\n",
              "  const cancelPromise = new Promise((resolve) => {\n",
              "    cancel.onclick = () => {\n",
              "      resolve(null);\n",
              "    };\n",
              "  });\n",
              "\n",
              "  // Wait for the user to pick the files.\n",
              "  const files = yield {\n",
              "    promise: Promise.race([pickedPromise, cancelPromise]),\n",
              "    response: {\n",
              "      action: 'starting',\n",
              "    }\n",
              "  };\n",
              "\n",
              "  cancel.remove();\n",
              "\n",
              "  // Disable the input element since further picks are not allowed.\n",
              "  inputElement.disabled = true;\n",
              "\n",
              "  if (!files) {\n",
              "    return {\n",
              "      response: {\n",
              "        action: 'complete',\n",
              "      }\n",
              "    };\n",
              "  }\n",
              "\n",
              "  for (const file of files) {\n",
              "    const li = document.createElement('li');\n",
              "    li.append(span(file.name, {fontWeight: 'bold'}));\n",
              "    li.append(span(\n",
              "        `(${file.type || 'n/a'}) - ${file.size} bytes, ` +\n",
              "        `last modified: ${\n",
              "            file.lastModifiedDate ? file.lastModifiedDate.toLocaleDateString() :\n",
              "                                    'n/a'} - `));\n",
              "    const percent = span('0% done');\n",
              "    li.appendChild(percent);\n",
              "\n",
              "    outputElement.appendChild(li);\n",
              "\n",
              "    const fileDataPromise = new Promise((resolve) => {\n",
              "      const reader = new FileReader();\n",
              "      reader.onload = (e) => {\n",
              "        resolve(e.target.result);\n",
              "      };\n",
              "      reader.readAsArrayBuffer(file);\n",
              "    });\n",
              "    // Wait for the data to be ready.\n",
              "    let fileData = yield {\n",
              "      promise: fileDataPromise,\n",
              "      response: {\n",
              "        action: 'continue',\n",
              "      }\n",
              "    };\n",
              "\n",
              "    // Use a chunked sending to avoid message size limits. See b/62115660.\n",
              "    let position = 0;\n",
              "    do {\n",
              "      const length = Math.min(fileData.byteLength - position, MAX_PAYLOAD_SIZE);\n",
              "      const chunk = new Uint8Array(fileData, position, length);\n",
              "      position += length;\n",
              "\n",
              "      const base64 = btoa(String.fromCharCode.apply(null, chunk));\n",
              "      yield {\n",
              "        response: {\n",
              "          action: 'append',\n",
              "          file: file.name,\n",
              "          data: base64,\n",
              "        },\n",
              "      };\n",
              "\n",
              "      let percentDone = fileData.byteLength === 0 ?\n",
              "          100 :\n",
              "          Math.round((position / fileData.byteLength) * 100);\n",
              "      percent.textContent = `${percentDone}% done`;\n",
              "\n",
              "    } while (position < fileData.byteLength);\n",
              "  }\n",
              "\n",
              "  // All done.\n",
              "  yield {\n",
              "    response: {\n",
              "      action: 'complete',\n",
              "    }\n",
              "  };\n",
              "}\n",
              "\n",
              "scope.google = scope.google || {};\n",
              "scope.google.colab = scope.google.colab || {};\n",
              "scope.google.colab._files = {\n",
              "  _uploadFiles,\n",
              "  _uploadFilesContinue,\n",
              "};\n",
              "})(self);\n",
              "</script> "
            ]
          },
          "metadata": {}
        },
        {
          "output_type": "stream",
          "name": "stdout",
          "text": [
            "Saving kaggle.json to kaggle (1).json\n",
            "mkdir: cannot create directory ‘/root/.kaggle’: File exists\n",
            "feedback-prize-english-language-learning.zip: Skipping, found more recently modified local copy (use --force to force download)\n",
            "mkdir: cannot create directory ‘ELL’: File exists\n",
            "Archive:  feedback-prize-english-language-learning.zip\n",
            "replace ELL/sample_submission.csv? [y]es, [n]o, [A]ll, [N]one, [r]ename: N\n"
          ]
        }
      ]
    },
    {
      "cell_type": "code",
      "execution_count": 57,
      "metadata": {
        "id": "RhM4hlDaI4aD"
      },
      "outputs": [],
      "source": [
        "#test= pd.read_csv(\"./ELL/test.csv\")\n",
        "#test_sub=pd.read_csv(\"./ELL/sample_submission.csv\")"
      ]
    },
    {
      "cell_type": "code",
      "execution_count": 88,
      "metadata": {
        "id": "smOXeI8LFXzR"
      },
      "outputs": [],
      "source": [
        "train= pd.read_csv(\"./ELL/train.csv\")\n",
        "#to make dataset smaller))\n",
        "train = train.sample(frac = 0.5)\n",
        "#test = train.iloc[:,0:2]\n",
        "#test_sub = train.iloc[:,[0,2]]"
      ]
    },
    {
      "cell_type": "markdown",
      "metadata": {
        "id": "KK2GL4F9FXzS"
      },
      "source": [
        "Data preprocessing: changing grades into integer"
      ]
    },
    {
      "cell_type": "markdown",
      "source": [
        "Change grades from [1, 1.5, 2.....4.5, 5] to [0,1,2,3,4,5...8]"
      ],
      "metadata": {
        "id": "WiBTAGfSDQ49"
      }
    },
    {
      "cell_type": "markdown",
      "source": [
        "And select only grades for cohesion"
      ],
      "metadata": {
        "id": "m_xb1PNpHlUV"
      }
    },
    {
      "cell_type": "code",
      "execution_count": 90,
      "metadata": {
        "id": "dWr95wpOFXzS"
      },
      "outputs": [],
      "source": [
        "num_text = train.shape[0]\n",
        "columns = ['text_id','cohesion']\n",
        "train_X = train[:].full_text.values\n",
        "train_Y = (train.iloc[:,2].values)*2-2\n",
        "#  uncomment for one-hot\n",
        "#train_Y = tf.keras.utils.to_categorical(train_Y_n) \n",
        "#test_X = train_X\n",
        "test_id = train.text_id.values\n",
        "test_Y = (train.iloc[:,2].values)"
      ]
    },
    {
      "cell_type": "markdown",
      "source": [
        "Calculate the frequency of each grade to balance waightes while training"
      ],
      "metadata": {
        "id": "7tj-Nez0D8Sg"
      }
    },
    {
      "cell_type": "code",
      "execution_count": 60,
      "metadata": {
        "id": "CrMQKV1n4nrs"
      },
      "outputs": [],
      "source": [
        "distribution = train['cohesion']. value_counts(1).sort_index()\n",
        "distr = dict(zip(range(9), 1/distribution.values))"
      ]
    },
    {
      "cell_type": "code",
      "source": [
        "del train"
      ],
      "metadata": {
        "id": "sM03BA8WKCER"
      },
      "execution_count": 61,
      "outputs": []
    },
    {
      "cell_type": "markdown",
      "metadata": {
        "id": "S1AVQeFHFXzT"
      },
      "source": [
        "# **Define the model**\n",
        "A simple fine-tuned model, with the preprocessing model, the selected BERT model, one Dense with Softmax output and a Dropout layer."
      ]
    },
    {
      "cell_type": "markdown",
      "metadata": {
        "id": "21jrhqNwFXzU"
      },
      "source": [
        "Add BERT models"
      ]
    },
    {
      "cell_type": "code",
      "execution_count": 62,
      "metadata": {
        "id": "fJo1PV0XFXzU"
      },
      "outputs": [],
      "source": [
        "tfhub_preprocess = \"https://tfhub.dev/tensorflow/bert_en_uncased_preprocess/3\"\n",
        "tfhub_encoder = \"https://tfhub.dev/tensorflow/small_bert/bert_en_uncased_L-2_H-256_A-4/2\""
      ]
    },
    {
      "cell_type": "markdown",
      "source": [
        "Preprocess text data. Embed them into arrays of 256 numbers"
      ],
      "metadata": {
        "id": "Ig9bvc0qEE3B"
      }
    },
    {
      "cell_type": "code",
      "execution_count": 63,
      "metadata": {
        "id": "GKbI8rGoTTGj"
      },
      "outputs": [],
      "source": [
        "  preprocess_model = hub.KerasLayer(tfhub_preprocess)\n",
        "  encoder_inputs = preprocess_model(train_X) \n",
        "  encoder = hub.KerasLayer(tfhub_encoder, trainable=False)\n",
        "  outputs = encoder(encoder_inputs)\n",
        "  output = outputs['pooled_output']"
      ]
    },
    {
      "cell_type": "markdown",
      "source": [
        "Save Embedded input data"
      ],
      "metadata": {
        "id": "_B_u10bnEUHN"
      }
    },
    {
      "cell_type": "code",
      "source": [
        "np.save('embedded',output)"
      ],
      "metadata": {
        "id": "VyZCdPpzEYCv"
      },
      "execution_count": 64,
      "outputs": []
    },
    {
      "cell_type": "code",
      "source": [
        "batch_size = 4"
      ],
      "metadata": {
        "id": "RqCmRc64En-w"
      },
      "execution_count": 269,
      "outputs": []
    },
    {
      "cell_type": "code",
      "execution_count": 382,
      "metadata": {
        "id": "hsQlcJAbFXzW"
      },
      "outputs": [],
      "source": [
        "def build_classifier_model(activ,num_output):\n",
        "  input = tf.keras.layers.Input(shape = (256), batch_size = batch_size)\n",
        "  output = tf.keras.layers.Dense(256,activation='ReLU')(input)\n",
        "  output = tf.keras.layers.Dense(128, activation='ReLU')(output)\n",
        "  output = tf.keras.layers.Dense(128, activation='ReLU')(output)\n",
        "  output = tf.keras.layers.Dense(128, activation='ReLU')(output)\n",
        "  output = tf.keras.layers.Dense(64, activation='ReLU')(output) \n",
        "  output = tf.keras.layers.Dense(32, activation='ReLU')(output)\n",
        "  output = tf.keras.layers.Dense(16, activation='ReLU')(output)\n",
        "  output = tf.keras.layers.Dense(9, activation='ReLU')(output)\n",
        "  #net_1 = tf.keras.layers.Dropout(0.1)(output_2)\n",
        "  net_1 = tf.keras.layers.Dense(num_output, activation = activ)(output)\n",
        "  return tf.keras.Model(input, net_1)"
      ]
    },
    {
      "cell_type": "code",
      "execution_count": 383,
      "metadata": {
        "id": "uW8vEfNMFXzX"
      },
      "outputs": [],
      "source": [
        "classifier_model = build_classifier_model('linear',1)"
      ]
    },
    {
      "cell_type": "code",
      "source": [
        "classifier_model.summary()"
      ],
      "metadata": {
        "id": "jolscotfG2IE",
        "outputId": "30a51256-2ad0-4010-85d8-a61b2193c56b",
        "colab": {
          "base_uri": "https://localhost:8080/"
        }
      },
      "execution_count": 384,
      "outputs": [
        {
          "output_type": "stream",
          "name": "stdout",
          "text": [
            "Model: \"model_29\"\n",
            "_________________________________________________________________\n",
            " Layer (type)                Output Shape              Param #   \n",
            "=================================================================\n",
            " input_46 (InputLayer)       [(4, 256)]                0         \n",
            "                                                                 \n",
            " dense_149 (Dense)           (4, 256)                  65792     \n",
            "                                                                 \n",
            " dense_150 (Dense)           (4, 128)                  32896     \n",
            "                                                                 \n",
            " dense_151 (Dense)           (4, 128)                  16512     \n",
            "                                                                 \n",
            " dense_152 (Dense)           (4, 128)                  16512     \n",
            "                                                                 \n",
            " dense_153 (Dense)           (4, 64)                   8256      \n",
            "                                                                 \n",
            " dense_154 (Dense)           (4, 32)                   2080      \n",
            "                                                                 \n",
            " dense_155 (Dense)           (4, 16)                   528       \n",
            "                                                                 \n",
            " dense_156 (Dense)           (4, 9)                    153       \n",
            "                                                                 \n",
            " dense_157 (Dense)           (4, 1)                    10        \n",
            "                                                                 \n",
            "=================================================================\n",
            "Total params: 142,739\n",
            "Trainable params: 142,739\n",
            "Non-trainable params: 0\n",
            "_________________________________________________________________\n"
          ]
        }
      ]
    },
    {
      "cell_type": "markdown",
      "metadata": {
        "id": "NEHxh2NAFXzX"
      },
      "source": [
        "# **Model training**"
      ]
    },
    {
      "cell_type": "code",
      "execution_count": 385,
      "metadata": {
        "id": "bbWnydALFXzX"
      },
      "outputs": [],
      "source": [
        "epochs = 20\n",
        "loss = tf.keras.losses.MeanSquaredError(reduction = 'auto')"
      ]
    },
    {
      "cell_type": "code",
      "source": [
        "   # from google3.third_party.tensorflow.core.protobuf import rewriter_config_pb2\n",
        "    #    config_proto = tf.ConfigProto()\n",
        "#    off = rewriter_config_pb2.RewriterConfig.OFF\n",
        " #   config_proto.graph_options.rewrite_options.arithmetic_optimization = off\n",
        "  #    session = tf.Session(config=config_proto)"
      ],
      "metadata": {
        "id": "-sh7RnYVL2Bg"
      },
      "execution_count": 70,
      "outputs": []
    },
    {
      "cell_type": "code",
      "execution_count": 386,
      "metadata": {
        "id": "icc5Zq8AFXzX"
      },
      "outputs": [],
      "source": [
        "classifier_model.compile(optimizer = 'adam',\n",
        "                         loss = loss,\n",
        "                         metrics = 'mse')"
      ]
    },
    {
      "cell_type": "code",
      "source": [
        "#board = tf.keras.callbacks.TensorBoard(log_dir='./logs')"
      ],
      "metadata": {
        "id": "syqG6tJBHxdh"
      },
      "execution_count": 72,
      "outputs": []
    },
    {
      "cell_type": "code",
      "source": [
        "#restore = tf.keras.callbacks.BackupAndRestore('/ELL')"
      ],
      "metadata": {
        "id": "zj27ZLfaH1Gp"
      },
      "execution_count": 74,
      "outputs": []
    },
    {
      "cell_type": "code",
      "source": [
        "output = np.array(output)"
      ],
      "metadata": {
        "id": "RISi-UnUa5Ns"
      },
      "execution_count": 145,
      "outputs": []
    },
    {
      "cell_type": "code",
      "execution_count": 387,
      "metadata": {
        "id": "OtisLNrtFXzY",
        "colab": {
          "base_uri": "https://localhost:8080/"
        },
        "outputId": "9140c951-4270-42ca-889a-7ac5b96151f2"
      },
      "outputs": [
        {
          "output_type": "stream",
          "name": "stdout",
          "text": [
            "Epoch 1/20\n",
            "489/489 [==============================] - 3s 4ms/step - loss: 77.6679 - mse: 5.9500\n",
            "Epoch 2/20\n",
            "489/489 [==============================] - 2s 4ms/step - loss: 89.5033 - mse: 4.9654\n",
            "Epoch 3/20\n",
            "489/489 [==============================] - 2s 4ms/step - loss: 79.9705 - mse: 4.3511\n",
            "Epoch 4/20\n",
            "489/489 [==============================] - 2s 3ms/step - loss: 121.7772 - mse: 10.5025\n",
            "Epoch 5/20\n",
            "489/489 [==============================] - 2s 3ms/step - loss: 156.6222 - mse: 16.9699\n",
            "Epoch 6/20\n",
            "489/489 [==============================] - 2s 3ms/step - loss: 141.2778 - mse: 14.9463\n",
            "Epoch 7/20\n",
            "489/489 [==============================] - 2s 3ms/step - loss: 127.7948 - mse: 13.1479\n",
            "Epoch 8/20\n",
            "489/489 [==============================] - 2s 3ms/step - loss: 116.1582 - mse: 11.5271\n",
            "Epoch 9/20\n",
            "489/489 [==============================] - 2s 3ms/step - loss: 106.1984 - mse: 10.1524\n",
            "Epoch 10/20\n",
            "489/489 [==============================] - 2s 4ms/step - loss: 97.8096 - mse: 8.9029\n",
            "Epoch 11/20\n",
            "489/489 [==============================] - 2s 4ms/step - loss: 90.8908 - mse: 7.8932\n",
            "Epoch 12/20\n",
            "489/489 [==============================] - 2s 4ms/step - loss: 85.1236 - mse: 7.0359\n",
            "Epoch 13/20\n",
            "489/489 [==============================] - 2s 3ms/step - loss: 80.4718 - mse: 6.2861\n",
            "Epoch 14/20\n",
            "489/489 [==============================] - 2s 3ms/step - loss: 76.8264 - mse: 5.6586\n",
            "Epoch 15/20\n",
            "489/489 [==============================] - 2s 4ms/step - loss: 73.9015 - mse: 5.1921\n",
            "Epoch 16/20\n",
            "489/489 [==============================] - 2s 3ms/step - loss: 71.6209 - mse: 4.7594\n",
            "Epoch 17/20\n",
            "489/489 [==============================] - 2s 3ms/step - loss: 69.8010 - mse: 4.4478\n",
            "Epoch 18/20\n",
            "489/489 [==============================] - 2s 3ms/step - loss: 68.3116 - mse: 4.1250\n",
            "Epoch 19/20\n",
            "489/489 [==============================] - 2s 3ms/step - loss: 67.1447 - mse: 3.8694\n",
            "Epoch 20/20\n",
            "489/489 [==============================] - 2s 3ms/step - loss: 66.1856 - mse: 3.6830\n"
          ]
        }
      ],
      "source": [
        "history = classifier_model.fit(x = output,\n",
        "                               y = train_Y,\n",
        "                               epochs = epochs,\n",
        "                               batch_size=batch_size, \n",
        "                               #callbacks=[restore, board],\n",
        "                               class_weight = distr)"
      ]
    },
    {
      "cell_type": "markdown",
      "metadata": {
        "id": "Dn0txPyoFXzY"
      },
      "source": [
        "# **Model evaluation**"
      ]
    },
    {
      "cell_type": "code",
      "execution_count": 388,
      "metadata": {
        "colab": {
          "base_uri": "https://localhost:8080/"
        },
        "id": "byS4AO0GFXzY",
        "outputId": "f568f3f8-6732-40b8-c7f6-b8210bc8b97f"
      },
      "outputs": [
        {
          "output_type": "stream",
          "name": "stdout",
          "text": [
            "dict_keys(['loss', 'mse'])\n"
          ]
        }
      ],
      "source": [
        "history_dict = history.history\n",
        "print(history_dict.keys())"
      ]
    },
    {
      "cell_type": "code",
      "execution_count": 389,
      "metadata": {
        "colab": {
          "base_uri": "https://localhost:8080/",
          "height": 300
        },
        "id": "2Zd4htWmFXzY",
        "outputId": "27980af6-d0bf-407a-abce-3a00f825fbc6"
      },
      "outputs": [
        {
          "output_type": "stream",
          "name": "stderr",
          "text": [
            "WARNING:matplotlib.legend:No handles with labels found to put in legend.\n"
          ]
        },
        {
          "output_type": "execute_result",
          "data": {
            "text/plain": [
              "[<matplotlib.lines.Line2D at 0x7f6dcb95e310>]"
            ]
          },
          "metadata": {},
          "execution_count": 389
        },
        {
          "output_type": "display_data",
          "data": {
            "text/plain": [
              "<Figure size 432x288 with 2 Axes>"
            ],
            "image/png": "[encoded data removed]"
          },
          "metadata": {
            "needs_background": "light"
          }
        }
      ],
      "source": [
        "i = range(epochs)\n",
        "plt.figure(1)\n",
        "plt.title('Model evaluation')\n",
        "plt.legend()\n",
        "\n",
        "plt.subplot(2,1,1)\n",
        "plt.plot(i,history_dict['loss'],'r',label = \"Training loss\")\n",
        "\n",
        "plt.subplot(2,1,2)\n",
        "plt.plot(i,history_dict['mse'],'g',label = \"Training MSE\")\n",
        "\n"
      ]
    },
    {
      "cell_type": "code",
      "source": [
        "#t = test_X[0:5]"
      ],
      "metadata": {
        "id": "I2N_8v43WdPn"
      },
      "execution_count": null,
      "outputs": []
    },
    {
      "cell_type": "code",
      "execution_count": 390,
      "metadata": {
        "colab": {
          "base_uri": "https://localhost:8080/"
        },
        "id": "0D5f2VDDALon",
        "outputId": "45f0507e-a196-4b78-b84e-b2ad28ef95a4"
      },
      "outputs": [
        {
          "output_type": "stream",
          "name": "stdout",
          "text": [
            "62/62 [==============================] - 0s 2ms/step\n"
          ]
        }
      ],
      "source": [
        "test_Y_n = classifier_model.predict(output,verbose = 1)"
      ]
    },
    {
      "cell_type": "code",
      "execution_count": 397,
      "metadata": {
        "colab": {
          "base_uri": "https://localhost:8080/"
        },
        "id": "1kpgz5RvPnGq",
        "outputId": "bb45ea1d-1d5a-4522-fdcf-6ae28a7f7c21"
      },
      "outputs": [
        {
          "output_type": "stream",
          "name": "stdout",
          "text": [
            "[[2.5 2.5 2.5 ... 2.5 2.5 2.5]]\n"
          ]
        }
      ],
      "source": [
        "print(pred_Y)"
      ]
    },
    {
      "cell_type": "code",
      "execution_count": 399,
      "metadata": {
        "id": "rse4POt3FXzZ"
      },
      "outputs": [],
      "source": [
        "#for classificatio\n",
        "#pred_test_Y=(np.argmax(test_Y_n,1)+2)/2\n",
        "#for regression\n",
        "pred_Y=(np.round(test_Y_n)+2)/2 \n",
        "pred_Y=np.transpose(pred_Y)\n",
        "mcrmse_test = (1/(np.sqrt(num_text)))*np.sum(np.sqrt(np.sum(np.square(pred_Y-test_Y),axis=0)))\n",
        "print('MCRMSE = ',mcrmse_test) "
      ]
    },
    {
      "cell_type": "markdown",
      "metadata": {
        "id": "Vx3FdXLkFXzZ"
      },
      "source": [
        "MCRMSE =  0.617284905504784 5 epochs\n",
        "\n",
        "MCRMSE =  0.6333342304873718 10 epochs\n",
        "\n",
        "MCRMSE =  0.6012389019459027 10 epochs bached 32\n",
        "\n",
        "MCRMSE =  0.6137303634466796 5 epochs batched tuned\n",
        "\n",
        "MCRMSE =  0.5939521873178615 5 epochs 2 dense\n",
        "  \n",
        "MCRMSE =  0.5827963961318415 10 epochs 5 dense\n",
        "\n",
        "MCRMSE =  0.47713642331475004  1 epoch 3 dense shaped"
      ]
    },
    {
      "cell_type": "markdown",
      "metadata": {
        "id": "rTVBtJRBFXzZ"
      },
      "source": [
        "# **create output file**"
      ]
    },
    {
      "cell_type": "code",
      "execution_count": 401,
      "metadata": {
        "id": "7hdkbzQ0FXza",
        "outputId": "f6e346ee-215b-4a15-edc1-45a77677a7ea",
        "colab": {
          "base_uri": "https://localhost:8080/",
          "height": 381
        }
      },
      "outputs": [
        {
          "output_type": "error",
          "ename": "ValueError",
          "evalue": "ignored",
          "traceback": [
            "\u001b[0;31m---------------------------------------------------------------------------\u001b[0m",
            "\u001b[0;31mValueError\u001b[0m                                Traceback (most recent call last)",
            "\u001b[0;32m<ipython-input-401-d287044459f3>\u001b[0m in \u001b[0;36m<module>\u001b[0;34m\u001b[0m\n\u001b[1;32m      1\u001b[0m \u001b[0;31m#np.reshape(pred_Y,(num_text))\u001b[0m\u001b[0;34m\u001b[0m\u001b[0;34m\u001b[0m\u001b[0;34m\u001b[0m\u001b[0m\n\u001b[1;32m      2\u001b[0m \u001b[0mresult\u001b[0m \u001b[0;34m=\u001b[0m \u001b[0;34m[\u001b[0m\u001b[0mtest_id\u001b[0m\u001b[0;34m,\u001b[0m \u001b[0mpred_Y\u001b[0m\u001b[0;34m]\u001b[0m\u001b[0;34m\u001b[0m\u001b[0;34m\u001b[0m\u001b[0m\n\u001b[0;32m----> 3\u001b[0;31m \u001b[0mdf_result\u001b[0m \u001b[0;34m=\u001b[0m \u001b[0mpd\u001b[0m\u001b[0;34m.\u001b[0m\u001b[0mDataFrame\u001b[0m\u001b[0;34m(\u001b[0m\u001b[0mnp\u001b[0m\u001b[0;34m.\u001b[0m\u001b[0mtranspose\u001b[0m\u001b[0;34m(\u001b[0m\u001b[0mresult\u001b[0m\u001b[0;34m)\u001b[0m\u001b[0;34m,\u001b[0m\u001b[0mcolumns\u001b[0m \u001b[0;34m=\u001b[0m \u001b[0mcolumns\u001b[0m\u001b[0;34m)\u001b[0m\u001b[0;34m\u001b[0m\u001b[0;34m\u001b[0m\u001b[0m\n\u001b[0m",
            "\u001b[0;32m<__array_function__ internals>\u001b[0m in \u001b[0;36mtranspose\u001b[0;34m(*args, **kwargs)\u001b[0m\n",
            "\u001b[0;32m/usr/local/lib/python3.8/dist-packages/numpy/core/fromnumeric.py\u001b[0m in \u001b[0;36mtranspose\u001b[0;34m(a, axes)\u001b[0m\n\u001b[1;32m    658\u001b[0m \u001b[0;34m\u001b[0m\u001b[0m\n\u001b[1;32m    659\u001b[0m     \"\"\"\n\u001b[0;32m--> 660\u001b[0;31m     \u001b[0;32mreturn\u001b[0m \u001b[0m_wrapfunc\u001b[0m\u001b[0;34m(\u001b[0m\u001b[0ma\u001b[0m\u001b[0;34m,\u001b[0m \u001b[0;34m'transpose'\u001b[0m\u001b[0;34m,\u001b[0m \u001b[0maxes\u001b[0m\u001b[0;34m)\u001b[0m\u001b[0;34m\u001b[0m\u001b[0;34m\u001b[0m\u001b[0m\n\u001b[0m\u001b[1;32m    661\u001b[0m \u001b[0;34m\u001b[0m\u001b[0m\n\u001b[1;32m    662\u001b[0m \u001b[0;34m\u001b[0m\u001b[0m\n",
            "\u001b[0;32m/usr/local/lib/python3.8/dist-packages/numpy/core/fromnumeric.py\u001b[0m in \u001b[0;36m_wrapfunc\u001b[0;34m(obj, method, *args, **kwds)\u001b[0m\n\u001b[1;32m     52\u001b[0m     \u001b[0mbound\u001b[0m \u001b[0;34m=\u001b[0m \u001b[0mgetattr\u001b[0m\u001b[0;34m(\u001b[0m\u001b[0mobj\u001b[0m\u001b[0;34m,\u001b[0m \u001b[0mmethod\u001b[0m\u001b[0;34m,\u001b[0m \u001b[0;32mNone\u001b[0m\u001b[0;34m)\u001b[0m\u001b[0;34m\u001b[0m\u001b[0;34m\u001b[0m\u001b[0m\n\u001b[1;32m     53\u001b[0m     \u001b[0;32mif\u001b[0m \u001b[0mbound\u001b[0m \u001b[0;32mis\u001b[0m \u001b[0;32mNone\u001b[0m\u001b[0;34m:\u001b[0m\u001b[0;34m\u001b[0m\u001b[0;34m\u001b[0m\u001b[0m\n\u001b[0;32m---> 54\u001b[0;31m         \u001b[0;32mreturn\u001b[0m \u001b[0m_wrapit\u001b[0m\u001b[0;34m(\u001b[0m\u001b[0mobj\u001b[0m\u001b[0;34m,\u001b[0m \u001b[0mmethod\u001b[0m\u001b[0;34m,\u001b[0m \u001b[0;34m*\u001b[0m\u001b[0margs\u001b[0m\u001b[0;34m,\u001b[0m \u001b[0;34m**\u001b[0m\u001b[0mkwds\u001b[0m\u001b[0;34m)\u001b[0m\u001b[0;34m\u001b[0m\u001b[0;34m\u001b[0m\u001b[0m\n\u001b[0m\u001b[1;32m     55\u001b[0m \u001b[0;34m\u001b[0m\u001b[0m\n\u001b[1;32m     56\u001b[0m     \u001b[0;32mtry\u001b[0m\u001b[0;34m:\u001b[0m\u001b[0;34m\u001b[0m\u001b[0;34m\u001b[0m\u001b[0m\n",
            "\u001b[0;32m/usr/local/lib/python3.8/dist-packages/numpy/core/fromnumeric.py\u001b[0m in \u001b[0;36m_wrapit\u001b[0;34m(obj, method, *args, **kwds)\u001b[0m\n\u001b[1;32m     41\u001b[0m     \u001b[0;32mexcept\u001b[0m \u001b[0mAttributeError\u001b[0m\u001b[0;34m:\u001b[0m\u001b[0;34m\u001b[0m\u001b[0;34m\u001b[0m\u001b[0m\n\u001b[1;32m     42\u001b[0m         \u001b[0mwrap\u001b[0m \u001b[0;34m=\u001b[0m \u001b[0;32mNone\u001b[0m\u001b[0;34m\u001b[0m\u001b[0;34m\u001b[0m\u001b[0m\n\u001b[0;32m---> 43\u001b[0;31m     \u001b[0mresult\u001b[0m \u001b[0;34m=\u001b[0m \u001b[0mgetattr\u001b[0m\u001b[0;34m(\u001b[0m\u001b[0masarray\u001b[0m\u001b[0;34m(\u001b[0m\u001b[0mobj\u001b[0m\u001b[0;34m)\u001b[0m\u001b[0;34m,\u001b[0m \u001b[0mmethod\u001b[0m\u001b[0;34m)\u001b[0m\u001b[0;34m(\u001b[0m\u001b[0;34m*\u001b[0m\u001b[0margs\u001b[0m\u001b[0;34m,\u001b[0m \u001b[0;34m**\u001b[0m\u001b[0mkwds\u001b[0m\u001b[0;34m)\u001b[0m\u001b[0;34m\u001b[0m\u001b[0;34m\u001b[0m\u001b[0m\n\u001b[0m\u001b[1;32m     44\u001b[0m     \u001b[0;32mif\u001b[0m \u001b[0mwrap\u001b[0m\u001b[0;34m:\u001b[0m\u001b[0;34m\u001b[0m\u001b[0;34m\u001b[0m\u001b[0m\n\u001b[1;32m     45\u001b[0m         \u001b[0;32mif\u001b[0m \u001b[0;32mnot\u001b[0m \u001b[0misinstance\u001b[0m\u001b[0;34m(\u001b[0m\u001b[0mresult\u001b[0m\u001b[0;34m,\u001b[0m \u001b[0mmu\u001b[0m\u001b[0;34m.\u001b[0m\u001b[0mndarray\u001b[0m\u001b[0;34m)\u001b[0m\u001b[0;34m:\u001b[0m\u001b[0;34m\u001b[0m\u001b[0;34m\u001b[0m\u001b[0m\n",
            "\u001b[0;31mValueError\u001b[0m: could not broadcast input array from shape (1956,1) into shape (1956,)"
          ]
        }
      ],
      "source": [
        "#np.reshape(pred_Y,(num_text))\n",
        "result = [test_id, pred_Y]\n",
        "df_result = pd.DataFrame(np.transpose(result),columns = columns)"
      ]
    },
    {
      "cell_type": "markdown",
      "metadata": {
        "id": "tmVLw7RFFXza"
      },
      "source": [
        "clear the /kaggle/working"
      ]
    },
    {
      "cell_type": "code",
      "execution_count": 203,
      "metadata": {
        "colab": {
          "base_uri": "https://localhost:8080/",
          "height": 282
        },
        "id": "NoHvWmlKFXza",
        "outputId": "40003c62-af2a-40bf-d5f4-58a0a5318967"
      },
      "outputs": [
        {
          "output_type": "execute_result",
          "data": {
            "text/plain": [
              "[<matplotlib.lines.Line2D at 0x7f6dcad982b0>]"
            ]
          },
          "metadata": {},
          "execution_count": 203
        },
        {
          "output_type": "display_data",
          "data": {
            "text/plain": [
              "<Figure size 432x288 with 1 Axes>"
            ],
            "image/png": "[encoded data removed]"
          },
          "metadata": {
            "needs_background": "light"
          }
        }
      ],
      "source": [
        "i = range(num_text)\n",
        "plt.plot(i,df_result['cohesion'])"
      ]
    },
    {
      "cell_type": "code",
      "execution_count": null,
      "metadata": {
        "id": "N8KB0XdnFXza"
      },
      "outputs": [],
      "source": [
        "df_result.to_csv('/kaggle/working/submission.csv')"
      ]
    }
  ],
  "metadata": {
    "colab": {
      "provenance": [],
      "include_colab_link": true
    },
    "gpuClass": "standard",
    "kernelspec": {
      "display_name": "Python 3",
      "language": "python",
      "name": "python3"
    },
    "language_info": {
      "codemirror_mode": {
        "name": "ipython",
        "version": 3
      },
      "file_extension": ".py",
      "mimetype": "text/x-python",
      "name": "python",
      "nbconvert_exporter": "python",
      "pygments_lexer": "ipython3",
      "version": "3.7.12"
    }
  },
  "nbformat": 4,
  "nbformat_minor": 0
}