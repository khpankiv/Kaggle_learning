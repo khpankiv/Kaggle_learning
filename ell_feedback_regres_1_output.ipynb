{
  "cells": [
    {
      "cell_type": "markdown",
      "metadata": {
        "id": "view-in-github",
        "colab_type": "text"
      },
      "source": [
        "<a href=\"https://colab.research.google.com/github/khpankiv/Kaggle_learning/blob/normalization/ell_feedback_regres_1_output.ipynb\" target=\"_parent\"><img src=\"https://colab.research.google.com/assets/colab-badge.svg\" alt=\"Open In Colab\"/></a>"
      ]
    },
    {
      "cell_type": "markdown",
      "metadata": {
        "id": "o4LbkUiJFXzK"
      },
      "source": [
        "# **Setup**"
      ]
    },
    {
      "cell_type": "code",
      "execution_count": 1,
      "metadata": {
        "id": "Ex-mHNlBFXzP"
      },
      "outputs": [],
      "source": [
        "# A dependency of the preprocessing for BERT inputs\n",
        "#!pip install -q -U \"tensorflow-text==2.8.*\""
      ]
    },
    {
      "cell_type": "code",
      "execution_count": 2,
      "metadata": {
        "id": "qaABTKcFFXzQ",
        "colab": {
          "base_uri": "https://localhost:8080/"
        },
        "outputId": "b4a21368-42b6-4b90-8d58-618afb036649"
      },
      "outputs": [
        {
          "output_type": "stream",
          "name": "stderr",
          "text": [
            "2022-12-21 17:36:55.568448: W tensorflow/stream_executor/platform/default/dso_loader.cc:64] Could not load dynamic library 'libcudart.so.11.0'; dlerror: libcudart.so.11.0: cannot open shared object file: No such file or directory\n",
            "2022-12-21 17:36:55.568506: I tensorflow/stream_executor/cuda/cudart_stub.cc:29] Ignore above cudart dlerror if you do not have a GPU set up on your machine.\n"
          ]
        }
      ],
      "source": [
        "import pandas as pd\n",
        "import numpy as np\n",
        "import tensorflow as tf\n",
        "import tensorflow_hub as hub\n",
        "import tensorflow_text as text\n",
        "import matplotlib.pyplot as plt"
      ]
    },
    {
      "cell_type": "markdown",
      "metadata": {
        "id": "_RfSQGv9FXzQ"
      },
      "source": [
        "# **Read the datasets**"
      ]
    },
    {
      "cell_type": "code",
      "source": [
        "#! cp /mnt/c/users/Khrystyna/Downloads/kaggle.json ~/.kaggle/\n",
        "#! chmod 600 ~/.kaggle/kaggle.json"
      ],
      "metadata": {
        "id": "V8g3M9ZSKS3k"
      },
      "execution_count": 3,
      "outputs": []
    },
    {
      "cell_type": "code",
      "execution_count": 4,
      "metadata": {
        "id": "RhM4hlDaI4aD"
      },
      "outputs": [],
      "source": [
        "\n",
        "#test= pd.read_csv(\"./ELL/test.csv\")\n",
        "#test_sub=pd.read_csv(\"./ELL/sample_submission.csv\")"
      ]
    },
    {
      "cell_type": "code",
      "execution_count": 30,
      "metadata": {
        "id": "smOXeI8LFXzR"
      },
      "outputs": [],
      "source": [
        "train= pd.read_csv(\"./ELL/train.csv\")\n",
        "train = train.sample(frac = 0.2)\n",
        "test = train.iloc[:,0:2]\n",
        "test_sub = train.iloc[:,[0,2]]"
      ]
    },
    {
      "cell_type": "code",
      "source": [
        "print(train.shape)"
      ],
      "metadata": {
        "colab": {
          "base_uri": "https://localhost:8080/"
        },
        "id": "weUUsNFZtV4R",
        "outputId": "7399812e-c8cb-42bf-e963-9cb38bdd93a7"
      },
      "execution_count": 31,
      "outputs": [
        {
          "output_type": "stream",
          "name": "stdout",
          "text": [
            "(782, 8)\n"
          ]
        }
      ]
    },
    {
      "cell_type": "markdown",
      "metadata": {
        "id": "KK2GL4F9FXzS"
      },
      "source": [
        "Data preprocessing: changing grades into integer"
      ]
    },
    {
      "cell_type": "code",
      "execution_count": 32,
      "metadata": {
        "id": "dWr95wpOFXzS"
      },
      "outputs": [],
      "source": [
        "num_text = train.shape[0]\n",
        "#batch_size = 32\n",
        "#num_baches = round(num_text/batch_size)\n",
        "#num_text = num_baches*batch_size\n",
        "columns = ['text_id','cohesion']\n",
        "train_X = train[:].full_text.values\n",
        "#np.reshape(train_X,(batch_size,num_baches))\n",
        "train_Y_n = (train.iloc[:,2].values)*2-2\n",
        "#np.reshape(train_Y_n,(batch_size,num_baches))\n",
        "#train_Y = tf.keras.utils.to_categorical(train_Y_n)\n",
        "train_Y = train_Y_n\n",
        "test_X = train_X\n",
        "test_id = test.text_id.values\n",
        "test_Y = (train.iloc[:,2].values)\n",
        "#np.reshape(test_Y,(batch_size,num_baches))"
      ]
    },
    {
      "cell_type": "code",
      "execution_count": 33,
      "metadata": {
        "id": "CrMQKV1n4nrs"
      },
      "outputs": [],
      "source": [
        "distribution = train['cohesion']. value_counts(1).sort_index()\n",
        "#distr=distribution.values\n",
        "distr = dict(zip(range(9), 1/distribution.values))"
      ]
    },
    {
      "cell_type": "markdown",
      "metadata": {
        "id": "S1AVQeFHFXzT"
      },
      "source": [
        "# **Define the model**\n",
        "A simple fine-tuned model, with the preprocessing model, the selected BERT model, one Dense with Softmax output and a Dropout layer."
      ]
    },
    {
      "cell_type": "markdown",
      "metadata": {
        "id": "21jrhqNwFXzU"
      },
      "source": [
        "Add BERT models"
      ]
    },
    {
      "cell_type": "code",
      "execution_count": 9,
      "metadata": {
        "id": "fJo1PV0XFXzU"
      },
      "outputs": [],
      "source": [
        "tfhub_preprocess = \"https://tfhub.dev/tensorflow/bert_en_uncased_preprocess/3\"\n",
        "tfhub_encoder = \"https://tfhub.dev/tensorflow/bert_en_uncased_L-12_H-768_A-12/4\""
      ]
    },
    {
      "cell_type": "code",
      "execution_count": 10,
      "metadata": {
        "id": "GKbI8rGoTTGj"
      },
      "outputs": [],
      "source": [
        "  #preprocess_model = hub.KerasLayer(tfhub_preprocess)\n",
        "  #encoder_inputs = preprocess_model(train_X)\n",
        "  #encoder = hub.KerasLayer(tfhub_encoder, trainable=False)\n",
        "  #outputs = encoder(encoder_inputs)\n",
        "  #output = outputs['pooled_output']"
      ]
    },
    {
      "cell_type": "code",
      "execution_count": 11,
      "metadata": {
        "id": "rHYV0NBqxXdi"
      },
      "outputs": [],
      "source": [
        "#input_shape = output.shape[1]"
      ]
    },
    {
      "cell_type": "code",
      "source": [
        "batch_size = 1"
      ],
      "metadata": {
        "id": "OXQUxrvYVGqP"
      },
      "execution_count": 20,
      "outputs": []
    },
    {
      "cell_type": "code",
      "execution_count": 63,
      "metadata": {
        "id": "hsQlcJAbFXzW"
      },
      "outputs": [],
      "source": [
        "def build_classifier_model(activ,num_output):\n",
        "  text_input = tf.keras.layers.Input(shape = (),batch_size = batch_size, dtype=tf.string, name = 'text')\n",
        "  preprocessing_layer = hub.KerasLayer(tfhub_preprocess)\n",
        "  encoder_inputs = preprocessing_layer(text_input)\n",
        "  encoder = hub.KerasLayer(tfhub_encoder, trainable=False)\n",
        "  outputs = encoder(encoder_inputs)\n",
        "  output_not_normalized = outputs['pooled_output']\n",
        "  normalization = tf.keras.layers.Normalization(mean = 0, variance = 1)\n",
        "  output = normalization(output_not_normalized)\n",
        "  output = tf.keras.layers.Dense(256,activation='ReLU')(output)\n",
        "  #output = tf.keras.layers.Dense(128, activation='ReLU')(output)\n",
        "#  output = tf.keras.layers.Dense(64, activation='ReLU')(output) \n",
        "  output = tf.keras.layers.Dense(32, activation='ReLU')(output)\n",
        " # output = tf.keras.layers.Dense(16, activation='ReLU')(output)\n",
        "  output = tf.keras.layers.Dense(32, activation='ReLU')(output)\n",
        "#net_1 = tf.keras.layers.Dropout(0.1)(output_2)\n",
        "  net_1 = tf.keras.layers.Dense(num_output, activation = activ)(output)\n",
        "  return tf.keras.Model(text_input, net_1)"
      ]
    },
    {
      "cell_type": "code",
      "execution_count": 64,
      "metadata": {
        "id": "uW8vEfNMFXzX"
      },
      "outputs": [],
      "source": [
        "classifier_model = build_classifier_model('linear',1)"
      ]
    },
    {
      "cell_type": "markdown",
      "metadata": {
        "id": "NEHxh2NAFXzX"
      },
      "source": [
        "# **Model training**"
      ]
    },
    {
      "cell_type": "code",
      "execution_count": 65,
      "metadata": {
        "id": "bbWnydALFXzX"
      },
      "outputs": [],
      "source": [
        "epochs = 3\n",
        "#loss = tf.keras.losses.MeanSquaredError(reduction = 'auto')"
      ]
    },
    {
      "cell_type": "code",
      "source": [
        "   # from google3.third_party.tensorflow.core.protobuf import rewriter_config_pb2\n",
        "    #    config_proto = tf.ConfigProto()\n",
        "#    off = rewriter_config_pb2.RewriterConfig.OFF\n",
        " #   config_proto.graph_options.rewrite_options.arithmetic_optimization = off\n",
        "  #    session = tf.Session(config=config_proto)"
      ],
      "metadata": {
        "id": "-sh7RnYVL2Bg"
      },
      "execution_count": 16,
      "outputs": []
    },
    {
      "cell_type": "markdown",
      "source": [],
      "metadata": {
        "id": "avH4Br0t0TYH"
      }
    },
    {
      "cell_type": "code",
      "execution_count": 66,
      "metadata": {
        "id": "icc5Zq8AFXzX"
      },
      "outputs": [],
      "source": [
        "classifier_model.compile(optimizer = 'adam',\n",
        "                         loss = 'mse',\n",
        "                         metrics = 'mse')"
      ]
    },
    {
      "cell_type": "code",
      "execution_count": 67,
      "metadata": {
        "id": "OtisLNrtFXzY",
        "colab": {
          "base_uri": "https://localhost:8080/"
        },
        "outputId": "874552eb-dccf-42a4-a98e-aef2a4177abb"
      },
      "outputs": [
        {
          "output_type": "stream",
          "name": "stdout",
          "text": [
            "Epoch 1/3\n",
            "782/782 [==============================] - 257s 318ms/step - loss: 72.2305 - mse: 4.6552\n",
            "Epoch 2/3\n",
            "782/782 [==============================] - 250s 320ms/step - loss: 62.9184 - mse: 4.6059\n",
            "Epoch 3/3\n",
            "782/782 [==============================] - 234s 299ms/step - loss: 78.3467 - mse: 2.8023\n"
          ]
        }
      ],
      "source": [
        "history = classifier_model.fit(x = train_X,\n",
        "                               y = train_Y,\n",
        "                               epochs = epochs,\n",
        "                               batch_size=batch_size, \n",
        "                               class_weight = distr)"
      ]
    },
    {
      "cell_type": "markdown",
      "metadata": {
        "id": "Dn0txPyoFXzY"
      },
      "source": [
        "# **Model evaluation**"
      ]
    },
    {
      "cell_type": "code",
      "execution_count": 57,
      "metadata": {
        "colab": {
          "base_uri": "https://localhost:8080/"
        },
        "id": "byS4AO0GFXzY",
        "outputId": "e1195225-73a3-4bd1-a90a-65c300ca85f8"
      },
      "outputs": [
        {
          "output_type": "stream",
          "name": "stdout",
          "text": [
            "dict_keys(['loss', 'mse'])\n"
          ]
        }
      ],
      "source": [
        "history_dict = history.history\n",
        "print(history_dict.keys())"
      ]
    },
    {
      "cell_type": "code",
      "execution_count": 58,
      "metadata": {
        "colab": {
          "base_uri": "https://localhost:8080/",
          "height": 519
        },
        "id": "2Zd4htWmFXzY",
        "outputId": "1e548fe0-6ecc-4fba-a9aa-6d1ac66a3422"
      },
      "outputs": [
        {
          "output_type": "stream",
          "name": "stderr",
          "text": [
            "WARNING:matplotlib.legend:No artists with labels found to put in legend.  Note that artists whose label start with an underscore are ignored when legend() is called with no argument.\n",
            "/tmp/ipykernel_4856/1484422864.py:6: MatplotlibDeprecationWarning: Auto-removal of overlapping axes is deprecated since 3.6 and will be removed two minor releases later; explicitly call ax.remove() as needed.\n",
            "  plt.subplot(2,1,1)\n"
          ]
        },
        {
          "output_type": "execute_result",
          "data": {
            "text/plain": [
              "[<matplotlib.lines.Line2D at 0x7f6de76add80>]"
            ]
          },
          "metadata": {},
          "execution_count": 58
        },
        {
          "output_type": "display_data",
          "data": {
            "text/plain": [
              "<Figure size 640x480 with 2 Axes>"
            ],
            "image/png": "[encoded data removed]"
          },
          "metadata": {}
        }
      ],
      "source": [
        "i = range(epochs)\n",
        "plt.figure(1)\n",
        "plt.title('Model evaluation')\n",
        "plt.legend()\n",
        "\n",
        "plt.subplot(2,1,1)\n",
        "plt.plot(i,history_dict['loss'],'r',label = \"Training loss\")\n",
        "\n",
        "plt.subplot(2,1,2)\n",
        "plt.plot(i,history_dict['mse'],'g',label = \"Training MSE\")\n",
        "\n"
      ]
    },
    {
      "cell_type": "code",
      "source": [
        "#t = test_X[0:5]"
      ],
      "metadata": {
        "id": "I2N_8v43WdPn"
      },
      "execution_count": null,
      "outputs": []
    },
    {
      "cell_type": "code",
      "execution_count": 68,
      "metadata": {
        "colab": {
          "base_uri": "https://localhost:8080/"
        },
        "id": "0D5f2VDDALon",
        "outputId": "af506aa8-bcba-4cfe-aca8-1056dcb10fcb"
      },
      "outputs": [
        {
          "output_type": "stream",
          "name": "stdout",
          "text": [
            "25/25 [==============================] - 133s 5s/step\n"
          ]
        }
      ],
      "source": [
        "test_Y_n = classifier_model.predict(test_X,verbose = 1)"
      ]
    },
    {
      "cell_type": "code",
      "execution_count": null,
      "metadata": {
        "id": "1kpgz5RvPnGq"
      },
      "outputs": [],
      "source": [
        "#print(test_Y_n)"
      ]
    },
    {
      "cell_type": "code",
      "execution_count": 69,
      "metadata": {
        "id": "rse4POt3FXzZ"
      },
      "outputs": [],
      "source": [
        "pred_test_Y=(np.argmax(test_Y_n,1)+2)/2\n",
        "pred_Y=np.transpose(pred_test_Y)"
      ]
    },
    {
      "cell_type": "code",
      "execution_count": 61,
      "metadata": {
        "colab": {
          "base_uri": "https://localhost:8080/"
        },
        "id": "OrREFUpnIctn",
        "outputId": "76b9a3dd-2fcd-4922-a593-fef2b1795117"
      },
      "outputs": [
        {
          "output_type": "stream",
          "name": "stdout",
          "text": [
            "[1. 1. 1. 1. 1. 1. 1. 1. 1. 1. 1. 1. 1. 1. 1. 1. 1. 1. 1. 1. 1. 1. 1. 1.\n",
            " 1. 1. 1. 1. 1. 1. 1. 1. 1. 1. 1. 1. 1. 1. 1. 1. 1. 1. 1. 1. 1. 1. 1. 1.\n",
            " 1. 1. 1. 1. 1. 1. 1. 1. 1. 1. 1. 1. 1. 1. 1. 1. 1. 1. 1. 1. 1. 1. 1. 1.\n",
            " 1. 1. 1. 1. 1. 1. 1. 1. 1. 1. 1. 1. 1. 1. 1. 1. 1. 1. 1. 1. 1. 1. 1. 1.\n",
            " 1. 1. 1. 1. 1. 1. 1. 1. 1. 1. 1. 1. 1. 1. 1. 1. 1. 1. 1. 1. 1. 1. 1. 1.\n",
            " 1. 1. 1. 1. 1. 1. 1. 1. 1. 1. 1. 1. 1. 1. 1. 1. 1. 1. 1. 1. 1. 1. 1. 1.\n",
            " 1. 1. 1. 1. 1. 1. 1. 1. 1. 1. 1. 1. 1. 1. 1. 1. 1. 1. 1. 1. 1. 1. 1. 1.\n",
            " 1. 1. 1. 1. 1. 1. 1. 1. 1. 1. 1. 1. 1. 1. 1. 1. 1. 1. 1. 1. 1. 1. 1. 1.\n",
            " 1. 1. 1. 1. 1. 1. 1. 1. 1. 1. 1. 1. 1. 1. 1. 1. 1. 1. 1. 1. 1. 1. 1. 1.\n",
            " 1. 1. 1. 1. 1. 1. 1. 1. 1. 1. 1. 1. 1. 1. 1. 1. 1. 1. 1. 1. 1. 1. 1. 1.\n",
            " 1. 1. 1. 1. 1. 1. 1. 1. 1. 1. 1. 1. 1. 1. 1. 1. 1. 1. 1. 1. 1. 1. 1. 1.\n",
            " 1. 1. 1. 1. 1. 1. 1. 1. 1. 1. 1. 1. 1. 1. 1. 1. 1. 1. 1. 1. 1. 1. 1. 1.\n",
            " 1. 1. 1. 1. 1. 1. 1. 1. 1. 1. 1. 1. 1. 1. 1. 1. 1. 1. 1. 1. 1. 1. 1. 1.\n",
            " 1. 1. 1. 1. 1. 1. 1. 1. 1. 1. 1. 1. 1. 1. 1. 1. 1. 1. 1. 1. 1. 1. 1. 1.\n",
            " 1. 1. 1. 1. 1. 1. 1. 1. 1. 1. 1. 1. 1. 1. 1. 1. 1. 1. 1. 1. 1. 1. 1. 1.\n",
            " 1. 1. 1. 1. 1. 1. 1. 1. 1. 1. 1. 1. 1. 1. 1. 1. 1. 1. 1. 1. 1. 1. 1. 1.\n",
            " 1. 1. 1. 1. 1. 1. 1. 1. 1. 1. 1. 1. 1. 1. 1. 1. 1. 1. 1. 1. 1. 1. 1. 1.\n",
            " 1. 1. 1. 1. 1. 1. 1. 1. 1. 1. 1. 1. 1. 1. 1. 1. 1. 1. 1. 1. 1. 1. 1. 1.\n",
            " 1. 1. 1. 1. 1. 1. 1. 1. 1. 1. 1. 1. 1. 1. 1. 1. 1. 1. 1. 1. 1. 1. 1. 1.\n",
            " 1. 1. 1. 1. 1. 1. 1. 1. 1. 1. 1. 1. 1. 1. 1. 1. 1. 1. 1. 1. 1. 1. 1. 1.\n",
            " 1. 1. 1. 1. 1. 1. 1. 1. 1. 1. 1. 1. 1. 1. 1. 1. 1. 1. 1. 1. 1. 1. 1. 1.\n",
            " 1. 1. 1. 1. 1. 1. 1. 1. 1. 1. 1. 1. 1. 1. 1. 1. 1. 1. 1. 1. 1. 1. 1. 1.\n",
            " 1. 1. 1. 1. 1. 1. 1. 1. 1. 1. 1. 1. 1. 1. 1. 1. 1. 1. 1. 1. 1. 1. 1. 1.\n",
            " 1. 1. 1. 1. 1. 1. 1. 1. 1. 1. 1. 1. 1. 1. 1. 1. 1. 1. 1. 1. 1. 1. 1. 1.\n",
            " 1. 1. 1. 1. 1. 1. 1. 1. 1. 1. 1. 1. 1. 1. 1. 1. 1. 1. 1. 1. 1. 1. 1. 1.\n",
            " 1. 1. 1. 1. 1. 1. 1. 1. 1. 1. 1. 1. 1. 1. 1. 1. 1. 1. 1. 1. 1. 1. 1. 1.\n",
            " 1. 1. 1. 1. 1. 1. 1. 1. 1. 1. 1. 1. 1. 1. 1. 1. 1. 1. 1. 1. 1. 1. 1. 1.\n",
            " 1. 1. 1. 1. 1. 1. 1. 1. 1. 1. 1. 1. 1. 1. 1. 1. 1. 1. 1. 1. 1. 1. 1. 1.\n",
            " 1. 1. 1. 1. 1. 1. 1. 1. 1. 1. 1. 1. 1. 1. 1. 1. 1. 1. 1. 1. 1. 1. 1. 1.\n",
            " 1. 1. 1. 1. 1. 1. 1. 1. 1. 1. 1. 1. 1. 1. 1. 1. 1. 1. 1. 1. 1. 1. 1. 1.\n",
            " 1. 1. 1. 1. 1. 1. 1. 1. 1. 1. 1. 1. 1. 1. 1. 1. 1. 1. 1. 1. 1. 1. 1. 1.\n",
            " 1. 1. 1. 1. 1. 1. 1. 1. 1. 1. 1. 1. 1. 1. 1. 1. 1. 1. 1. 1. 1. 1. 1. 1.\n",
            " 1. 1. 1. 1. 1. 1. 1. 1. 1. 1. 1. 1. 1. 1.]\n"
          ]
        }
      ],
      "source": [
        "print(pred_test_Y)"
      ]
    },
    {
      "cell_type": "code",
      "execution_count": 70,
      "metadata": {
        "colab": {
          "base_uri": "https://localhost:8080/"
        },
        "id": "dL-ydqvzFXzZ",
        "outputId": "e8a81f69-6dfb-41cc-fe11-4b9c3bdb4a87"
      },
      "outputs": [
        {
          "output_type": "stream",
          "name": "stdout",
          "text": [
            "MCRMSE =  2.238425757563284\n"
          ]
        }
      ],
      "source": [
        "mcrmse_test = (1/(np.sqrt(num_text)))*np.sum(np.sqrt(np.sum(np.square(pred_Y-test_Y),axis=0)))\n",
        "print('MCRMSE = ',mcrmse_test) "
      ]
    },
    {
      "cell_type": "markdown",
      "metadata": {
        "id": "Vx3FdXLkFXzZ"
      },
      "source": [
        "MCRMSE =  0.617284905504784 5 epochs\n",
        "\n",
        "MCRMSE =  0.6333342304873718 10 epochs\n",
        "\n",
        "MCRMSE =  0.6012389019459027 10 epochs bached 32\n",
        "\n",
        "MCRMSE =  0.6137303634466796 5 epochs batched tuned\n",
        "\n",
        "MCRMSE =  0.5939521873178615 5 epochs 2 dense\n",
        "  \n",
        "MCRMSE =  0.5827963961318415 10 epochs 5 dense\n",
        "\n",
        "MCRMSE =  0.47713642331475004  1 epoch 3 dense shaped"
      ]
    },
    {
      "cell_type": "markdown",
      "metadata": {
        "id": "rTVBtJRBFXzZ"
      },
      "source": [
        "# **create output file**"
      ]
    },
    {
      "cell_type": "code",
      "execution_count": null,
      "metadata": {
        "id": "7hdkbzQ0FXza"
      },
      "outputs": [],
      "source": [
        "#np.reshape(pred_Y,(num_text))\n",
        "result = [test_id, pred_Y]\n",
        "df_result = pd.DataFrame(np.transpose(result),columns = columns)"
      ]
    },
    {
      "cell_type": "markdown",
      "metadata": {
        "id": "tmVLw7RFFXza"
      },
      "source": [
        "clear the /kaggle/working"
      ]
    },
    {
      "cell_type": "code",
      "execution_count": null,
      "metadata": {
        "id": "-Se26iuqFXza"
      },
      "outputs": [],
      "source": [
        "print(num_text)"
      ]
    },
    {
      "cell_type": "code",
      "execution_count": null,
      "metadata": {
        "id": "NoHvWmlKFXza"
      },
      "outputs": [],
      "source": [
        "i = range(num_text)\n",
        "plt.plot(i,df_result['cohesion'])"
      ]
    },
    {
      "cell_type": "code",
      "execution_count": null,
      "metadata": {
        "id": "N8KB0XdnFXza"
      },
      "outputs": [],
      "source": [
        "№df_result.to_csv('/kaggle/working/submission.csv')"
      ]
    }
  ],
  "metadata": {
    "accelerator": "TPU",
    "colab": {
      "provenance": [],
      "include_colab_link": true
    },
    "gpuClass": "standard",
    "kernelspec": {
      "display_name": "Python 3",
      "language": "python",
      "name": "python3"
    },
    "language_info": {
      "codemirror_mode": {
        "name": "ipython",
        "version": 3
      },
      "file_extension": ".py",
      "mimetype": "text/x-python",
      "name": "python",
      "nbconvert_exporter": "python",
      "pygments_lexer": "ipython3",
      "version": "3.7.12"
    }
  },
  "nbformat": 4,
  "nbformat_minor": 0
}